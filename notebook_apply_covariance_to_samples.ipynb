{
 "cells": [
  {
   "cell_type": "markdown",
   "id": "e40ddec2",
   "metadata": {},
   "source": [
    "# Apply covariance matrix to i.i.d samples"
   ]
  },
  {
   "cell_type": "code",
   "execution_count": 1,
   "id": "9e2c4eef",
   "metadata": {
    "execution": {
     "iopub.execute_input": "2024-02-09T15:14:28.944349Z",
     "iopub.status.busy": "2024-02-09T15:14:28.944148Z",
     "iopub.status.idle": "2024-02-09T15:14:29.615525Z",
     "shell.execute_reply": "2024-02-09T15:14:29.614705Z"
    }
   },
   "outputs": [],
   "source": [
    "import sandy"
   ]
  },
  {
   "cell_type": "code",
   "execution_count": 2,
   "id": "b5548e43",
   "metadata": {
    "execution": {
     "iopub.execute_input": "2024-02-09T15:14:29.618452Z",
     "iopub.status.busy": "2024-02-09T15:14:29.618129Z",
     "iopub.status.idle": "2024-02-09T15:14:29.621369Z",
     "shell.execute_reply": "2024-02-09T15:14:29.620735Z"
    }
   },
   "outputs": [],
   "source": [
    "import numpy as np\n",
    "import pandas as pd"
   ]
  },
  {
   "cell_type": "code",
   "execution_count": 3,
   "id": "02407c34",
   "metadata": {
    "execution": {
     "iopub.execute_input": "2024-02-09T15:14:29.623644Z",
     "iopub.status.busy": "2024-02-09T15:14:29.623299Z",
     "iopub.status.idle": "2024-02-09T15:14:30.045448Z",
     "shell.execute_reply": "2024-02-09T15:14:30.044746Z"
    }
   },
   "outputs": [],
   "source": [
    "import matplotlib.pyplot as plt\n",
    "import seaborn as sns\n",
    "sns.set_style(\"whitegrid\")"
   ]
  },
  {
   "cell_type": "markdown",
   "id": "9456e07b",
   "metadata": {},
   "source": [
    "A multivariate normal distribution is a generalization of the one-dimensional normal distribution to higher dimensions.\n",
    "Such a distribution is specified by its mean $\\mathbf{\\mu}$ and covariance matrix $\\mathbf{\\Sigma}$, as in\n",
    "\n",
    "$$\n",
    "\\mathcal{N}\\left(\\mathbf{\\mu}, \\mathbf{\\Sigma}\\right)\n",
    "$$\n",
    "\n",
    "These parameters are analogous to the mean and variance of the one-dimensional normal distribution."
   ]
  },
  {
   "cell_type": "markdown",
   "id": "bf03c584",
   "metadata": {},
   "source": [
    "The covariance matrix $\\mathbf{\\Sigma}$ must be symmetric and positive-semidefinite (PSD) for proper sampling."
   ]
  },
  {
   "cell_type": "markdown",
   "id": "d3e618ed",
   "metadata": {},
   "source": [
    "## Sample i.i.d parameters"
   ]
  },
  {
   "cell_type": "markdown",
   "id": "c1bf7c4e",
   "metadata": {},
   "source": [
    "Draw $N$ samples of independent and identically distributed (i.i.d.) variables, such as,\n",
    "\n",
    "$$\n",
    "\\mathbf{Y} \\sim \\mathcal{N}\\left( \\mathbf{0}, \\mathbf{1}\\right)\n",
    "$$ \n",
    "\n",
    "where\n",
    "\n",
    "$$\n",
    "\\mathop{\\mathbb{E}} \\{ \\mathbf{Y} \\} \\rightarrow \\mathbf{0} =\n",
    "\\begin{bmatrix}\n",
    "0\\\\\n",
    "0\\\\\n",
    "\\end{bmatrix}\n",
    "\\;\\;\\text{and}\\;\\;\n",
    "\\mathop{\\mathbb{E}} \\{ \\mathbf{Y} \\mathbf{Y}^T \\} \\rightarrow \\mathbf{1} =\n",
    "\\begin{bmatrix}\n",
    "1 & 0\\\\\n",
    "0 & 1\\\\\n",
    "\\end{bmatrix}\n",
    "$$\n"
   ]
  },
  {
   "cell_type": "code",
   "execution_count": 4,
   "id": "4bfd8fe8",
   "metadata": {
    "execution": {
     "iopub.execute_input": "2024-02-09T15:14:30.048948Z",
     "iopub.status.busy": "2024-02-09T15:14:30.048489Z",
     "iopub.status.idle": "2024-02-09T15:14:30.056858Z",
     "shell.execute_reply": "2024-02-09T15:14:30.056225Z"
    }
   },
   "outputs": [
    {
     "data": {
      "text/plain": [
       "(2, 5000)"
      ]
     },
     "execution_count": 4,
     "metadata": {},
     "output_type": "execute_result"
    }
   ],
   "source": [
    "np.random.seed(seed=1)\n",
    "nsmp = 5000\n",
    "dim = 2\n",
    "y = pd.DataFrame(np.random.randn(dim, nsmp), index=[\"A\", \"B\"])\n",
    "y.shape"
   ]
  },
  {
   "cell_type": "markdown",
   "id": "b1c48879",
   "metadata": {},
   "source": [
    "Small correlation between parameters that goes to zero as $N \\rightarrow \\infty$"
   ]
  },
  {
   "cell_type": "code",
   "execution_count": 5,
   "id": "52fa30f6",
   "metadata": {
    "execution": {
     "iopub.execute_input": "2024-02-09T15:14:30.059107Z",
     "iopub.status.busy": "2024-02-09T15:14:30.058885Z",
     "iopub.status.idle": "2024-02-09T15:14:30.067445Z",
     "shell.execute_reply": "2024-02-09T15:14:30.066931Z"
    }
   },
   "outputs": [
    {
     "data": {
      "text/html": [
       "<div>\n",
       "<style scoped>\n",
       "    .dataframe tbody tr th:only-of-type {\n",
       "        vertical-align: middle;\n",
       "    }\n",
       "\n",
       "    .dataframe tbody tr th {\n",
       "        vertical-align: top;\n",
       "    }\n",
       "\n",
       "    .dataframe thead th {\n",
       "        text-align: right;\n",
       "    }\n",
       "</style>\n",
       "<table border=\"1\" class=\"dataframe\">\n",
       "  <thead>\n",
       "    <tr style=\"text-align: right;\">\n",
       "      <th></th>\n",
       "      <th>A</th>\n",
       "      <th>B</th>\n",
       "    </tr>\n",
       "  </thead>\n",
       "  <tbody>\n",
       "    <tr>\n",
       "      <th>A</th>\n",
       "      <td>1.00000e+00</td>\n",
       "      <td>7.30024e-03</td>\n",
       "    </tr>\n",
       "    <tr>\n",
       "      <th>B</th>\n",
       "      <td>7.30024e-03</td>\n",
       "      <td>1.00000e+00</td>\n",
       "    </tr>\n",
       "  </tbody>\n",
       "</table>\n",
       "</div>"
      ],
      "text/plain": [
       "            A           B\n",
       "A 1.00000e+00 7.30024e-03\n",
       "B 7.30024e-03 1.00000e+00"
      ]
     },
     "execution_count": 5,
     "metadata": {},
     "output_type": "execute_result"
    }
   ],
   "source": [
    "y.T.corr()"
   ]
  },
  {
   "cell_type": "code",
   "execution_count": 6,
   "id": "9e8fb597",
   "metadata": {
    "execution": {
     "iopub.execute_input": "2024-02-09T15:14:30.069690Z",
     "iopub.status.busy": "2024-02-09T15:14:30.069488Z",
     "iopub.status.idle": "2024-02-09T15:14:32.464566Z",
     "shell.execute_reply": "2024-02-09T15:14:32.463841Z"
    }
   },
   "outputs": [
    {
     "data": {
      "image/png": "[encoded data removed]",
      "text/plain": [
       "<Figure size 500x500 with 3 Axes>"
      ]
     },
     "metadata": {},
     "output_type": "display_data"
    }
   ],
   "source": [
    "g = sns.jointplot(data=y.T, x=\"A\", y=\"B\", kind=\"kde\")\n",
    "g.figure.set_dpi(100)\n",
    "g.figure.set_figwidth(5)\n",
    "g.figure.set_figheight(5)"
   ]
  },
  {
   "cell_type": "markdown",
   "id": "78a2aa09",
   "metadata": {},
   "source": [
    "## Introduce covariance term to i.i.d parameters"
   ]
  },
  {
   "cell_type": "markdown",
   "id": "962c2dec",
   "metadata": {},
   "source": [
    "Generate random 2x2 covariance matrix $\\mathbf{\\Sigma}$."
   ]
  },
  {
   "cell_type": "code",
   "execution_count": 7,
   "id": "75d3c69f",
   "metadata": {
    "execution": {
     "iopub.execute_input": "2024-02-09T15:14:32.467228Z",
     "iopub.status.busy": "2024-02-09T15:14:32.466986Z",
     "iopub.status.idle": "2024-02-09T15:14:32.476382Z",
     "shell.execute_reply": "2024-02-09T15:14:32.475784Z"
    }
   },
   "outputs": [
    {
     "data": {
      "text/plain": [
       "            A           B\n",
       "A 1.00000e+00 7.41465e-01\n",
       "B 7.41465e-01 1.00000e+00"
      ]
     },
     "execution_count": 7,
     "metadata": {},
     "output_type": "execute_result"
    }
   ],
   "source": [
    "C = sandy.CategoryCov.random_cov(\n",
    "    dim,\n",
    "    stdmax=10,  # max stdev is 10%\n",
    "    seed=5,  # fix seed for reproducibility\n",
    ")\n",
    "C.data.index = C.data.columns = [\"A\", \"B\"]\n",
    "C.get_corr()"
   ]
  },
  {
   "cell_type": "code",
   "execution_count": 8,
   "id": "7a1c7c5a",
   "metadata": {
    "execution": {
     "iopub.execute_input": "2024-02-09T15:14:32.479016Z",
     "iopub.status.busy": "2024-02-09T15:14:32.478530Z",
     "iopub.status.idle": "2024-02-09T15:14:32.483718Z",
     "shell.execute_reply": "2024-02-09T15:14:32.483216Z"
    }
   },
   "outputs": [
    {
     "data": {
      "text/plain": [
       "A   4.88411e+00\n",
       "B   6.11744e+00\n",
       "Name: STD, dtype: float64"
      ]
     },
     "execution_count": 8,
     "metadata": {},
     "output_type": "execute_result"
    }
   ],
   "source": [
    "# We assume standard deviations are relative (in %)\n",
    "C.get_std()"
   ]
  },
  {
   "cell_type": "markdown",
   "id": "a3e38b57",
   "metadata": {},
   "source": [
    "Application of covariance matrix to i.i.d. Normal samples."
   ]
  },
  {
   "cell_type": "markdown",
   "id": "dba033b5",
   "metadata": {},
   "source": [
    "$$\n",
    "\\mathbf{\\Sigma} = \\mathbf{L} \\mathbf{L^T}\n",
    "$$\n",
    "\n",
    "$$\n",
    "\\mathbf{Z} = \\mathbf{L} \\mathbf{Y} =\n",
    "\\begin{bmatrix}\n",
    "l_{1,1} & 0\\\\\n",
    "l_{2,1} & l_{2,2} \\\\\n",
    "\\end{bmatrix}\n",
    "\\begin{bmatrix}\n",
    "y_{1,1} & \\dots & y_{1,N} \\\\\n",
    "y_{2,1} & \\dots & y_{2,N}\\\\\n",
    "\\end{bmatrix} = \n",
    "\\begin{bmatrix}\n",
    "l_{1,1}y_{1,1} & l_{1,1}y_{1,2} & \\dots & l_{1,1}y_{1,N} \\\\\n",
    "l_{2,1}y_{1,1} + l_{2,2}y_{2,2} & l_{2,1}y_{1,2} + l_{2,2}y_{2,2} & \\dots & l_{2,1}y_{1,N} + l_{2,2}y_{2,N}\\\\\n",
    "\\end{bmatrix}\n",
    "$$\n",
    "\n",
    "with\n",
    "$$\n",
    "Z\\sim\\mathcal{N}\\left( \\mathbf{0}, \\mathbf{\\Sigma}\\right)\n",
    "$$"
   ]
  },
  {
   "cell_type": "markdown",
   "id": "68699240",
   "metadata": {},
   "source": [
    "Mean and covariance of generated samples $\\mathbf{Z}$:"
   ]
  },
  {
   "cell_type": "markdown",
   "id": "d924778b",
   "metadata": {},
   "source": [
    "$$\n",
    "\\mathop{\\mathbb{E}} \\{ \\mathbf{Z} \\} =\n",
    "\\mathop{\\mathbb{E}} \\{ \\mathbf{L} \\mathbf{Y} \\} =\n",
    "\\mathbf{L} \\mathop{\\mathbb{E}} \\{ \\mathbf{Y} \\} = \\mathbf{0}\n",
    "$$"
   ]
  },
  {
   "cell_type": "markdown",
   "id": "3855a4a1",
   "metadata": {},
   "source": [
    "$$\n",
    "\\mathop{\\mathbb{E}} \\{ \\mathbf{Z} \\mathbf{Z}^T \\} =\n",
    "\\mathop{\\mathbb{E}} \\{\\left( \\mathbf{L} \\mathbf{Y} \\right) \\left( \\mathbf{L} \\mathbf{Y} \\right)^T \\} =\n",
    "\\mathop{\\mathbb{E}} \\{ \\mathbf{L}^T \\mathbf{Y}^T \\mathbf{Y} \\mathbf{L} \\} =\n",
    "\\mathop{\\mathbb{E}} \\{ \\mathbf{L}^T \\mathbf{L} \\} =\n",
    "\\mathbf{\\Sigma}\n",
    "$$"
   ]
  },
  {
   "cell_type": "code",
   "execution_count": 9,
   "id": "69b2367a",
   "metadata": {
    "execution": {
     "iopub.execute_input": "2024-02-09T15:14:32.486461Z",
     "iopub.status.busy": "2024-02-09T15:14:32.486190Z",
     "iopub.status.idle": "2024-02-09T15:14:32.496426Z",
     "shell.execute_reply": "2024-02-09T15:14:32.495755Z"
    }
   },
   "outputs": [
    {
     "data": {
      "text/plain": [
       "(5000, 2)"
      ]
     },
     "execution_count": 9,
     "metadata": {},
     "output_type": "execute_result"
    }
   ],
   "source": [
    "samples = C.sampling(nsmp).data.T\n",
    "samples.shape"
   ]
  },
  {
   "cell_type": "code",
   "execution_count": 10,
   "id": "47d30259",
   "metadata": {
    "execution": {
     "iopub.execute_input": "2024-02-09T15:14:32.498871Z",
     "iopub.status.busy": "2024-02-09T15:14:32.498502Z",
     "iopub.status.idle": "2024-02-09T15:14:37.101025Z",
     "shell.execute_reply": "2024-02-09T15:14:37.100327Z"
    }
   },
   "outputs": [
    {
     "data": {
      "image/png": "[encoded data removed]",
      "text/plain": [
       "<Figure size 500x500 with 3 Axes>"
      ]
     },
     "metadata": {},
     "output_type": "display_data"
    }
   ],
   "source": [
    "g = sns.jointplot(data=samples, x=\"A\", y=\"B\", kind=\"kde\")\n",
    "g.figure.set_dpi(100)\n",
    "g.figure.set_figwidth(5)\n",
    "g.figure.set_figheight(5)"
   ]
  },
  {
   "cell_type": "code",
   "execution_count": 11,
   "id": "68d2f333",
   "metadata": {
    "execution": {
     "iopub.execute_input": "2024-02-09T15:14:37.103890Z",
     "iopub.status.busy": "2024-02-09T15:14:37.103432Z",
     "iopub.status.idle": "2024-02-09T15:14:37.110391Z",
     "shell.execute_reply": "2024-02-09T15:14:37.109829Z"
    }
   },
   "outputs": [
    {
     "data": {
      "text/html": [
       "<div>\n",
       "<style scoped>\n",
       "    .dataframe tbody tr th:only-of-type {\n",
       "        vertical-align: middle;\n",
       "    }\n",
       "\n",
       "    .dataframe tbody tr th {\n",
       "        vertical-align: top;\n",
       "    }\n",
       "\n",
       "    .dataframe thead th {\n",
       "        text-align: right;\n",
       "    }\n",
       "</style>\n",
       "<table border=\"1\" class=\"dataframe\">\n",
       "  <thead>\n",
       "    <tr style=\"text-align: right;\">\n",
       "      <th></th>\n",
       "      <th>A</th>\n",
       "      <th>B</th>\n",
       "    </tr>\n",
       "  </thead>\n",
       "  <tbody>\n",
       "    <tr>\n",
       "      <th>A</th>\n",
       "      <td>1.00000e+00</td>\n",
       "      <td>6.60621e-01</td>\n",
       "    </tr>\n",
       "    <tr>\n",
       "      <th>B</th>\n",
       "      <td>6.60621e-01</td>\n",
       "      <td>1.00000e+00</td>\n",
       "    </tr>\n",
       "  </tbody>\n",
       "</table>\n",
       "</div>"
      ],
      "text/plain": [
       "            A           B\n",
       "A 1.00000e+00 6.60621e-01\n",
       "B 6.60621e-01 1.00000e+00"
      ]
     },
     "execution_count": 11,
     "metadata": {},
     "output_type": "execute_result"
    }
   ],
   "source": [
    "samples.corr()"
   ]
  },
  {
   "cell_type": "code",
   "execution_count": 12,
   "id": "17f927cb",
   "metadata": {
    "execution": {
     "iopub.execute_input": "2024-02-09T15:14:37.113342Z",
     "iopub.status.busy": "2024-02-09T15:14:37.112895Z",
     "iopub.status.idle": "2024-02-09T15:14:37.119023Z",
     "shell.execute_reply": "2024-02-09T15:14:37.118530Z"
    }
   },
   "outputs": [
    {
     "data": {
      "text/plain": [
       "A   4.21955e+00\n",
       "B   3.62021e+00\n",
       "dtype: float64"
      ]
     },
     "execution_count": 12,
     "metadata": {},
     "output_type": "execute_result"
    }
   ],
   "source": [
    "samples.std()"
   ]
  }
 ],
 "metadata": {
  "kernelspec": {
   "display_name": "Python [conda env:sandy-v1.0] *",
   "language": "python",
   "name": "conda-env-sandy-v1.0-py"
  },
  "language_info": {
   "codemirror_mode": {
    "name": "ipython",
    "version": 3
   },
   "file_extension": ".py",
   "mimetype": "text/x-python",
   "name": "python",
   "nbconvert_exporter": "python",
   "pygments_lexer": "ipython3",
   "version": "3.12.1"
  }
 },
 "nbformat": 4,
 "nbformat_minor": 5
}
