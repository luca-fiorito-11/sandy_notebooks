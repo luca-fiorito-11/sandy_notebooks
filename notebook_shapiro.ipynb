{
 "cells": [
  {
   "cell_type": "markdown",
   "id": "cfc7bba9",
   "metadata": {},
   "source": [
    "# Shapiro-Wilk test for normal and lognormal distributions"
   ]
  },
  {
   "cell_type": "code",
   "execution_count": 1,
   "id": "8e456eaf",
   "metadata": {
    "execution": {
     "iopub.execute_input": "2023-08-22T12:12:19.712052Z",
     "iopub.status.busy": "2023-08-22T12:12:19.711815Z",
     "iopub.status.idle": "2023-08-22T12:12:20.119269Z",
     "shell.execute_reply": "2023-08-22T12:12:20.118594Z"
    }
   },
   "outputs": [],
   "source": [
    "import sandy"
   ]
  },
  {
   "cell_type": "code",
   "execution_count": 2,
   "id": "35fae75e",
   "metadata": {
    "execution": {
     "iopub.execute_input": "2023-08-22T12:12:20.122831Z",
     "iopub.status.busy": "2023-08-22T12:12:20.122354Z",
     "iopub.status.idle": "2023-08-22T12:12:20.125710Z",
     "shell.execute_reply": "2023-08-22T12:12:20.124969Z"
    }
   },
   "outputs": [],
   "source": [
    "import logging\n",
    "import pandas as pd\n",
    "import numpy as np"
   ]
  },
  {
   "cell_type": "code",
   "execution_count": 3,
   "id": "8e08433c",
   "metadata": {
    "execution": {
     "iopub.execute_input": "2023-08-22T12:12:20.128062Z",
     "iopub.status.busy": "2023-08-22T12:12:20.127687Z",
     "iopub.status.idle": "2023-08-22T12:12:20.676363Z",
     "shell.execute_reply": "2023-08-22T12:12:20.675713Z"
    }
   },
   "outputs": [],
   "source": [
    "import matplotlib.pyplot as plt\n",
    "import seaborn as sns"
   ]
  },
  {
   "cell_type": "code",
   "execution_count": 4,
   "id": "c57f6407",
   "metadata": {
    "execution": {
     "iopub.execute_input": "2023-08-22T12:12:20.680254Z",
     "iopub.status.busy": "2023-08-22T12:12:20.679650Z",
     "iopub.status.idle": "2023-08-22T12:12:20.683026Z",
     "shell.execute_reply": "2023-08-22T12:12:20.682429Z"
    }
   },
   "outputs": [],
   "source": [
    "logging.getLogger().setLevel(logging.WARN)"
   ]
  },
  {
   "cell_type": "markdown",
   "id": "8d1ddd57",
   "metadata": {},
   "source": [
    "Generate 5000 xs samples normally and log-normally distributed"
   ]
  },
  {
   "cell_type": "code",
   "execution_count": 5,
   "id": "fa73bbbc",
   "metadata": {
    "execution": {
     "iopub.execute_input": "2023-08-22T12:12:20.685576Z",
     "iopub.status.busy": "2023-08-22T12:12:20.685207Z",
     "iopub.status.idle": "2023-08-22T12:12:22.969584Z",
     "shell.execute_reply": "2023-08-22T12:12:22.968851Z"
    }
   },
   "outputs": [
    {
     "name": "stdout",
     "output_type": "stream",
     "text": [
      "\n",
      " njoy 2016.71  14Jul23                                       08/22/23 12:12:21\n",
      " *****************************************************************************\n",
      "\n",
      " moder...                                                                 0.0s\n",
      "\n",
      " reconr...                                                                0.0s\n",
      "\n",
      " moder...                                                                 0.0s\n",
      "\n",
      " errorr...                                                                0.0s\n",
      "\n",
      " processing mat   125\n",
      " ---------------------\n",
      "   1-H -  1 LANL       EVAL-OCT05 G.M.Hale                           \n",
      "\n",
      " covariances calculated for  1 reactions and  251 groups                  0.0s\n",
      "                                                                          0.1s\n",
      " *****************************************************************************\n",
      "\n",
      " njoy 2016.71  14Jul23                                       08/22/23 12:12:21\n",
      " *****************************************************************************\n",
      "\n",
      " moder...                                                                 0.0s\n",
      "\n",
      " reconr...                                                                0.0s\n",
      "\n",
      " moder...                                                                 0.0s\n",
      "\n",
      " errorr...                                                                0.0s\n",
      "\n",
      " processing mat   125\n",
      " ---------------------\n",
      "   1-H -  1 LANL       EVAL-OCT05 G.M.Hale                           \n",
      "\n",
      " covariances calculated for  1 reactions and  251 groups                  0.0s\n",
      "                                                                          0.1s\n",
      " *****************************************************************************\n",
      "\n",
      " njoy 2016.71  14Jul23                                       08/22/23 12:12:22\n",
      " *****************************************************************************\n",
      "\n",
      " moder...                                                                 0.0s\n",
      "\n",
      " reconr...                                                                0.0s\n",
      "\n",
      " moder...                                                                 0.0s\n",
      "\n",
      " errorr...                                                                0.0s\n",
      "\n",
      " processing mat   125\n",
      " ---------------------\n",
      "   1-H -  1 LANL       EVAL-OCT05 G.M.Hale                           \n",
      "\n",
      " covariances calculated for  1 reactions and  251 groups                  0.0s\n",
      "                                                                          0.1s\n",
      " *****************************************************************************\n"
     ]
    }
   ],
   "source": [
    "tape = sandy.get_endf6_file(\"jeff_33\", \"xs\", 10010)\n",
    "njoy_kws = dict(err=1, errorr33_kws=dict(mt=102))\n",
    "nsmp = 5000\n",
    "seed = 5\n",
    "\n",
    "smp_norm = tape.get_perturbations(nsmp, njoy_kws=njoy_kws, smp_kws=dict(seed33=seed, pdf=\"normal\"))[33]\n",
    "smp_lognorm = tape.get_perturbations(nsmp, njoy_kws=njoy_kws, smp_kws=dict(seed33=seed, pdf=\"lognormal\"))[33]\n",
    "smp_uniform = tape.get_perturbations(nsmp, njoy_kws=njoy_kws, smp_kws=dict(seed33=seed, pdf=\"uniform\"))[33]"
   ]
  },
  {
   "cell_type": "markdown",
   "id": "08f12802",
   "metadata": {},
   "source": [
    "##  Shapiro-Wilk test normal samples and normal distribution"
   ]
  },
  {
   "cell_type": "code",
   "execution_count": 6,
   "id": "4cf664f6",
   "metadata": {
    "execution": {
     "iopub.execute_input": "2023-08-22T12:12:22.972842Z",
     "iopub.status.busy": "2023-08-22T12:12:22.972584Z",
     "iopub.status.idle": "2023-08-22T12:12:23.739496Z",
     "shell.execute_reply": "2023-08-22T12:12:23.738875Z"
    }
   },
   "outputs": [
    {
     "name": "stderr",
     "output_type": "stream",
     "text": [
      "/opt/hostedtoolcache/Python/3.11.4/x64/lib/python3.11/site-packages/pandas/core/internals/blocks.py:329: RuntimeWarning: divide by zero encountered in log\n",
      "  result = func(self.values, **kwargs)\n",
      "/opt/hostedtoolcache/Python/3.11.4/x64/lib/python3.11/site-packages/pandas/core/internals/blocks.py:329: RuntimeWarning: divide by zero encountered in log\n",
      "  result = func(self.values, **kwargs)\n",
      "/opt/hostedtoolcache/Python/3.11.4/x64/lib/python3.11/site-packages/pandas/core/internals/blocks.py:329: RuntimeWarning: divide by zero encountered in log\n",
      "  result = func(self.values, **kwargs)\n",
      "/opt/hostedtoolcache/Python/3.11.4/x64/lib/python3.11/site-packages/pandas/core/internals/blocks.py:329: RuntimeWarning: divide by zero encountered in log\n",
      "  result = func(self.values, **kwargs)\n",
      "/opt/hostedtoolcache/Python/3.11.4/x64/lib/python3.11/site-packages/pandas/core/internals/blocks.py:329: RuntimeWarning: divide by zero encountered in log\n",
      "  result = func(self.values, **kwargs)\n",
      "/opt/hostedtoolcache/Python/3.11.4/x64/lib/python3.11/site-packages/pandas/core/internals/blocks.py:329: RuntimeWarning: divide by zero encountered in log\n",
      "  result = func(self.values, **kwargs)\n"
     ]
    },
    {
     "data": {
      "text/html": [
       "<div>\n",
       "<style scoped>\n",
       "    .dataframe tbody tr th:only-of-type {\n",
       "        vertical-align: middle;\n",
       "    }\n",
       "\n",
       "    .dataframe tbody tr th {\n",
       "        vertical-align: top;\n",
       "    }\n",
       "\n",
       "    .dataframe thead th {\n",
       "        text-align: right;\n",
       "    }\n",
       "</style>\n",
       "<table border=\"1\" class=\"dataframe\">\n",
       "  <thead>\n",
       "    <tr style=\"text-align: right;\">\n",
       "      <th></th>\n",
       "      <th>statistic_norm</th>\n",
       "      <th>pvalue_norm</th>\n",
       "      <th>statistic_lognorm</th>\n",
       "      <th>pvalue_lognorm</th>\n",
       "    </tr>\n",
       "    <tr>\n",
       "      <th># SMP</th>\n",
       "      <th></th>\n",
       "      <th></th>\n",
       "      <th></th>\n",
       "      <th></th>\n",
       "    </tr>\n",
       "  </thead>\n",
       "  <tbody>\n",
       "    <tr>\n",
       "      <th>10</th>\n",
       "      <td>6.89505e-01</td>\n",
       "      <td>6.57457e-04</td>\n",
       "      <td>9.23459e-01</td>\n",
       "      <td>8.40779e-45</td>\n",
       "    </tr>\n",
       "    <tr>\n",
       "      <th>50</th>\n",
       "      <td>9.76197e-01</td>\n",
       "      <td>4.04932e-01</td>\n",
       "      <td>9.23459e-01</td>\n",
       "      <td>8.40779e-45</td>\n",
       "    </tr>\n",
       "    <tr>\n",
       "      <th>100</th>\n",
       "      <td>9.87374e-01</td>\n",
       "      <td>4.63279e-01</td>\n",
       "      <td>9.23459e-01</td>\n",
       "      <td>8.40779e-45</td>\n",
       "    </tr>\n",
       "    <tr>\n",
       "      <th>500</th>\n",
       "      <td>9.86626e-01</td>\n",
       "      <td>1.50228e-04</td>\n",
       "      <td>9.23459e-01</td>\n",
       "      <td>8.40779e-45</td>\n",
       "    </tr>\n",
       "    <tr>\n",
       "      <th>1000</th>\n",
       "      <td>9.88225e-01</td>\n",
       "      <td>3.42968e-07</td>\n",
       "      <td>9.23459e-01</td>\n",
       "      <td>8.40779e-45</td>\n",
       "    </tr>\n",
       "    <tr>\n",
       "      <th>5000</th>\n",
       "      <td>9.90185e-01</td>\n",
       "      <td>3.71500e-18</td>\n",
       "      <td>9.23459e-01</td>\n",
       "      <td>8.40779e-45</td>\n",
       "    </tr>\n",
       "  </tbody>\n",
       "</table>\n",
       "</div>"
      ],
      "text/plain": [
       "       statistic_norm  pvalue_norm  statistic_lognorm  pvalue_lognorm\n",
       "# SMP                                                                \n",
       "10        6.89505e-01  6.57457e-04        9.23459e-01     8.40779e-45\n",
       "50        9.76197e-01  4.04932e-01        9.23459e-01     8.40779e-45\n",
       "100       9.87374e-01  4.63279e-01        9.23459e-01     8.40779e-45\n",
       "500       9.86626e-01  1.50228e-04        9.23459e-01     8.40779e-45\n",
       "1000      9.88225e-01  3.42968e-07        9.23459e-01     8.40779e-45\n",
       "5000      9.90185e-01  3.71500e-18        9.23459e-01     8.40779e-45"
      ]
     },
     "execution_count": 6,
     "metadata": {},
     "output_type": "execute_result"
    }
   ],
   "source": [
    "stat_norm = []\n",
    "stat_lognorm = []\n",
    "for n in [10, 50, 100, 500, 1000, 5000]:\n",
    "    df = smp_norm.test_shapiro(pdf=\"normal\", size=n)\n",
    "    idx = df.statistic.idxmin()\n",
    "    stat_norm.append(df.loc[idx].rename(n))\n",
    "\n",
    "    df = smp_norm.test_shapiro(pdf=\"lognormal\", size=n)\n",
    "    idx = df.statistic.idxmin()\n",
    "    stat_lognorm.append(df.loc[idx].rename(n))\n",
    "\n",
    "opts = dict(left_index=True, right_index=True, suffixes=(\"_norm\", \"_lognorm\"))\n",
    "pd.DataFrame(stat_norm).merge(pd.DataFrame(stat_lognorm), **opts).rename_axis(\"# SMP\")"
   ]
  },
  {
   "cell_type": "markdown",
   "id": "0559afc0",
   "metadata": {},
   "source": [
    "### Plot the distribution of the parameter with closest and farthest resemblance to a normal PDF"
   ]
  },
  {
   "cell_type": "code",
   "execution_count": 7,
   "id": "449bdf7d",
   "metadata": {
    "execution": {
     "iopub.execute_input": "2023-08-22T12:12:23.742291Z",
     "iopub.status.busy": "2023-08-22T12:12:23.741966Z",
     "iopub.status.idle": "2023-08-22T12:12:24.176527Z",
     "shell.execute_reply": "2023-08-22T12:12:24.175855Z"
    }
   },
   "outputs": [
    {
     "data": {
      "image/png": "[encoded data removed]",
      "text/plain": [
       "<Figure size 700x400 with 1 Axes>"
      ]
     },
     "metadata": {},
     "output_type": "display_data"
    }
   ],
   "source": [
    "test = smp_norm.test_shapiro(pdf=\"normal\", size=5000)\n",
    "\n",
    "fig, ax = plt.subplots(figsize=(7, 4), dpi=100)\n",
    "\n",
    "idx = test.statistic.idxmin()\n",
    "w = test.loc[idx]\n",
    "sns.histplot(data=smp_norm.data.loc[idx], label=f\"W:stat={w.statistic:.2e}, p-value={w.pvalue:.2e}\", color=\"dodgerblue\")\n",
    "\n",
    "idx = test.statistic.idxmax()\n",
    "w = test.loc[idx]\n",
    "sns.histplot(data=smp_norm.data.loc[idx], label=f\"W:stat={w.statistic:.2e}, p-value={w.pvalue:.2e}\", color=\"tomato\")\n",
    "\n",
    "ax.set(xlabel=\"W\")\n",
    "ax.legend()\n",
    "fig.tight_layout()"
   ]
  },
  {
   "cell_type": "markdown",
   "id": "78c3e97d",
   "metadata": {},
   "source": [
    "## Shapiro-Wilk test for lognormal samples and lognormal distribution"
   ]
  },
  {
   "cell_type": "code",
   "execution_count": 8,
   "id": "be16d4f1",
   "metadata": {
    "execution": {
     "iopub.execute_input": "2023-08-22T12:12:24.179404Z",
     "iopub.status.busy": "2023-08-22T12:12:24.178989Z",
     "iopub.status.idle": "2023-08-22T12:12:24.926507Z",
     "shell.execute_reply": "2023-08-22T12:12:24.925893Z"
    }
   },
   "outputs": [
    {
     "data": {
      "text/html": [
       "<div>\n",
       "<style scoped>\n",
       "    .dataframe tbody tr th:only-of-type {\n",
       "        vertical-align: middle;\n",
       "    }\n",
       "\n",
       "    .dataframe tbody tr th {\n",
       "        vertical-align: top;\n",
       "    }\n",
       "\n",
       "    .dataframe thead th {\n",
       "        text-align: right;\n",
       "    }\n",
       "</style>\n",
       "<table border=\"1\" class=\"dataframe\">\n",
       "  <thead>\n",
       "    <tr style=\"text-align: right;\">\n",
       "      <th></th>\n",
       "      <th>statistic_norm</th>\n",
       "      <th>pvalue_norm</th>\n",
       "      <th>statistic_lognorm</th>\n",
       "      <th>pvalue_lognorm</th>\n",
       "    </tr>\n",
       "    <tr>\n",
       "      <th># SMP</th>\n",
       "      <th></th>\n",
       "      <th></th>\n",
       "      <th></th>\n",
       "      <th></th>\n",
       "    </tr>\n",
       "  </thead>\n",
       "  <tbody>\n",
       "    <tr>\n",
       "      <th>10</th>\n",
       "      <td>8.57166e-01</td>\n",
       "      <td>7.06498e-02</td>\n",
       "      <td>9.99586e-01</td>\n",
       "      <td>3.80364e-01</td>\n",
       "    </tr>\n",
       "    <tr>\n",
       "      <th>50</th>\n",
       "      <td>9.05722e-01</td>\n",
       "      <td>7.46487e-04</td>\n",
       "      <td>9.99586e-01</td>\n",
       "      <td>3.80364e-01</td>\n",
       "    </tr>\n",
       "    <tr>\n",
       "      <th>100</th>\n",
       "      <td>9.42251e-01</td>\n",
       "      <td>2.65199e-04</td>\n",
       "      <td>9.99586e-01</td>\n",
       "      <td>3.80364e-01</td>\n",
       "    </tr>\n",
       "    <tr>\n",
       "      <th>500</th>\n",
       "      <td>9.15559e-01</td>\n",
       "      <td>4.32528e-16</td>\n",
       "      <td>9.99586e-01</td>\n",
       "      <td>3.80364e-01</td>\n",
       "    </tr>\n",
       "    <tr>\n",
       "      <th>1000</th>\n",
       "      <td>8.89965e-01</td>\n",
       "      <td>4.33435e-26</td>\n",
       "      <td>9.99586e-01</td>\n",
       "      <td>3.80364e-01</td>\n",
       "    </tr>\n",
       "    <tr>\n",
       "      <th>5000</th>\n",
       "      <td>9.01739e-01</td>\n",
       "      <td>0.00000e+00</td>\n",
       "      <td>9.99586e-01</td>\n",
       "      <td>3.80364e-01</td>\n",
       "    </tr>\n",
       "  </tbody>\n",
       "</table>\n",
       "</div>"
      ],
      "text/plain": [
       "       statistic_norm  pvalue_norm  statistic_lognorm  pvalue_lognorm\n",
       "# SMP                                                                \n",
       "10        8.57166e-01  7.06498e-02        9.99586e-01     3.80364e-01\n",
       "50        9.05722e-01  7.46487e-04        9.99586e-01     3.80364e-01\n",
       "100       9.42251e-01  2.65199e-04        9.99586e-01     3.80364e-01\n",
       "500       9.15559e-01  4.32528e-16        9.99586e-01     3.80364e-01\n",
       "1000      8.89965e-01  4.33435e-26        9.99586e-01     3.80364e-01\n",
       "5000      9.01739e-01  0.00000e+00        9.99586e-01     3.80364e-01"
      ]
     },
     "execution_count": 8,
     "metadata": {},
     "output_type": "execute_result"
    }
   ],
   "source": [
    "stat_norm = []\n",
    "stat_lognorm = []\n",
    "for n in [10, 50, 100, 500, 1000, 5000]:\n",
    "    df = smp_lognorm.test_shapiro(pdf=\"normal\", size=n)\n",
    "    idx = df.statistic.idxmin()\n",
    "    stat_norm.append(df.loc[idx].rename(n))\n",
    "\n",
    "    df = smp_lognorm.test_shapiro(pdf=\"lognormal\", size=n)\n",
    "    idx = df.statistic.idxmin()\n",
    "    stat_lognorm.append(df.loc[idx].rename(n))\n",
    "\n",
    "opts = dict(left_index=True, right_index=True, suffixes=(\"_norm\", \"_lognorm\"))\n",
    "pd.DataFrame(stat_norm).merge(pd.DataFrame(stat_lognorm), **opts).rename_axis(\"# SMP\")"
   ]
  },
  {
   "cell_type": "markdown",
   "id": "b40e1b23",
   "metadata": {},
   "source": [
    "### Plot the distribution of the parameter with closest and farthest resemblance to a lognormal PDF"
   ]
  },
  {
   "cell_type": "code",
   "execution_count": 9,
   "id": "8fa36199",
   "metadata": {
    "execution": {
     "iopub.execute_input": "2023-08-22T12:12:24.929099Z",
     "iopub.status.busy": "2023-08-22T12:12:24.928778Z",
     "iopub.status.idle": "2023-08-22T12:12:25.368402Z",
     "shell.execute_reply": "2023-08-22T12:12:25.367805Z"
    }
   },
   "outputs": [
    {
     "data": {
      "image/png": "[encoded data removed]",
      "text/plain": [
       "<Figure size 700x400 with 1 Axes>"
      ]
     },
     "metadata": {},
     "output_type": "display_data"
    }
   ],
   "source": [
    "test = smp_lognorm.test_shapiro(pdf=\"lognormal\", size=5000)\n",
    "\n",
    "fig, ax = plt.subplots(figsize=(7, 4), dpi=100)\n",
    "\n",
    "idx = test.statistic.idxmax()\n",
    "w = test.loc[idx]\n",
    "sns.histplot(data=smp_lognorm.data.loc[idx], label=f\"W:stat={w.statistic:.2e}, p-value={w.pvalue:.2e}\", color=\"tomato\")\n",
    "\n",
    "idx = test.statistic.idxmin()\n",
    "w = test.loc[idx]\n",
    "sns.histplot(data=smp_lognorm.data.loc[idx], label=f\"W:stat={w.statistic:.2e}, p-value={w.pvalue:.2e}\", color=\"dodgerblue\")\n",
    "\n",
    "ax.set(xlabel=\"W\")\n",
    "ax.legend()\n",
    "fig.tight_layout()"
   ]
  },
  {
   "cell_type": "markdown",
   "id": "975dbaa1",
   "metadata": {},
   "source": [
    "## Shapiro-Wilk test for uniform samples and normal distribution"
   ]
  },
  {
   "cell_type": "code",
   "execution_count": 10,
   "id": "bded2114",
   "metadata": {
    "execution": {
     "iopub.execute_input": "2023-08-22T12:12:25.370975Z",
     "iopub.status.busy": "2023-08-22T12:12:25.370777Z",
     "iopub.status.idle": "2023-08-22T12:12:26.137811Z",
     "shell.execute_reply": "2023-08-22T12:12:26.137214Z"
    }
   },
   "outputs": [
    {
     "data": {
      "text/html": [
       "<div>\n",
       "<style scoped>\n",
       "    .dataframe tbody tr th:only-of-type {\n",
       "        vertical-align: middle;\n",
       "    }\n",
       "\n",
       "    .dataframe tbody tr th {\n",
       "        vertical-align: top;\n",
       "    }\n",
       "\n",
       "    .dataframe thead th {\n",
       "        text-align: right;\n",
       "    }\n",
       "</style>\n",
       "<table border=\"1\" class=\"dataframe\">\n",
       "  <thead>\n",
       "    <tr style=\"text-align: right;\">\n",
       "      <th></th>\n",
       "      <th>statistic_norm</th>\n",
       "      <th>pvalue_norm</th>\n",
       "      <th>statistic_lognorm</th>\n",
       "      <th>pvalue_lognorm</th>\n",
       "    </tr>\n",
       "    <tr>\n",
       "      <th># SMP</th>\n",
       "      <th></th>\n",
       "      <th></th>\n",
       "      <th></th>\n",
       "      <th></th>\n",
       "    </tr>\n",
       "  </thead>\n",
       "  <tbody>\n",
       "    <tr>\n",
       "      <th>10</th>\n",
       "      <td>7.01850e-01</td>\n",
       "      <td>9.27593e-04</td>\n",
       "      <td>9.08091e-01</td>\n",
       "      <td>0.00000e+00</td>\n",
       "    </tr>\n",
       "    <tr>\n",
       "      <th>50</th>\n",
       "      <td>8.92741e-01</td>\n",
       "      <td>2.79088e-04</td>\n",
       "      <td>9.08091e-01</td>\n",
       "      <td>0.00000e+00</td>\n",
       "    </tr>\n",
       "    <tr>\n",
       "      <th>100</th>\n",
       "      <td>9.08595e-01</td>\n",
       "      <td>3.66984e-06</td>\n",
       "      <td>9.08091e-01</td>\n",
       "      <td>0.00000e+00</td>\n",
       "    </tr>\n",
       "    <tr>\n",
       "      <th>500</th>\n",
       "      <td>9.39673e-01</td>\n",
       "      <td>2.30583e-13</td>\n",
       "      <td>9.08091e-01</td>\n",
       "      <td>0.00000e+00</td>\n",
       "    </tr>\n",
       "    <tr>\n",
       "      <th>1000</th>\n",
       "      <td>9.42486e-01</td>\n",
       "      <td>2.97285e-19</td>\n",
       "      <td>9.08091e-01</td>\n",
       "      <td>0.00000e+00</td>\n",
       "    </tr>\n",
       "    <tr>\n",
       "      <th>5000</th>\n",
       "      <td>9.50787e-01</td>\n",
       "      <td>4.99444e-38</td>\n",
       "      <td>9.08091e-01</td>\n",
       "      <td>0.00000e+00</td>\n",
       "    </tr>\n",
       "  </tbody>\n",
       "</table>\n",
       "</div>"
      ],
      "text/plain": [
       "       statistic_norm  pvalue_norm  statistic_lognorm  pvalue_lognorm\n",
       "# SMP                                                                \n",
       "10        7.01850e-01  9.27593e-04        9.08091e-01     0.00000e+00\n",
       "50        8.92741e-01  2.79088e-04        9.08091e-01     0.00000e+00\n",
       "100       9.08595e-01  3.66984e-06        9.08091e-01     0.00000e+00\n",
       "500       9.39673e-01  2.30583e-13        9.08091e-01     0.00000e+00\n",
       "1000      9.42486e-01  2.97285e-19        9.08091e-01     0.00000e+00\n",
       "5000      9.50787e-01  4.99444e-38        9.08091e-01     0.00000e+00"
      ]
     },
     "execution_count": 10,
     "metadata": {},
     "output_type": "execute_result"
    }
   ],
   "source": [
    "stat_norm = []\n",
    "stat_lognorm = []\n",
    "for n in [10, 50, 100, 500, 1000, 5000]:\n",
    "    df = smp_uniform.test_shapiro(pdf=\"normal\", size=n)\n",
    "    idx = df.statistic.idxmin()\n",
    "    stat_norm.append(df.loc[idx].rename(n))\n",
    "\n",
    "    df = smp_uniform.test_shapiro(pdf=\"lognormal\", size=n)\n",
    "    idx = df.statistic.idxmin()\n",
    "    stat_lognorm.append(df.loc[idx].rename(n))\n",
    "\n",
    "opts = dict(left_index=True, right_index=True, suffixes=(\"_norm\", \"_lognorm\"))\n",
    "pd.DataFrame(stat_norm).merge(pd.DataFrame(stat_lognorm), **opts).rename_axis(\"# SMP\")"
   ]
  },
  {
   "cell_type": "markdown",
   "id": "fe638556",
   "metadata": {},
   "source": [
    "### Plot the distribution of the parameter with closest and farthest resemblance to a uniform PDF"
   ]
  },
  {
   "cell_type": "code",
   "execution_count": 11,
   "id": "b6e1d4ee",
   "metadata": {
    "execution": {
     "iopub.execute_input": "2023-08-22T12:12:26.140621Z",
     "iopub.status.busy": "2023-08-22T12:12:26.140250Z",
     "iopub.status.idle": "2023-08-22T12:12:26.491227Z",
     "shell.execute_reply": "2023-08-22T12:12:26.490544Z"
    }
   },
   "outputs": [
    {
     "data": {
      "image/png": "[encoded data removed]",
      "text/plain": [
       "<Figure size 700x400 with 1 Axes>"
      ]
     },
     "metadata": {},
     "output_type": "display_data"
    }
   ],
   "source": [
    "test = smp_uniform.test_shapiro(pdf=\"uniform\", size=5000)\n",
    "\n",
    "fig, ax = plt.subplots(figsize=(7, 4), dpi=100)\n",
    "\n",
    "idx = test.statistic.idxmax()\n",
    "w = test.loc[idx]\n",
    "sns.histplot(data=smp_uniform.data.loc[idx], label=f\"W:stat={w.statistic:.2e}, p-value={w.pvalue:.2e}\", color=\"tomato\")\n",
    "\n",
    "idx = test.statistic.idxmin()\n",
    "w = test.loc[idx]\n",
    "sns.histplot(data=smp_uniform.data.loc[idx], label=f\"W:stat={w.statistic:.2e}, p-value={w.pvalue:.2e}\", color=\"dodgerblue\")\n",
    "\n",
    "ax.set(xlabel=\"W\")\n",
    "ax.legend()\n",
    "fig.tight_layout()"
   ]
  }
 ],
 "metadata": {
  "kernelspec": {
   "display_name": "Python [conda env:sandy-v1.0] *",
   "language": "python",
   "name": "conda-env-sandy-v1.0-py"
  },
  "language_info": {
   "codemirror_mode": {
    "name": "ipython",
    "version": 3
   },
   "file_extension": ".py",
   "mimetype": "text/x-python",
   "name": "python",
   "nbconvert_exporter": "python",
   "pygments_lexer": "ipython3",
   "version": "3.11.4"
  }
 },
 "nbformat": 4,
 "nbformat_minor": 5
}
