{
 "cells": [
  {
   "cell_type": "markdown",
   "id": "cfc7bba9",
   "metadata": {},
   "source": [
    "# Shapiro-Wilk test for normal and lognormal distributions"
   ]
  },
  {
   "cell_type": "code",
   "execution_count": 1,
   "id": "8e456eaf",
   "metadata": {
    "execution": {
     "iopub.execute_input": "2023-09-25T19:51:07.484833Z",
     "iopub.status.busy": "2023-09-25T19:51:07.484331Z",
     "iopub.status.idle": "2023-09-25T19:51:07.984999Z",
     "shell.execute_reply": "2023-09-25T19:51:07.984175Z"
    }
   },
   "outputs": [],
   "source": [
    "import sandy"
   ]
  },
  {
   "cell_type": "code",
   "execution_count": 2,
   "id": "35fae75e",
   "metadata": {
    "execution": {
     "iopub.execute_input": "2023-09-25T19:51:07.988710Z",
     "iopub.status.busy": "2023-09-25T19:51:07.988011Z",
     "iopub.status.idle": "2023-09-25T19:51:07.992390Z",
     "shell.execute_reply": "2023-09-25T19:51:07.991778Z"
    }
   },
   "outputs": [],
   "source": [
    "import logging\n",
    "import pandas as pd\n",
    "import numpy as np\n",
    "import scipy"
   ]
  },
  {
   "cell_type": "code",
   "execution_count": 3,
   "id": "8e08433c",
   "metadata": {
    "execution": {
     "iopub.execute_input": "2023-09-25T19:51:07.995178Z",
     "iopub.status.busy": "2023-09-25T19:51:07.994738Z",
     "iopub.status.idle": "2023-09-25T19:51:08.645732Z",
     "shell.execute_reply": "2023-09-25T19:51:08.644998Z"
    }
   },
   "outputs": [],
   "source": [
    "import matplotlib.pyplot as plt\n",
    "import seaborn as sns"
   ]
  },
  {
   "cell_type": "code",
   "execution_count": 4,
   "id": "c57f6407",
   "metadata": {
    "execution": {
     "iopub.execute_input": "2023-09-25T19:51:08.649505Z",
     "iopub.status.busy": "2023-09-25T19:51:08.648717Z",
     "iopub.status.idle": "2023-09-25T19:51:08.652617Z",
     "shell.execute_reply": "2023-09-25T19:51:08.651955Z"
    }
   },
   "outputs": [],
   "source": [
    "logging.getLogger().setLevel(logging.WARN)"
   ]
  },
  {
   "cell_type": "markdown",
   "id": "8d1ddd57",
   "metadata": {},
   "source": [
    "Generate 5000 xs samples normally and log-normally distributed"
   ]
  },
  {
   "cell_type": "code",
   "execution_count": 5,
   "id": "da206a7f",
   "metadata": {
    "execution": {
     "iopub.execute_input": "2023-09-25T19:51:08.655539Z",
     "iopub.status.busy": "2023-09-25T19:51:08.655176Z",
     "iopub.status.idle": "2023-09-25T19:51:08.660250Z",
     "shell.execute_reply": "2023-09-25T19:51:08.659582Z"
    }
   },
   "outputs": [],
   "source": [
    "def test_shapiro(smp, size=None, pdf=\"normal\"):\n",
    "    size_ = size or smp.data.shape[1]\n",
    "    names = [\"statistic\", \"pvalue\"]\n",
    "\n",
    "    data = smp.data.iloc[:, :size_]\n",
    "    if pdf.lower() == \"lognormal\":\n",
    "        data = np.log(smp.data)\n",
    "\n",
    "    df = pd.DataFrame({idx: scipy.stats.shapiro(row) for idx, row in data.iterrows()}, index=names).T\n",
    "    return df.rename_axis(data.index.names)"
   ]
  },
  {
   "cell_type": "code",
   "execution_count": 6,
   "id": "fa73bbbc",
   "metadata": {
    "execution": {
     "iopub.execute_input": "2023-09-25T19:51:08.663408Z",
     "iopub.status.busy": "2023-09-25T19:51:08.662878Z",
     "iopub.status.idle": "2023-09-25T19:52:11.698751Z",
     "shell.execute_reply": "2023-09-25T19:52:11.697996Z"
    }
   },
   "outputs": [
    {
     "name": "stdout",
     "output_type": "stream",
     "text": [
      "\n",
      " njoy 2016.71  14Jul23                                       09/25/23 19:51:09\n",
      " *****************************************************************************\n",
      "\n",
      " moder...                                                                 0.0s\n",
      "\n",
      " reconr...                                                                0.0s\n",
      "\n",
      " moder...                                                                 0.0s\n",
      "\n",
      " errorr...                                                                0.0s\n",
      "\n",
      " processing mat   125\n",
      " ---------------------\n",
      "   1-H -  1 LANL       EVAL-OCT05 G.M.Hale                           \n",
      "\n",
      " covariances calculated for  1 reactions and  251 groups                  0.0s\n",
      "                                                                          0.1s\n",
      " *****************************************************************************\n",
      "\n",
      " njoy 2016.71  14Jul23                                       09/25/23 19:51:40\n",
      " *****************************************************************************\n",
      "\n",
      " moder...                                                                 0.0s\n",
      "\n",
      " reconr...                                                                0.0s\n",
      "\n",
      " moder...                                                                 0.0s\n",
      "\n",
      " errorr...                                                                0.0s\n",
      "\n",
      " processing mat   125\n",
      " ---------------------\n",
      "   1-H -  1 LANL       EVAL-OCT05 G.M.Hale                           \n",
      "\n",
      " covariances calculated for  1 reactions and  251 groups                  0.0s\n",
      "                                                                          0.1s\n",
      " *****************************************************************************\n"
     ]
    }
   ],
   "source": [
    "tape = sandy.get_endf6_file(\"jeff_33\", \"xs\", 10010)\n",
    "njoy_kws = dict(err=1, errorr33_kws=dict(mt=102))\n",
    "nsmp = 5000\n",
    "seed = 5\n",
    "\n",
    "smp_norm = tape.get_perturbations(nsmp, njoy_kws=njoy_kws, smp_kws=dict(seed33=seed, pdf=\"normal\"))[33]\n",
    "smp_lognorm = tape.get_perturbations(nsmp, njoy_kws=njoy_kws, smp_kws=dict(seed33=seed, pdf=\"lognormal\"))[33]"
   ]
  },
  {
   "cell_type": "markdown",
   "id": "08f12802",
   "metadata": {},
   "source": [
    "##  Shapiro-Wilk test normal samples and normal distribution"
   ]
  },
  {
   "cell_type": "code",
   "execution_count": 7,
   "id": "4cf664f6",
   "metadata": {
    "execution": {
     "iopub.execute_input": "2023-09-25T19:52:11.703259Z",
     "iopub.status.busy": "2023-09-25T19:52:11.701684Z",
     "iopub.status.idle": "2023-09-25T19:52:12.655582Z",
     "shell.execute_reply": "2023-09-25T19:52:12.654991Z"
    }
   },
   "outputs": [
    {
     "name": "stderr",
     "output_type": "stream",
     "text": [
      "/opt/hostedtoolcache/Python/3.11.5/x64/lib/python3.11/site-packages/pandas/core/internals/blocks.py:329: RuntimeWarning: divide by zero encountered in log\n",
      "  result = func(self.values, **kwargs)\n",
      "/opt/hostedtoolcache/Python/3.11.5/x64/lib/python3.11/site-packages/pandas/core/internals/blocks.py:329: RuntimeWarning: divide by zero encountered in log\n",
      "  result = func(self.values, **kwargs)\n",
      "/opt/hostedtoolcache/Python/3.11.5/x64/lib/python3.11/site-packages/pandas/core/internals/blocks.py:329: RuntimeWarning: divide by zero encountered in log\n",
      "  result = func(self.values, **kwargs)\n",
      "/opt/hostedtoolcache/Python/3.11.5/x64/lib/python3.11/site-packages/pandas/core/internals/blocks.py:329: RuntimeWarning: divide by zero encountered in log\n",
      "  result = func(self.values, **kwargs)\n",
      "/opt/hostedtoolcache/Python/3.11.5/x64/lib/python3.11/site-packages/pandas/core/internals/blocks.py:329: RuntimeWarning: divide by zero encountered in log\n",
      "  result = func(self.values, **kwargs)\n",
      "/opt/hostedtoolcache/Python/3.11.5/x64/lib/python3.11/site-packages/pandas/core/internals/blocks.py:329: RuntimeWarning: divide by zero encountered in log\n",
      "  result = func(self.values, **kwargs)\n"
     ]
    },
    {
     "data": {
      "text/html": [
       "<div>\n",
       "<style scoped>\n",
       "    .dataframe tbody tr th:only-of-type {\n",
       "        vertical-align: middle;\n",
       "    }\n",
       "\n",
       "    .dataframe tbody tr th {\n",
       "        vertical-align: top;\n",
       "    }\n",
       "\n",
       "    .dataframe thead th {\n",
       "        text-align: right;\n",
       "    }\n",
       "</style>\n",
       "<table border=\"1\" class=\"dataframe\">\n",
       "  <thead>\n",
       "    <tr style=\"text-align: right;\">\n",
       "      <th></th>\n",
       "      <th>statistic_norm</th>\n",
       "      <th>pvalue_norm</th>\n",
       "      <th>statistic_lognorm</th>\n",
       "      <th>pvalue_lognorm</th>\n",
       "    </tr>\n",
       "    <tr>\n",
       "      <th># SMP</th>\n",
       "      <th></th>\n",
       "      <th></th>\n",
       "      <th></th>\n",
       "      <th></th>\n",
       "    </tr>\n",
       "  </thead>\n",
       "  <tbody>\n",
       "    <tr>\n",
       "      <th>10</th>\n",
       "      <td>8.31175e-01</td>\n",
       "      <td>3.45686e-02</td>\n",
       "      <td>9.35099e-01</td>\n",
       "      <td>3.25522e-42</td>\n",
       "    </tr>\n",
       "    <tr>\n",
       "      <th>50</th>\n",
       "      <td>9.54026e-01</td>\n",
       "      <td>5.00395e-02</td>\n",
       "      <td>9.35099e-01</td>\n",
       "      <td>3.25522e-42</td>\n",
       "    </tr>\n",
       "    <tr>\n",
       "      <th>100</th>\n",
       "      <td>9.73719e-01</td>\n",
       "      <td>4.28497e-02</td>\n",
       "      <td>9.35099e-01</td>\n",
       "      <td>3.25522e-42</td>\n",
       "    </tr>\n",
       "    <tr>\n",
       "      <th>500</th>\n",
       "      <td>9.89185e-01</td>\n",
       "      <td>9.53253e-04</td>\n",
       "      <td>9.35099e-01</td>\n",
       "      <td>3.25522e-42</td>\n",
       "    </tr>\n",
       "    <tr>\n",
       "      <th>1000</th>\n",
       "      <td>9.91131e-01</td>\n",
       "      <td>1.00694e-05</td>\n",
       "      <td>9.35099e-01</td>\n",
       "      <td>3.25522e-42</td>\n",
       "    </tr>\n",
       "    <tr>\n",
       "      <th>5000</th>\n",
       "      <td>9.89428e-01</td>\n",
       "      <td>6.65300e-19</td>\n",
       "      <td>9.35099e-01</td>\n",
       "      <td>3.25522e-42</td>\n",
       "    </tr>\n",
       "  </tbody>\n",
       "</table>\n",
       "</div>"
      ],
      "text/plain": [
       "       statistic_norm  pvalue_norm  statistic_lognorm  pvalue_lognorm\n",
       "# SMP                                                                \n",
       "10        8.31175e-01  3.45686e-02        9.35099e-01     3.25522e-42\n",
       "50        9.54026e-01  5.00395e-02        9.35099e-01     3.25522e-42\n",
       "100       9.73719e-01  4.28497e-02        9.35099e-01     3.25522e-42\n",
       "500       9.89185e-01  9.53253e-04        9.35099e-01     3.25522e-42\n",
       "1000      9.91131e-01  1.00694e-05        9.35099e-01     3.25522e-42\n",
       "5000      9.89428e-01  6.65300e-19        9.35099e-01     3.25522e-42"
      ]
     },
     "execution_count": 7,
     "metadata": {},
     "output_type": "execute_result"
    }
   ],
   "source": [
    "stat_norm = []\n",
    "stat_lognorm = []\n",
    "for n in [10, 50, 100, 500, 1000, 5000]:\n",
    "    df = test_shapiro(smp_norm, pdf=\"normal\", size=n)\n",
    "    idx = df.statistic.idxmin()\n",
    "    stat_norm.append(df.loc[idx].rename(n))\n",
    "\n",
    "    df = test_shapiro(smp_norm, pdf=\"lognormal\", size=n)\n",
    "    idx = df.statistic.idxmin()\n",
    "    stat_lognorm.append(df.loc[idx].rename(n))\n",
    "\n",
    "opts = dict(left_index=True, right_index=True, suffixes=(\"_norm\", \"_lognorm\"))\n",
    "pd.DataFrame(stat_norm).merge(pd.DataFrame(stat_lognorm), **opts).rename_axis(\"# SMP\")"
   ]
  },
  {
   "cell_type": "markdown",
   "id": "0559afc0",
   "metadata": {},
   "source": [
    "### Plot the distribution of the parameter with closest and farthest resemblance to a normal PDF"
   ]
  },
  {
   "cell_type": "code",
   "execution_count": 8,
   "id": "449bdf7d",
   "metadata": {
    "execution": {
     "iopub.execute_input": "2023-09-25T19:52:12.658558Z",
     "iopub.status.busy": "2023-09-25T19:52:12.658091Z",
     "iopub.status.idle": "2023-09-25T19:52:13.158097Z",
     "shell.execute_reply": "2023-09-25T19:52:13.157207Z"
    }
   },
   "outputs": [
    {
     "data": {
      "image/png": "[encoded data removed]",
      "text/plain": [
       "<Figure size 700x400 with 1 Axes>"
      ]
     },
     "metadata": {},
     "output_type": "display_data"
    }
   ],
   "source": [
    "test = test_shapiro(smp_norm, pdf=\"normal\", size=5000)\n",
    "\n",
    "fig, ax = plt.subplots(figsize=(7, 4), dpi=100)\n",
    "\n",
    "idx = test.statistic.idxmin()\n",
    "w = test.loc[idx]\n",
    "sns.histplot(data=smp_norm.data.loc[idx], label=f\"W:stat={w.statistic:.2e}, p-value={w.pvalue:.2e}\", color=\"dodgerblue\")\n",
    "\n",
    "idx = test.statistic.idxmax()\n",
    "w = test.loc[idx]\n",
    "sns.histplot(data=smp_norm.data.loc[idx], label=f\"W:stat={w.statistic:.2e}, p-value={w.pvalue:.2e}\", color=\"tomato\")\n",
    "\n",
    "ax.set(xlabel=\"W\")\n",
    "ax.legend()\n",
    "fig.tight_layout()"
   ]
  },
  {
   "cell_type": "markdown",
   "id": "78c3e97d",
   "metadata": {},
   "source": [
    "## Shapiro-Wilk test for lognormal samples and lognormal distribution"
   ]
  },
  {
   "cell_type": "code",
   "execution_count": 9,
   "id": "be16d4f1",
   "metadata": {
    "execution": {
     "iopub.execute_input": "2023-09-25T19:52:13.162091Z",
     "iopub.status.busy": "2023-09-25T19:52:13.160834Z",
     "iopub.status.idle": "2023-09-25T19:52:14.046788Z",
     "shell.execute_reply": "2023-09-25T19:52:14.046096Z"
    }
   },
   "outputs": [
    {
     "data": {
      "text/html": [
       "<div>\n",
       "<style scoped>\n",
       "    .dataframe tbody tr th:only-of-type {\n",
       "        vertical-align: middle;\n",
       "    }\n",
       "\n",
       "    .dataframe tbody tr th {\n",
       "        vertical-align: top;\n",
       "    }\n",
       "\n",
       "    .dataframe thead th {\n",
       "        text-align: right;\n",
       "    }\n",
       "</style>\n",
       "<table border=\"1\" class=\"dataframe\">\n",
       "  <thead>\n",
       "    <tr style=\"text-align: right;\">\n",
       "      <th></th>\n",
       "      <th>statistic_norm</th>\n",
       "      <th>pvalue_norm</th>\n",
       "      <th>statistic_lognorm</th>\n",
       "      <th>pvalue_lognorm</th>\n",
       "    </tr>\n",
       "    <tr>\n",
       "      <th># SMP</th>\n",
       "      <th></th>\n",
       "      <th></th>\n",
       "      <th></th>\n",
       "      <th></th>\n",
       "    </tr>\n",
       "  </thead>\n",
       "  <tbody>\n",
       "    <tr>\n",
       "      <th>10</th>\n",
       "      <td>6.81610e-01</td>\n",
       "      <td>5.27717e-04</td>\n",
       "      <td>9.99380e-01</td>\n",
       "      <td>8.66571e-02</td>\n",
       "    </tr>\n",
       "    <tr>\n",
       "      <th>50</th>\n",
       "      <td>8.32712e-01</td>\n",
       "      <td>5.43628e-06</td>\n",
       "      <td>9.99380e-01</td>\n",
       "      <td>8.66571e-02</td>\n",
       "    </tr>\n",
       "    <tr>\n",
       "      <th>100</th>\n",
       "      <td>8.78801e-01</td>\n",
       "      <td>1.61531e-07</td>\n",
       "      <td>9.99380e-01</td>\n",
       "      <td>8.66571e-02</td>\n",
       "    </tr>\n",
       "    <tr>\n",
       "      <th>500</th>\n",
       "      <td>8.97354e-01</td>\n",
       "      <td>8.40585e-18</td>\n",
       "      <td>9.99380e-01</td>\n",
       "      <td>8.66571e-02</td>\n",
       "    </tr>\n",
       "    <tr>\n",
       "      <th>1000</th>\n",
       "      <td>8.70561e-01</td>\n",
       "      <td>5.64671e-28</td>\n",
       "      <td>9.99380e-01</td>\n",
       "      <td>8.66571e-02</td>\n",
       "    </tr>\n",
       "    <tr>\n",
       "      <th>5000</th>\n",
       "      <td>8.97673e-01</td>\n",
       "      <td>0.00000e+00</td>\n",
       "      <td>9.99380e-01</td>\n",
       "      <td>8.66571e-02</td>\n",
       "    </tr>\n",
       "  </tbody>\n",
       "</table>\n",
       "</div>"
      ],
      "text/plain": [
       "       statistic_norm  pvalue_norm  statistic_lognorm  pvalue_lognorm\n",
       "# SMP                                                                \n",
       "10        6.81610e-01  5.27717e-04        9.99380e-01     8.66571e-02\n",
       "50        8.32712e-01  5.43628e-06        9.99380e-01     8.66571e-02\n",
       "100       8.78801e-01  1.61531e-07        9.99380e-01     8.66571e-02\n",
       "500       8.97354e-01  8.40585e-18        9.99380e-01     8.66571e-02\n",
       "1000      8.70561e-01  5.64671e-28        9.99380e-01     8.66571e-02\n",
       "5000      8.97673e-01  0.00000e+00        9.99380e-01     8.66571e-02"
      ]
     },
     "execution_count": 9,
     "metadata": {},
     "output_type": "execute_result"
    }
   ],
   "source": [
    "stat_norm = []\n",
    "stat_lognorm = []\n",
    "for n in [10, 50, 100, 500, 1000, 5000]:\n",
    "    df = test_shapiro(smp_lognorm, pdf=\"normal\", size=n)\n",
    "    idx = df.statistic.idxmin()\n",
    "    stat_norm.append(df.loc[idx].rename(n))\n",
    "\n",
    "    df = test_shapiro(smp_lognorm, pdf=\"lognormal\", size=n)\n",
    "    idx = df.statistic.idxmin()\n",
    "    stat_lognorm.append(df.loc[idx].rename(n))\n",
    "\n",
    "opts = dict(left_index=True, right_index=True, suffixes=(\"_norm\", \"_lognorm\"))\n",
    "pd.DataFrame(stat_norm).merge(pd.DataFrame(stat_lognorm), **opts).rename_axis(\"# SMP\")"
   ]
  },
  {
   "cell_type": "markdown",
   "id": "b40e1b23",
   "metadata": {},
   "source": [
    "### Plot the distribution of the parameter with closest and farthest resemblance to a lognormal PDF"
   ]
  },
  {
   "cell_type": "code",
   "execution_count": 10,
   "id": "8fa36199",
   "metadata": {
    "execution": {
     "iopub.execute_input": "2023-09-25T19:52:14.050480Z",
     "iopub.status.busy": "2023-09-25T19:52:14.049920Z",
     "iopub.status.idle": "2023-09-25T19:52:14.559892Z",
     "shell.execute_reply": "2023-09-25T19:52:14.559013Z"
    }
   },
   "outputs": [
    {
     "data": {
      "image/png": "[encoded data removed]",
      "text/plain": [
       "<Figure size 700x400 with 1 Axes>"
      ]
     },
     "metadata": {},
     "output_type": "display_data"
    }
   ],
   "source": [
    "test = test_shapiro(smp_lognorm, pdf=\"lognormal\", size=5000)\n",
    "\n",
    "fig, ax = plt.subplots(figsize=(7, 4), dpi=100)\n",
    "\n",
    "idx = test.statistic.idxmax()\n",
    "w = test.loc[idx]\n",
    "sns.histplot(data=smp_lognorm.data.loc[idx], label=f\"W:stat={w.statistic:.2e}, p-value={w.pvalue:.2e}\", color=\"tomato\")\n",
    "\n",
    "idx = test.statistic.idxmin()\n",
    "w = test.loc[idx]\n",
    "sns.histplot(data=smp_lognorm.data.loc[idx], label=f\"W:stat={w.statistic:.2e}, p-value={w.pvalue:.2e}\", color=\"dodgerblue\")\n",
    "\n",
    "ax.set(xlabel=\"W\")\n",
    "ax.legend()\n",
    "fig.tight_layout()"
   ]
  }
 ],
 "metadata": {
  "kernelspec": {
   "display_name": "Python [conda env:sandy-v1.0] *",
   "language": "python",
   "name": "conda-env-sandy-v1.0-py"
  },
  "language_info": {
   "codemirror_mode": {
    "name": "ipython",
    "version": 3
   },
   "file_extension": ".py",
   "mimetype": "text/x-python",
   "name": "python",
   "nbconvert_exporter": "python",
   "pygments_lexer": "ipython3",
   "version": "3.11.5"
  }
 },
 "nbformat": 4,
 "nbformat_minor": 5
}
