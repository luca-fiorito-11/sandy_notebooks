{
 "cells": [
  {
   "cell_type": "markdown",
   "id": "cfc7bba9",
   "metadata": {},
   "source": [
    "# Shapiro-Wilk test for normal and lognormal distributions"
   ]
  },
  {
   "cell_type": "code",
   "execution_count": 1,
   "id": "8e456eaf",
   "metadata": {
    "execution": {
     "iopub.execute_input": "2024-03-03T21:54:29.038412Z",
     "iopub.status.busy": "2024-03-03T21:54:29.037952Z",
     "iopub.status.idle": "2024-03-03T21:54:29.657793Z",
     "shell.execute_reply": "2024-03-03T21:54:29.657274Z"
    }
   },
   "outputs": [],
   "source": [
    "import sandy"
   ]
  },
  {
   "cell_type": "code",
   "execution_count": 2,
   "id": "35fae75e",
   "metadata": {
    "execution": {
     "iopub.execute_input": "2024-03-03T21:54:29.660312Z",
     "iopub.status.busy": "2024-03-03T21:54:29.659926Z",
     "iopub.status.idle": "2024-03-03T21:54:29.662899Z",
     "shell.execute_reply": "2024-03-03T21:54:29.662425Z"
    }
   },
   "outputs": [],
   "source": [
    "import logging\n",
    "import pandas as pd\n",
    "import numpy as np\n",
    "import scipy"
   ]
  },
  {
   "cell_type": "code",
   "execution_count": 3,
   "id": "8e08433c",
   "metadata": {
    "execution": {
     "iopub.execute_input": "2024-03-03T21:54:29.665055Z",
     "iopub.status.busy": "2024-03-03T21:54:29.664683Z",
     "iopub.status.idle": "2024-03-03T21:54:30.029193Z",
     "shell.execute_reply": "2024-03-03T21:54:30.028535Z"
    }
   },
   "outputs": [],
   "source": [
    "import matplotlib.pyplot as plt\n",
    "import seaborn as sns"
   ]
  },
  {
   "cell_type": "code",
   "execution_count": 4,
   "id": "c57f6407",
   "metadata": {
    "execution": {
     "iopub.execute_input": "2024-03-03T21:54:30.032033Z",
     "iopub.status.busy": "2024-03-03T21:54:30.031631Z",
     "iopub.status.idle": "2024-03-03T21:54:30.034532Z",
     "shell.execute_reply": "2024-03-03T21:54:30.034062Z"
    }
   },
   "outputs": [],
   "source": [
    "logging.getLogger().setLevel(logging.WARN)"
   ]
  },
  {
   "cell_type": "markdown",
   "id": "8d1ddd57",
   "metadata": {},
   "source": [
    "Generate 5000 xs samples normally and log-normally distributed"
   ]
  },
  {
   "cell_type": "code",
   "execution_count": 5,
   "id": "da206a7f",
   "metadata": {
    "execution": {
     "iopub.execute_input": "2024-03-03T21:54:30.036756Z",
     "iopub.status.busy": "2024-03-03T21:54:30.036395Z",
     "iopub.status.idle": "2024-03-03T21:54:30.040411Z",
     "shell.execute_reply": "2024-03-03T21:54:30.039845Z"
    }
   },
   "outputs": [],
   "source": [
    "def test_shapiro(smp, size=None, pdf=\"normal\"):\n",
    "    size_ = size or smp.data.shape[1]\n",
    "    names = [\"statistic\", \"pvalue\"]\n",
    "\n",
    "    data = smp.data.iloc[:, :size_]\n",
    "    if pdf.lower() == \"lognormal\":\n",
    "        data = np.log(smp.data)\n",
    "\n",
    "    df = pd.DataFrame({idx: scipy.stats.shapiro(row) for idx, row in data.iterrows()}, index=names).T\n",
    "    return df.rename_axis(data.index.names)"
   ]
  },
  {
   "cell_type": "code",
   "execution_count": 6,
   "id": "fa73bbbc",
   "metadata": {
    "execution": {
     "iopub.execute_input": "2024-03-03T21:54:30.042451Z",
     "iopub.status.busy": "2024-03-03T21:54:30.042103Z",
     "iopub.status.idle": "2024-03-03T21:55:19.215637Z",
     "shell.execute_reply": "2024-03-03T21:55:19.215045Z"
    }
   },
   "outputs": [
    {
     "name": "stdout",
     "output_type": "stream",
     "text": [
      "\n",
      " njoy 2016.74  12Jan24                                       03/03/24 21:54:30\n",
      " *****************************************************************************\n",
      "\n",
      " moder...                                                                 0.0s\n",
      "\n",
      " reconr...                                                                0.0s\n",
      "\n",
      " moder...                                                                 0.0s\n",
      "\n",
      " errorr...                                                                0.0s\n",
      "\n",
      " processing mat   125\n",
      " ---------------------\n",
      "   1-H -  1 LANL       EVAL-OCT05 G.M.Hale                           \n",
      "\n",
      " covariances calculated for  1 reactions and  251 groups                  0.0s\n",
      "                                                                          0.1s\n",
      " *****************************************************************************\n"
     ]
    },
    {
     "name": "stdout",
     "output_type": "stream",
     "text": [
      "\n",
      " njoy 2016.74  12Jan24                                       03/03/24 21:54:55\n",
      " *****************************************************************************\n",
      "\n",
      " moder...                                                                 0.0s\n",
      "\n",
      " reconr...                                                                0.0s\n",
      "\n",
      " moder...                                                                 0.0s\n",
      "\n",
      " errorr...                                                                0.0s\n",
      "\n",
      " processing mat   125\n",
      " ---------------------\n",
      "   1-H -  1 LANL       EVAL-OCT05 G.M.Hale                           \n",
      "\n",
      " covariances calculated for  1 reactions and  251 groups                  0.0s\n",
      "                                                                          0.1s\n",
      " *****************************************************************************\n"
     ]
    }
   ],
   "source": [
    "tape = sandy.get_endf6_file(\"jeff_33\", \"xs\", 10010)\n",
    "njoy_kws = dict(err=1, errorr33_kws=dict(mt=102))\n",
    "nsmp = 5000\n",
    "seed = 5\n",
    "\n",
    "smp_norm = tape.get_perturbations(nsmp, njoy_kws=njoy_kws, smp_kws=dict(seed33=seed, pdf=\"normal\"))[33]\n",
    "smp_lognorm = tape.get_perturbations(nsmp, njoy_kws=njoy_kws, smp_kws=dict(seed33=seed, pdf=\"lognormal\"))[33]"
   ]
  },
  {
   "cell_type": "markdown",
   "id": "08f12802",
   "metadata": {},
   "source": [
    "##  Shapiro-Wilk test normal samples and normal distribution"
   ]
  },
  {
   "cell_type": "code",
   "execution_count": 7,
   "id": "4cf664f6",
   "metadata": {
    "execution": {
     "iopub.execute_input": "2024-03-03T21:55:19.218335Z",
     "iopub.status.busy": "2024-03-03T21:55:19.217963Z",
     "iopub.status.idle": "2024-03-03T21:55:20.086016Z",
     "shell.execute_reply": "2024-03-03T21:55:20.085446Z"
    }
   },
   "outputs": [
    {
     "name": "stderr",
     "output_type": "stream",
     "text": [
      "/opt/hostedtoolcache/Python/3.12.2/x64/lib/python3.12/site-packages/pandas/core/internals/blocks.py:329: RuntimeWarning: divide by zero encountered in log\n",
      "  result = func(self.values, **kwargs)\n",
      "/opt/hostedtoolcache/Python/3.12.2/x64/lib/python3.12/site-packages/pandas/core/internals/blocks.py:329: RuntimeWarning: divide by zero encountered in log\n",
      "  result = func(self.values, **kwargs)\n"
     ]
    },
    {
     "name": "stderr",
     "output_type": "stream",
     "text": [
      "/opt/hostedtoolcache/Python/3.12.2/x64/lib/python3.12/site-packages/pandas/core/internals/blocks.py:329: RuntimeWarning: divide by zero encountered in log\n",
      "  result = func(self.values, **kwargs)\n",
      "/opt/hostedtoolcache/Python/3.12.2/x64/lib/python3.12/site-packages/pandas/core/internals/blocks.py:329: RuntimeWarning: divide by zero encountered in log\n",
      "  result = func(self.values, **kwargs)\n"
     ]
    },
    {
     "name": "stderr",
     "output_type": "stream",
     "text": [
      "/opt/hostedtoolcache/Python/3.12.2/x64/lib/python3.12/site-packages/pandas/core/internals/blocks.py:329: RuntimeWarning: divide by zero encountered in log\n",
      "  result = func(self.values, **kwargs)\n"
     ]
    },
    {
     "name": "stderr",
     "output_type": "stream",
     "text": [
      "/opt/hostedtoolcache/Python/3.12.2/x64/lib/python3.12/site-packages/pandas/core/internals/blocks.py:329: RuntimeWarning: divide by zero encountered in log\n",
      "  result = func(self.values, **kwargs)\n"
     ]
    },
    {
     "data": {
      "text/html": [
       "<div>\n",
       "<style scoped>\n",
       "    .dataframe tbody tr th:only-of-type {\n",
       "        vertical-align: middle;\n",
       "    }\n",
       "\n",
       "    .dataframe tbody tr th {\n",
       "        vertical-align: top;\n",
       "    }\n",
       "\n",
       "    .dataframe thead th {\n",
       "        text-align: right;\n",
       "    }\n",
       "</style>\n",
       "<table border=\"1\" class=\"dataframe\">\n",
       "  <thead>\n",
       "    <tr style=\"text-align: right;\">\n",
       "      <th></th>\n",
       "      <th>statistic_norm</th>\n",
       "      <th>pvalue_norm</th>\n",
       "      <th>statistic_lognorm</th>\n",
       "      <th>pvalue_lognorm</th>\n",
       "    </tr>\n",
       "    <tr>\n",
       "      <th># SMP</th>\n",
       "      <th></th>\n",
       "      <th></th>\n",
       "      <th></th>\n",
       "      <th></th>\n",
       "    </tr>\n",
       "  </thead>\n",
       "  <tbody>\n",
       "    <tr>\n",
       "      <th>10</th>\n",
       "      <td>8.32397e-01</td>\n",
       "      <td>3.57599e-02</td>\n",
       "      <td>9.35098e-01</td>\n",
       "      <td>3.25136e-42</td>\n",
       "    </tr>\n",
       "    <tr>\n",
       "      <th>50</th>\n",
       "      <td>9.57182e-01</td>\n",
       "      <td>6.77477e-02</td>\n",
       "      <td>9.35098e-01</td>\n",
       "      <td>3.25136e-42</td>\n",
       "    </tr>\n",
       "    <tr>\n",
       "      <th>100</th>\n",
       "      <td>9.69973e-01</td>\n",
       "      <td>2.19994e-02</td>\n",
       "      <td>9.35098e-01</td>\n",
       "      <td>3.25136e-42</td>\n",
       "    </tr>\n",
       "    <tr>\n",
       "      <th>500</th>\n",
       "      <td>9.88970e-01</td>\n",
       "      <td>8.11595e-04</td>\n",
       "      <td>9.35098e-01</td>\n",
       "      <td>3.25136e-42</td>\n",
       "    </tr>\n",
       "    <tr>\n",
       "      <th>1000</th>\n",
       "      <td>9.91071e-01</td>\n",
       "      <td>9.33367e-06</td>\n",
       "      <td>9.35098e-01</td>\n",
       "      <td>3.25136e-42</td>\n",
       "    </tr>\n",
       "    <tr>\n",
       "      <th>5000</th>\n",
       "      <td>9.89415e-01</td>\n",
       "      <td>6.47332e-19</td>\n",
       "      <td>9.35098e-01</td>\n",
       "      <td>3.25136e-42</td>\n",
       "    </tr>\n",
       "  </tbody>\n",
       "</table>\n",
       "</div>"
      ],
      "text/plain": [
       "       statistic_norm  pvalue_norm  statistic_lognorm  pvalue_lognorm\n",
       "# SMP                                                                \n",
       "10        8.32397e-01  3.57599e-02        9.35098e-01     3.25136e-42\n",
       "50        9.57182e-01  6.77477e-02        9.35098e-01     3.25136e-42\n",
       "100       9.69973e-01  2.19994e-02        9.35098e-01     3.25136e-42\n",
       "500       9.88970e-01  8.11595e-04        9.35098e-01     3.25136e-42\n",
       "1000      9.91071e-01  9.33367e-06        9.35098e-01     3.25136e-42\n",
       "5000      9.89415e-01  6.47332e-19        9.35098e-01     3.25136e-42"
      ]
     },
     "execution_count": 7,
     "metadata": {},
     "output_type": "execute_result"
    }
   ],
   "source": [
    "stat_norm = []\n",
    "stat_lognorm = []\n",
    "for n in [10, 50, 100, 500, 1000, 5000]:\n",
    "    df = test_shapiro(smp_norm, pdf=\"normal\", size=n)\n",
    "    idx = df.statistic.idxmin()\n",
    "    stat_norm.append(df.loc[idx].rename(n))\n",
    "\n",
    "    df = test_shapiro(smp_norm, pdf=\"lognormal\", size=n)\n",
    "    idx = df.statistic.idxmin()\n",
    "    stat_lognorm.append(df.loc[idx].rename(n))\n",
    "\n",
    "opts = dict(left_index=True, right_index=True, suffixes=(\"_norm\", \"_lognorm\"))\n",
    "pd.DataFrame(stat_norm).merge(pd.DataFrame(stat_lognorm), **opts).rename_axis(\"# SMP\")"
   ]
  },
  {
   "cell_type": "markdown",
   "id": "0559afc0",
   "metadata": {},
   "source": [
    "### Plot the distribution of the parameter with closest and farthest resemblance to a normal PDF"
   ]
  },
  {
   "cell_type": "code",
   "execution_count": 8,
   "id": "449bdf7d",
   "metadata": {
    "execution": {
     "iopub.execute_input": "2024-03-03T21:55:20.088625Z",
     "iopub.status.busy": "2024-03-03T21:55:20.088165Z",
     "iopub.status.idle": "2024-03-03T21:55:20.579274Z",
     "shell.execute_reply": "2024-03-03T21:55:20.578680Z"
    }
   },
   "outputs": [
    {
     "data": {
      "image/png": "[encoded data removed]",
      "text/plain": [
       "<Figure size 700x400 with 1 Axes>"
      ]
     },
     "metadata": {},
     "output_type": "display_data"
    }
   ],
   "source": [
    "test = test_shapiro(smp_norm, pdf=\"normal\", size=5000)\n",
    "\n",
    "fig, ax = plt.subplots(figsize=(7, 4), dpi=100)\n",
    "\n",
    "idx = test.statistic.idxmin()\n",
    "w = test.loc[idx]\n",
    "sns.histplot(data=smp_norm.data.loc[idx], label=f\"W:stat={w.statistic:.2e}, p-value={w.pvalue:.2e}\", color=\"dodgerblue\")\n",
    "\n",
    "idx = test.statistic.idxmax()\n",
    "w = test.loc[idx]\n",
    "sns.histplot(data=smp_norm.data.loc[idx], label=f\"W:stat={w.statistic:.2e}, p-value={w.pvalue:.2e}\", color=\"tomato\")\n",
    "\n",
    "ax.set(xlabel=\"W\")\n",
    "ax.legend()\n",
    "fig.tight_layout()"
   ]
  },
  {
   "cell_type": "markdown",
   "id": "78c3e97d",
   "metadata": {},
   "source": [
    "## Shapiro-Wilk test for lognormal samples and lognormal distribution"
   ]
  },
  {
   "cell_type": "code",
   "execution_count": 9,
   "id": "be16d4f1",
   "metadata": {
    "execution": {
     "iopub.execute_input": "2024-03-03T21:55:20.581633Z",
     "iopub.status.busy": "2024-03-03T21:55:20.581242Z",
     "iopub.status.idle": "2024-03-03T21:55:21.447444Z",
     "shell.execute_reply": "2024-03-03T21:55:21.446788Z"
    }
   },
   "outputs": [
    {
     "data": {
      "text/html": [
       "<div>\n",
       "<style scoped>\n",
       "    .dataframe tbody tr th:only-of-type {\n",
       "        vertical-align: middle;\n",
       "    }\n",
       "\n",
       "    .dataframe tbody tr th {\n",
       "        vertical-align: top;\n",
       "    }\n",
       "\n",
       "    .dataframe thead th {\n",
       "        text-align: right;\n",
       "    }\n",
       "</style>\n",
       "<table border=\"1\" class=\"dataframe\">\n",
       "  <thead>\n",
       "    <tr style=\"text-align: right;\">\n",
       "      <th></th>\n",
       "      <th>statistic_norm</th>\n",
       "      <th>pvalue_norm</th>\n",
       "      <th>statistic_lognorm</th>\n",
       "      <th>pvalue_lognorm</th>\n",
       "    </tr>\n",
       "    <tr>\n",
       "      <th># SMP</th>\n",
       "      <th></th>\n",
       "      <th></th>\n",
       "      <th></th>\n",
       "      <th></th>\n",
       "    </tr>\n",
       "  </thead>\n",
       "  <tbody>\n",
       "    <tr>\n",
       "      <th>10</th>\n",
       "      <td>7.01119e-01</td>\n",
       "      <td>9.08847e-04</td>\n",
       "      <td>9.99356e-01</td>\n",
       "      <td>7.22375e-02</td>\n",
       "    </tr>\n",
       "    <tr>\n",
       "      <th>50</th>\n",
       "      <td>8.30163e-01</td>\n",
       "      <td>4.68328e-06</td>\n",
       "      <td>9.99356e-01</td>\n",
       "      <td>7.22375e-02</td>\n",
       "    </tr>\n",
       "    <tr>\n",
       "      <th>100</th>\n",
       "      <td>8.78410e-01</td>\n",
       "      <td>1.55524e-07</td>\n",
       "      <td>9.99356e-01</td>\n",
       "      <td>7.22375e-02</td>\n",
       "    </tr>\n",
       "    <tr>\n",
       "      <th>500</th>\n",
       "      <td>8.95228e-01</td>\n",
       "      <td>5.48703e-18</td>\n",
       "      <td>9.99356e-01</td>\n",
       "      <td>7.22375e-02</td>\n",
       "    </tr>\n",
       "    <tr>\n",
       "      <th>1000</th>\n",
       "      <td>8.70238e-01</td>\n",
       "      <td>5.27594e-28</td>\n",
       "      <td>9.99356e-01</td>\n",
       "      <td>7.22375e-02</td>\n",
       "    </tr>\n",
       "    <tr>\n",
       "      <th>5000</th>\n",
       "      <td>8.97900e-01</td>\n",
       "      <td>1.46503e-49</td>\n",
       "      <td>9.99356e-01</td>\n",
       "      <td>7.22375e-02</td>\n",
       "    </tr>\n",
       "  </tbody>\n",
       "</table>\n",
       "</div>"
      ],
      "text/plain": [
       "       statistic_norm  pvalue_norm  statistic_lognorm  pvalue_lognorm\n",
       "# SMP                                                                \n",
       "10        7.01119e-01  9.08847e-04        9.99356e-01     7.22375e-02\n",
       "50        8.30163e-01  4.68328e-06        9.99356e-01     7.22375e-02\n",
       "100       8.78410e-01  1.55524e-07        9.99356e-01     7.22375e-02\n",
       "500       8.95228e-01  5.48703e-18        9.99356e-01     7.22375e-02\n",
       "1000      8.70238e-01  5.27594e-28        9.99356e-01     7.22375e-02\n",
       "5000      8.97900e-01  1.46503e-49        9.99356e-01     7.22375e-02"
      ]
     },
     "execution_count": 9,
     "metadata": {},
     "output_type": "execute_result"
    }
   ],
   "source": [
    "stat_norm = []\n",
    "stat_lognorm = []\n",
    "for n in [10, 50, 100, 500, 1000, 5000]:\n",
    "    df = test_shapiro(smp_lognorm, pdf=\"normal\", size=n)\n",
    "    idx = df.statistic.idxmin()\n",
    "    stat_norm.append(df.loc[idx].rename(n))\n",
    "\n",
    "    df = test_shapiro(smp_lognorm, pdf=\"lognormal\", size=n)\n",
    "    idx = df.statistic.idxmin()\n",
    "    stat_lognorm.append(df.loc[idx].rename(n))\n",
    "\n",
    "opts = dict(left_index=True, right_index=True, suffixes=(\"_norm\", \"_lognorm\"))\n",
    "pd.DataFrame(stat_norm).merge(pd.DataFrame(stat_lognorm), **opts).rename_axis(\"# SMP\")"
   ]
  },
  {
   "cell_type": "markdown",
   "id": "b40e1b23",
   "metadata": {},
   "source": [
    "### Plot the distribution of the parameter with closest and farthest resemblance to a lognormal PDF"
   ]
  },
  {
   "cell_type": "code",
   "execution_count": 10,
   "id": "8fa36199",
   "metadata": {
    "execution": {
     "iopub.execute_input": "2024-03-03T21:55:21.449841Z",
     "iopub.status.busy": "2024-03-03T21:55:21.449452Z",
     "iopub.status.idle": "2024-03-03T21:55:21.947849Z",
     "shell.execute_reply": "2024-03-03T21:55:21.947287Z"
    }
   },
   "outputs": [
    {
     "data": {
      "image/png": "[encoded data removed]",
      "text/plain": [
       "<Figure size 700x400 with 1 Axes>"
      ]
     },
     "metadata": {},
     "output_type": "display_data"
    }
   ],
   "source": [
    "test = test_shapiro(smp_lognorm, pdf=\"lognormal\", size=5000)\n",
    "\n",
    "fig, ax = plt.subplots(figsize=(7, 4), dpi=100)\n",
    "\n",
    "idx = test.statistic.idxmax()\n",
    "w = test.loc[idx]\n",
    "sns.histplot(data=smp_lognorm.data.loc[idx], label=f\"W:stat={w.statistic:.2e}, p-value={w.pvalue:.2e}\", color=\"tomato\")\n",
    "\n",
    "idx = test.statistic.idxmin()\n",
    "w = test.loc[idx]\n",
    "sns.histplot(data=smp_lognorm.data.loc[idx], label=f\"W:stat={w.statistic:.2e}, p-value={w.pvalue:.2e}\", color=\"dodgerblue\")\n",
    "\n",
    "ax.set(xlabel=\"W\")\n",
    "ax.legend()\n",
    "fig.tight_layout()"
   ]
  }
 ],
 "metadata": {
  "kernelspec": {
   "display_name": "Python [conda env:sandy-v1.0] *",
   "language": "python",
   "name": "conda-env-sandy-v1.0-py"
  },
  "language_info": {
   "codemirror_mode": {
    "name": "ipython",
    "version": 3
   },
   "file_extension": ".py",
   "mimetype": "text/x-python",
   "name": "python",
   "nbconvert_exporter": "python",
   "pygments_lexer": "ipython3",
   "version": "3.12.2"
  }
 },
 "nbformat": 4,
 "nbformat_minor": 5
}
