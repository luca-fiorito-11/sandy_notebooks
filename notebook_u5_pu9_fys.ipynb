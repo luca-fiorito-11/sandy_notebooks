{
 "cells": [
  {
   "cell_type": "markdown",
   "id": "9161a136",
   "metadata": {},
   "source": [
    "# Retrieve CFYs for Cs, Sr and Nd"
   ]
  },
  {
   "cell_type": "code",
   "execution_count": 1,
   "id": "95f62408",
   "metadata": {
    "execution": {
     "iopub.execute_input": "2023-01-18T15:17:37.333579Z",
     "iopub.status.busy": "2023-01-18T15:17:37.333056Z",
     "iopub.status.idle": "2023-01-18T15:17:39.108146Z",
     "shell.execute_reply": "2023-01-18T15:17:39.107298Z"
    }
   },
   "outputs": [],
   "source": [
    "import sandy"
   ]
  },
  {
   "cell_type": "code",
   "execution_count": 2,
   "id": "30b25131",
   "metadata": {
    "execution": {
     "iopub.execute_input": "2023-01-18T15:17:39.112683Z",
     "iopub.status.busy": "2023-01-18T15:17:39.112410Z",
     "iopub.status.idle": "2023-01-18T15:17:39.117338Z",
     "shell.execute_reply": "2023-01-18T15:17:39.116634Z"
    }
   },
   "outputs": [],
   "source": [
    "import pandas as pd\n",
    "import numpy as np"
   ]
  },
  {
   "cell_type": "code",
   "execution_count": 3,
   "id": "05506bc8",
   "metadata": {
    "execution": {
     "iopub.execute_input": "2023-01-18T15:17:39.120602Z",
     "iopub.status.busy": "2023-01-18T15:17:39.120357Z",
     "iopub.status.idle": "2023-01-18T15:17:39.124084Z",
     "shell.execute_reply": "2023-01-18T15:17:39.123330Z"
    }
   },
   "outputs": [],
   "source": [
    "import matplotlib.pyplot as plt\n",
    "import seaborn as sns\n",
    "sns.set_style(\"whitegrid\")"
   ]
  },
  {
   "cell_type": "markdown",
   "id": "1017f3cf",
   "metadata": {},
   "source": [
    "# Data acquisition"
   ]
  },
  {
   "cell_type": "code",
   "execution_count": 4,
   "id": "84983c78",
   "metadata": {
    "execution": {
     "iopub.execute_input": "2023-01-18T15:17:39.127683Z",
     "iopub.status.busy": "2023-01-18T15:17:39.127450Z",
     "iopub.status.idle": "2023-01-18T15:17:39.131022Z",
     "shell.execute_reply": "2023-01-18T15:17:39.130261Z"
    }
   },
   "outputs": [],
   "source": [
    "nuclides = [551330, 551370, 380900, 601430, 601440, 601450, 601460, 601470, 601480, 601500]"
   ]
  },
  {
   "cell_type": "code",
   "execution_count": 5,
   "id": "6c6126c0",
   "metadata": {
    "execution": {
     "iopub.execute_input": "2023-01-18T15:17:39.134443Z",
     "iopub.status.busy": "2023-01-18T15:17:39.134212Z",
     "iopub.status.idle": "2023-01-18T15:17:40.834162Z",
     "shell.execute_reply": "2023-01-18T15:17:40.833325Z"
    }
   },
   "outputs": [],
   "source": [
    "fy = sandy.get_endf6_file(\"jeff_33\", \"nfpy\", [922350, 942390])\n",
    "d = sandy.Fy.from_endf6(fy).data.query(\"MT==459 & E==2.53e-2\")\n",
    "d_33 = d[d.ZAP.isin(nuclides)].assign(LIB=\"JEFF-3.3\")"
   ]
  },
  {
   "cell_type": "code",
   "execution_count": 6,
   "id": "cab0cef5",
   "metadata": {
    "execution": {
     "iopub.execute_input": "2023-01-18T15:17:40.838777Z",
     "iopub.status.busy": "2023-01-18T15:17:40.838009Z",
     "iopub.status.idle": "2023-01-18T15:17:41.946658Z",
     "shell.execute_reply": "2023-01-18T15:17:41.945817Z"
    }
   },
   "outputs": [],
   "source": [
    "fy = sandy.get_endf6_file(\"jeff_311\", \"nfpy\", [922350, 942390])\n",
    "d = sandy.Fy.from_endf6(fy).data.query(\"MT==459 & E==2.53e-2\")\n",
    "d_311 = d[d.ZAP.isin(nuclides)].assign(LIB=\"JEFF-3.1.1\")"
   ]
  },
  {
   "cell_type": "code",
   "execution_count": 7,
   "id": "6728bc63",
   "metadata": {
    "execution": {
     "iopub.execute_input": "2023-01-18T15:17:41.950846Z",
     "iopub.status.busy": "2023-01-18T15:17:41.950399Z",
     "iopub.status.idle": "2023-01-18T15:17:43.201714Z",
     "shell.execute_reply": "2023-01-18T15:17:43.200859Z"
    }
   },
   "outputs": [],
   "source": [
    "fy = sandy.get_endf6_file(\"endfb_71\", \"nfpy\", [922350, 942390])\n",
    "d = sandy.Fy.from_endf6(fy).data.query(\"MT==459 & E==2.53e-2\")\n",
    "d_71 = d[d.ZAP.isin(nuclides)].assign(LIB=\"ENDF/B-VII.1\")"
   ]
  },
  {
   "cell_type": "code",
   "execution_count": 8,
   "id": "687db9d4",
   "metadata": {
    "execution": {
     "iopub.execute_input": "2023-01-18T15:17:43.206227Z",
     "iopub.status.busy": "2023-01-18T15:17:43.205687Z",
     "iopub.status.idle": "2023-01-18T15:17:44.777167Z",
     "shell.execute_reply": "2023-01-18T15:17:44.776301Z"
    }
   },
   "outputs": [],
   "source": [
    "fy = sandy.get_endf6_file(\"endfb_80\", \"nfpy\", [922350, 942390])\n",
    "d = sandy.Fy.from_endf6(fy).data.query(\"MT==459 & E==2.53e-2\")\n",
    "d_80 = d[d.ZAP.isin(nuclides)].assign(LIB=\"ENDF/B-VIII.0\")"
   ]
  },
  {
   "cell_type": "code",
   "execution_count": 9,
   "id": "db897fe3",
   "metadata": {
    "execution": {
     "iopub.execute_input": "2023-01-18T15:17:44.782146Z",
     "iopub.status.busy": "2023-01-18T15:17:44.781537Z",
     "iopub.status.idle": "2023-01-18T15:17:46.911609Z",
     "shell.execute_reply": "2023-01-18T15:17:46.910766Z"
    }
   },
   "outputs": [],
   "source": [
    "fy = sandy.get_endf6_file(\"jendl_40u\", \"nfpy\", [922350, 942390])\n",
    "d = sandy.Fy.from_endf6(fy).data.query(\"MT==459 & E==2.53e-2\")\n",
    "d_40u = d[d.ZAP.isin(nuclides)].assign(LIB=\"JENDL-4.0u\")"
   ]
  },
  {
   "cell_type": "code",
   "execution_count": 10,
   "id": "585529b1",
   "metadata": {
    "execution": {
     "iopub.execute_input": "2023-01-18T15:17:46.915747Z",
     "iopub.status.busy": "2023-01-18T15:17:46.915217Z",
     "iopub.status.idle": "2023-01-18T15:17:46.920336Z",
     "shell.execute_reply": "2023-01-18T15:17:46.919506Z"
    }
   },
   "outputs": [],
   "source": [
    "data = pd.concat([\n",
    "    d_311,\n",
    "    d_33,\n",
    "    d_71,\n",
    "    d_80,\n",
    "    d_40u,\n",
    "], ignore_index=True)"
   ]
  },
  {
   "cell_type": "markdown",
   "id": "98f20eb0",
   "metadata": {},
   "source": [
    "## U-235 data"
   ]
  },
  {
   "cell_type": "markdown",
   "id": "5bb99192",
   "metadata": {},
   "source": [
    "### Cumulative yield"
   ]
  },
  {
   "cell_type": "code",
   "execution_count": 11,
   "id": "1e9d13cb",
   "metadata": {
    "execution": {
     "iopub.execute_input": "2023-01-18T15:17:46.924097Z",
     "iopub.status.busy": "2023-01-18T15:17:46.923842Z",
     "iopub.status.idle": "2023-01-18T15:17:46.948165Z",
     "shell.execute_reply": "2023-01-18T15:17:46.947363Z"
    }
   },
   "outputs": [
    {
     "data": {
      "text/html": [
       "<div>\n",
       "<style scoped>\n",
       "    .dataframe tbody tr th:only-of-type {\n",
       "        vertical-align: middle;\n",
       "    }\n",
       "\n",
       "    .dataframe tbody tr th {\n",
       "        vertical-align: top;\n",
       "    }\n",
       "\n",
       "    .dataframe thead th {\n",
       "        text-align: right;\n",
       "    }\n",
       "</style>\n",
       "<table border=\"1\" class=\"dataframe\">\n",
       "  <thead>\n",
       "    <tr style=\"text-align: right;\">\n",
       "      <th>ZAP</th>\n",
       "      <th>$^{90}$Sr</th>\n",
       "      <th>$^{133}$Cs</th>\n",
       "      <th>$^{137}$Cs</th>\n",
       "      <th>$^{143}$Nd</th>\n",
       "      <th>$^{144}$Nd</th>\n",
       "      <th>$^{145}$Nd</th>\n",
       "      <th>$^{146}$Nd</th>\n",
       "      <th>$^{147}$Nd</th>\n",
       "      <th>$^{148}$Nd</th>\n",
       "      <th>$^{150}$Nd</th>\n",
       "    </tr>\n",
       "    <tr>\n",
       "      <th>LIB</th>\n",
       "      <th></th>\n",
       "      <th></th>\n",
       "      <th></th>\n",
       "      <th></th>\n",
       "      <th></th>\n",
       "      <th></th>\n",
       "      <th></th>\n",
       "      <th></th>\n",
       "      <th></th>\n",
       "      <th></th>\n",
       "    </tr>\n",
       "  </thead>\n",
       "  <tbody>\n",
       "    <tr>\n",
       "      <th>ENDF/B-VII.1</th>\n",
       "      <td>5.78194e-02</td>\n",
       "      <td>6.69909e-02</td>\n",
       "      <td>6.18832e-02</td>\n",
       "      <td>5.95576e-02</td>\n",
       "      <td>5.49957e-02</td>\n",
       "      <td>3.93337e-02</td>\n",
       "      <td>2.99690e-02</td>\n",
       "      <td>2.24673e-02</td>\n",
       "      <td>1.67354e-02</td>\n",
       "      <td>6.53249e-03</td>\n",
       "    </tr>\n",
       "    <tr>\n",
       "      <th>ENDF/B-VIII.0</th>\n",
       "      <td>5.78194e-02</td>\n",
       "      <td>6.69909e-02</td>\n",
       "      <td>6.18832e-02</td>\n",
       "      <td>5.95576e-02</td>\n",
       "      <td>5.49957e-02</td>\n",
       "      <td>3.93337e-02</td>\n",
       "      <td>2.99690e-02</td>\n",
       "      <td>2.24673e-02</td>\n",
       "      <td>1.67354e-02</td>\n",
       "      <td>6.53249e-03</td>\n",
       "    </tr>\n",
       "    <tr>\n",
       "      <th>JEFF-3.1.1</th>\n",
       "      <td>5.72900e-02</td>\n",
       "      <td>6.59630e-02</td>\n",
       "      <td>6.22080e-02</td>\n",
       "      <td>5.95410e-02</td>\n",
       "      <td>5.47450e-02</td>\n",
       "      <td>3.94390e-02</td>\n",
       "      <td>2.98660e-02</td>\n",
       "      <td>2.23200e-02</td>\n",
       "      <td>1.68080e-02</td>\n",
       "      <td>6.50740e-03</td>\n",
       "    </tr>\n",
       "    <tr>\n",
       "      <th>JEFF-3.3</th>\n",
       "      <td>5.67590e-02</td>\n",
       "      <td>6.65340e-02</td>\n",
       "      <td>6.08970e-02</td>\n",
       "      <td>5.95220e-02</td>\n",
       "      <td>5.47810e-02</td>\n",
       "      <td>3.95600e-02</td>\n",
       "      <td>2.99690e-02</td>\n",
       "      <td>2.24650e-02</td>\n",
       "      <td>1.69270e-02</td>\n",
       "      <td>6.53770e-03</td>\n",
       "    </tr>\n",
       "    <tr>\n",
       "      <th>JENDL-4.0u</th>\n",
       "      <td>5.77209e-02</td>\n",
       "      <td>6.68936e-02</td>\n",
       "      <td>6.17528e-02</td>\n",
       "      <td>5.94785e-02</td>\n",
       "      <td>5.49140e-02</td>\n",
       "      <td>3.92725e-02</td>\n",
       "      <td>2.99360e-02</td>\n",
       "      <td>2.24253e-02</td>\n",
       "      <td>1.67062e-02</td>\n",
       "      <td>6.52322e-03</td>\n",
       "    </tr>\n",
       "  </tbody>\n",
       "</table>\n",
       "</div>"
      ],
      "text/plain": [
       "ZAP             $^{90}$Sr  $^{133}$Cs  $^{137}$Cs  $^{143}$Nd  $^{144}$Nd  \\\n",
       "LIB                                                                         \n",
       "ENDF/B-VII.1  5.78194e-02 6.69909e-02 6.18832e-02 5.95576e-02 5.49957e-02   \n",
       "ENDF/B-VIII.0 5.78194e-02 6.69909e-02 6.18832e-02 5.95576e-02 5.49957e-02   \n",
       "JEFF-3.1.1    5.72900e-02 6.59630e-02 6.22080e-02 5.95410e-02 5.47450e-02   \n",
       "JEFF-3.3      5.67590e-02 6.65340e-02 6.08970e-02 5.95220e-02 5.47810e-02   \n",
       "JENDL-4.0u    5.77209e-02 6.68936e-02 6.17528e-02 5.94785e-02 5.49140e-02   \n",
       "\n",
       "ZAP            $^{145}$Nd  $^{146}$Nd  $^{147}$Nd  $^{148}$Nd  $^{150}$Nd  \n",
       "LIB                                                                        \n",
       "ENDF/B-VII.1  3.93337e-02 2.99690e-02 2.24673e-02 1.67354e-02 6.53249e-03  \n",
       "ENDF/B-VIII.0 3.93337e-02 2.99690e-02 2.24673e-02 1.67354e-02 6.53249e-03  \n",
       "JEFF-3.1.1    3.94390e-02 2.98660e-02 2.23200e-02 1.68080e-02 6.50740e-03  \n",
       "JEFF-3.3      3.95600e-02 2.99690e-02 2.24650e-02 1.69270e-02 6.53770e-03  \n",
       "JENDL-4.0u    3.92725e-02 2.99360e-02 2.24253e-02 1.67062e-02 6.52322e-03  "
      ]
     },
     "execution_count": 11,
     "metadata": {},
     "output_type": "execute_result"
    }
   ],
   "source": [
    "vals = data.query(\"ZAM==922350\").pivot_table(index=\"LIB\", columns=\"ZAP\", values=\"FY\")\n",
    "vals.columns = pd.Index(map(sandy.zam.zam2latex, vals.columns), name=\"ZAP\")\n",
    "vals"
   ]
  },
  {
   "cell_type": "markdown",
   "id": "b18c29c0",
   "metadata": {},
   "source": [
    "### Absolute error"
   ]
  },
  {
   "cell_type": "code",
   "execution_count": 12,
   "id": "c6c8888d",
   "metadata": {
    "execution": {
     "iopub.execute_input": "2023-01-18T15:17:46.952658Z",
     "iopub.status.busy": "2023-01-18T15:17:46.952188Z",
     "iopub.status.idle": "2023-01-18T15:17:46.972292Z",
     "shell.execute_reply": "2023-01-18T15:17:46.971514Z"
    }
   },
   "outputs": [
    {
     "data": {
      "text/html": [
       "<div>\n",
       "<style scoped>\n",
       "    .dataframe tbody tr th:only-of-type {\n",
       "        vertical-align: middle;\n",
       "    }\n",
       "\n",
       "    .dataframe tbody tr th {\n",
       "        vertical-align: top;\n",
       "    }\n",
       "\n",
       "    .dataframe thead th {\n",
       "        text-align: right;\n",
       "    }\n",
       "</style>\n",
       "<table border=\"1\" class=\"dataframe\">\n",
       "  <thead>\n",
       "    <tr style=\"text-align: right;\">\n",
       "      <th>ZAP</th>\n",
       "      <th>$^{90}$Sr</th>\n",
       "      <th>$^{133}$Cs</th>\n",
       "      <th>$^{137}$Cs</th>\n",
       "      <th>$^{143}$Nd</th>\n",
       "      <th>$^{144}$Nd</th>\n",
       "      <th>$^{145}$Nd</th>\n",
       "      <th>$^{146}$Nd</th>\n",
       "      <th>$^{147}$Nd</th>\n",
       "      <th>$^{148}$Nd</th>\n",
       "      <th>$^{150}$Nd</th>\n",
       "    </tr>\n",
       "    <tr>\n",
       "      <th>LIB</th>\n",
       "      <th></th>\n",
       "      <th></th>\n",
       "      <th></th>\n",
       "      <th></th>\n",
       "      <th></th>\n",
       "      <th></th>\n",
       "      <th></th>\n",
       "      <th></th>\n",
       "      <th></th>\n",
       "      <th></th>\n",
       "    </tr>\n",
       "  </thead>\n",
       "  <tbody>\n",
       "    <tr>\n",
       "      <th>ENDF/B-VII.1</th>\n",
       "      <td>5.78194e-04</td>\n",
       "      <td>2.34468e-04</td>\n",
       "      <td>3.09416e-04</td>\n",
       "      <td>2.08452e-04</td>\n",
       "      <td>1.92485e-04</td>\n",
       "      <td>1.37668e-04</td>\n",
       "      <td>1.04892e-04</td>\n",
       "      <td>3.14542e-04</td>\n",
       "      <td>5.85740e-05</td>\n",
       "      <td>3.26624e-05</td>\n",
       "    </tr>\n",
       "    <tr>\n",
       "      <th>ENDF/B-VIII.0</th>\n",
       "      <td>5.78194e-04</td>\n",
       "      <td>2.34468e-04</td>\n",
       "      <td>3.09416e-04</td>\n",
       "      <td>2.08452e-04</td>\n",
       "      <td>1.92485e-04</td>\n",
       "      <td>1.37668e-04</td>\n",
       "      <td>1.04892e-04</td>\n",
       "      <td>3.14542e-04</td>\n",
       "      <td>5.85740e-05</td>\n",
       "      <td>3.26624e-05</td>\n",
       "    </tr>\n",
       "    <tr>\n",
       "      <th>JEFF-3.1.1</th>\n",
       "      <td>1.31920e-03</td>\n",
       "      <td>1.05500e-03</td>\n",
       "      <td>6.93580e-04</td>\n",
       "      <td>8.33760e-04</td>\n",
       "      <td>5.47200e-04</td>\n",
       "      <td>4.34030e-04</td>\n",
       "      <td>2.98670e-04</td>\n",
       "      <td>4.01760e-04</td>\n",
       "      <td>1.17600e-04</td>\n",
       "      <td>6.50750e-05</td>\n",
       "    </tr>\n",
       "    <tr>\n",
       "      <th>JEFF-3.3</th>\n",
       "      <td>1.30680e-03</td>\n",
       "      <td>1.19720e-03</td>\n",
       "      <td>6.32840e-04</td>\n",
       "      <td>7.14390e-04</td>\n",
       "      <td>4.92120e-04</td>\n",
       "      <td>3.96460e-04</td>\n",
       "      <td>2.99710e-04</td>\n",
       "      <td>3.81910e-04</td>\n",
       "      <td>1.18300e-04</td>\n",
       "      <td>6.53910e-05</td>\n",
       "    </tr>\n",
       "    <tr>\n",
       "      <th>JENDL-4.0u</th>\n",
       "      <td>5.86531e-04</td>\n",
       "      <td>2.53866e-04</td>\n",
       "      <td>3.35754e-04</td>\n",
       "      <td>2.22959e-04</td>\n",
       "      <td>2.09088e-04</td>\n",
       "      <td>1.50678e-04</td>\n",
       "      <td>1.09975e-04</td>\n",
       "      <td>3.17339e-04</td>\n",
       "      <td>6.54533e-05</td>\n",
       "      <td>3.39510e-05</td>\n",
       "    </tr>\n",
       "  </tbody>\n",
       "</table>\n",
       "</div>"
      ],
      "text/plain": [
       "ZAP             $^{90}$Sr  $^{133}$Cs  $^{137}$Cs  $^{143}$Nd  $^{144}$Nd  \\\n",
       "LIB                                                                         \n",
       "ENDF/B-VII.1  5.78194e-04 2.34468e-04 3.09416e-04 2.08452e-04 1.92485e-04   \n",
       "ENDF/B-VIII.0 5.78194e-04 2.34468e-04 3.09416e-04 2.08452e-04 1.92485e-04   \n",
       "JEFF-3.1.1    1.31920e-03 1.05500e-03 6.93580e-04 8.33760e-04 5.47200e-04   \n",
       "JEFF-3.3      1.30680e-03 1.19720e-03 6.32840e-04 7.14390e-04 4.92120e-04   \n",
       "JENDL-4.0u    5.86531e-04 2.53866e-04 3.35754e-04 2.22959e-04 2.09088e-04   \n",
       "\n",
       "ZAP            $^{145}$Nd  $^{146}$Nd  $^{147}$Nd  $^{148}$Nd  $^{150}$Nd  \n",
       "LIB                                                                        \n",
       "ENDF/B-VII.1  1.37668e-04 1.04892e-04 3.14542e-04 5.85740e-05 3.26624e-05  \n",
       "ENDF/B-VIII.0 1.37668e-04 1.04892e-04 3.14542e-04 5.85740e-05 3.26624e-05  \n",
       "JEFF-3.1.1    4.34030e-04 2.98670e-04 4.01760e-04 1.17600e-04 6.50750e-05  \n",
       "JEFF-3.3      3.96460e-04 2.99710e-04 3.81910e-04 1.18300e-04 6.53910e-05  \n",
       "JENDL-4.0u    1.50678e-04 1.09975e-04 3.17339e-04 6.54533e-05 3.39510e-05  "
      ]
     },
     "execution_count": 12,
     "metadata": {},
     "output_type": "execute_result"
    }
   ],
   "source": [
    "err = data.query(\"ZAM==922350\").pivot_table(index=\"LIB\", columns=\"ZAP\", values=\"DFY\")\n",
    "err.columns = pd.Index(map(sandy.zam.zam2latex, err.columns), name=\"ZAP\")\n",
    "err"
   ]
  },
  {
   "cell_type": "code",
   "execution_count": 13,
   "id": "ed51723b",
   "metadata": {
    "execution": {
     "iopub.execute_input": "2023-01-18T15:17:46.975706Z",
     "iopub.status.busy": "2023-01-18T15:17:46.975305Z",
     "iopub.status.idle": "2023-01-18T15:17:47.702829Z",
     "shell.execute_reply": "2023-01-18T15:17:47.701892Z"
    }
   },
   "outputs": [
    {
     "data": {
      "image/png": "[encoded data removed]",
      "text/plain": [
       "<Figure size 700x350 with 1 Axes>"
      ]
     },
     "metadata": {},
     "output_type": "display_data"
    }
   ],
   "source": [
    "%%capture --no-display\n",
    "fig, ax = plt.subplots(figsize=(7, 3.5), dpi=100)\n",
    "\n",
    "step = 1 / (vals.T.columns.size + 1)\n",
    "for i, LIB in enumerate(vals.T.columns):\n",
    "    x = np.arange(vals.T[LIB].shape[0])\n",
    "    ax.bar(data=vals.T[LIB].reset_index(), x=x+i*step, height=LIB, yerr=err.T[LIB], capsize=2, width=step)\n",
    "ax.legend(labels=vals.T.columns)\n",
    "ticks = ax.get_xticks()\n",
    "ax.set_xticklabels(vals.columns.values)\n",
    "ax.set_xticks(np.arange(9) + step)\n",
    "ax.set(\n",
    "    ylabel=\"cumulative fission yield $\\\\pm 1\\\\sigma$\",\n",
    ")\n",
    "fig.tight_layout();"
   ]
  },
  {
   "cell_type": "markdown",
   "id": "ccf85624",
   "metadata": {},
   "source": [
    "### Relative error (%)"
   ]
  },
  {
   "cell_type": "code",
   "execution_count": 14,
   "id": "c8bde610",
   "metadata": {
    "execution": {
     "iopub.execute_input": "2023-01-18T15:17:47.707454Z",
     "iopub.status.busy": "2023-01-18T15:17:47.707005Z",
     "iopub.status.idle": "2023-01-18T15:17:47.723251Z",
     "shell.execute_reply": "2023-01-18T15:17:47.722607Z"
    }
   },
   "outputs": [
    {
     "data": {
      "text/html": [
       "<div>\n",
       "<style scoped>\n",
       "    .dataframe tbody tr th:only-of-type {\n",
       "        vertical-align: middle;\n",
       "    }\n",
       "\n",
       "    .dataframe tbody tr th {\n",
       "        vertical-align: top;\n",
       "    }\n",
       "\n",
       "    .dataframe thead th {\n",
       "        text-align: right;\n",
       "    }\n",
       "</style>\n",
       "<table border=\"1\" class=\"dataframe\">\n",
       "  <thead>\n",
       "    <tr style=\"text-align: right;\">\n",
       "      <th>ZAP</th>\n",
       "      <th>$^{90}$Sr</th>\n",
       "      <th>$^{133}$Cs</th>\n",
       "      <th>$^{137}$Cs</th>\n",
       "      <th>$^{143}$Nd</th>\n",
       "      <th>$^{144}$Nd</th>\n",
       "      <th>$^{145}$Nd</th>\n",
       "      <th>$^{146}$Nd</th>\n",
       "      <th>$^{147}$Nd</th>\n",
       "      <th>$^{148}$Nd</th>\n",
       "      <th>$^{150}$Nd</th>\n",
       "    </tr>\n",
       "    <tr>\n",
       "      <th>LIB</th>\n",
       "      <th></th>\n",
       "      <th></th>\n",
       "      <th></th>\n",
       "      <th></th>\n",
       "      <th></th>\n",
       "      <th></th>\n",
       "      <th></th>\n",
       "      <th></th>\n",
       "      <th></th>\n",
       "      <th></th>\n",
       "    </tr>\n",
       "  </thead>\n",
       "  <tbody>\n",
       "    <tr>\n",
       "      <th>ENDF/B-VII.1</th>\n",
       "      <td>1.00000e+00</td>\n",
       "      <td>3.50000e-01</td>\n",
       "      <td>5.00000e-01</td>\n",
       "      <td>3.50001e-01</td>\n",
       "      <td>3.50000e-01</td>\n",
       "      <td>3.50000e-01</td>\n",
       "      <td>3.50002e-01</td>\n",
       "      <td>1.40000e+00</td>\n",
       "      <td>3.50001e-01</td>\n",
       "      <td>4.99999e-01</td>\n",
       "    </tr>\n",
       "    <tr>\n",
       "      <th>ENDF/B-VIII.0</th>\n",
       "      <td>1.00000e+00</td>\n",
       "      <td>3.50000e-01</td>\n",
       "      <td>5.00000e-01</td>\n",
       "      <td>3.50001e-01</td>\n",
       "      <td>3.50000e-01</td>\n",
       "      <td>3.50000e-01</td>\n",
       "      <td>3.50002e-01</td>\n",
       "      <td>1.40000e+00</td>\n",
       "      <td>3.50001e-01</td>\n",
       "      <td>4.99999e-01</td>\n",
       "    </tr>\n",
       "    <tr>\n",
       "      <th>JEFF-3.1.1</th>\n",
       "      <td>2.30267e+00</td>\n",
       "      <td>1.59938e+00</td>\n",
       "      <td>1.11494e+00</td>\n",
       "      <td>1.40031e+00</td>\n",
       "      <td>9.99543e-01</td>\n",
       "      <td>1.10051e+00</td>\n",
       "      <td>1.00003e+00</td>\n",
       "      <td>1.80000e+00</td>\n",
       "      <td>6.99667e-01</td>\n",
       "      <td>1.00002e+00</td>\n",
       "    </tr>\n",
       "    <tr>\n",
       "      <th>JEFF-3.3</th>\n",
       "      <td>2.30237e+00</td>\n",
       "      <td>1.79938e+00</td>\n",
       "      <td>1.03920e+00</td>\n",
       "      <td>1.20021e+00</td>\n",
       "      <td>8.98341e-01</td>\n",
       "      <td>1.00217e+00</td>\n",
       "      <td>1.00007e+00</td>\n",
       "      <td>1.70002e+00</td>\n",
       "      <td>6.98883e-01</td>\n",
       "      <td>1.00021e+00</td>\n",
       "    </tr>\n",
       "    <tr>\n",
       "      <th>JENDL-4.0u</th>\n",
       "      <td>1.01615e+00</td>\n",
       "      <td>3.79507e-01</td>\n",
       "      <td>5.43707e-01</td>\n",
       "      <td>3.74856e-01</td>\n",
       "      <td>3.80755e-01</td>\n",
       "      <td>3.83673e-01</td>\n",
       "      <td>3.67367e-01</td>\n",
       "      <td>1.41509e+00</td>\n",
       "      <td>3.91790e-01</td>\n",
       "      <td>5.20464e-01</td>\n",
       "    </tr>\n",
       "  </tbody>\n",
       "</table>\n",
       "</div>"
      ],
      "text/plain": [
       "ZAP             $^{90}$Sr  $^{133}$Cs  $^{137}$Cs  $^{143}$Nd  $^{144}$Nd  \\\n",
       "LIB                                                                         \n",
       "ENDF/B-VII.1  1.00000e+00 3.50000e-01 5.00000e-01 3.50001e-01 3.50000e-01   \n",
       "ENDF/B-VIII.0 1.00000e+00 3.50000e-01 5.00000e-01 3.50001e-01 3.50000e-01   \n",
       "JEFF-3.1.1    2.30267e+00 1.59938e+00 1.11494e+00 1.40031e+00 9.99543e-01   \n",
       "JEFF-3.3      2.30237e+00 1.79938e+00 1.03920e+00 1.20021e+00 8.98341e-01   \n",
       "JENDL-4.0u    1.01615e+00 3.79507e-01 5.43707e-01 3.74856e-01 3.80755e-01   \n",
       "\n",
       "ZAP            $^{145}$Nd  $^{146}$Nd  $^{147}$Nd  $^{148}$Nd  $^{150}$Nd  \n",
       "LIB                                                                        \n",
       "ENDF/B-VII.1  3.50000e-01 3.50002e-01 1.40000e+00 3.50001e-01 4.99999e-01  \n",
       "ENDF/B-VIII.0 3.50000e-01 3.50002e-01 1.40000e+00 3.50001e-01 4.99999e-01  \n",
       "JEFF-3.1.1    1.10051e+00 1.00003e+00 1.80000e+00 6.99667e-01 1.00002e+00  \n",
       "JEFF-3.3      1.00217e+00 1.00007e+00 1.70002e+00 6.98883e-01 1.00021e+00  \n",
       "JENDL-4.0u    3.83673e-01 3.67367e-01 1.41509e+00 3.91790e-01 5.20464e-01  "
      ]
     },
     "execution_count": 14,
     "metadata": {},
     "output_type": "execute_result"
    }
   ],
   "source": [
    "err / vals * 100"
   ]
  },
  {
   "cell_type": "markdown",
   "id": "a24e6af5",
   "metadata": {},
   "source": [
    "## Pu-239 data"
   ]
  },
  {
   "cell_type": "markdown",
   "id": "615a038c",
   "metadata": {},
   "source": [
    "### Cumulative yield"
   ]
  },
  {
   "cell_type": "code",
   "execution_count": 15,
   "id": "a7f783ee",
   "metadata": {
    "execution": {
     "iopub.execute_input": "2023-01-18T15:17:47.727266Z",
     "iopub.status.busy": "2023-01-18T15:17:47.726540Z",
     "iopub.status.idle": "2023-01-18T15:17:47.747792Z",
     "shell.execute_reply": "2023-01-18T15:17:47.746988Z"
    }
   },
   "outputs": [
    {
     "data": {
      "text/html": [
       "<div>\n",
       "<style scoped>\n",
       "    .dataframe tbody tr th:only-of-type {\n",
       "        vertical-align: middle;\n",
       "    }\n",
       "\n",
       "    .dataframe tbody tr th {\n",
       "        vertical-align: top;\n",
       "    }\n",
       "\n",
       "    .dataframe thead th {\n",
       "        text-align: right;\n",
       "    }\n",
       "</style>\n",
       "<table border=\"1\" class=\"dataframe\">\n",
       "  <thead>\n",
       "    <tr style=\"text-align: right;\">\n",
       "      <th>ZAP</th>\n",
       "      <th>$^{90}$Sr</th>\n",
       "      <th>$^{133}$Cs</th>\n",
       "      <th>$^{137}$Cs</th>\n",
       "      <th>$^{143}$Nd</th>\n",
       "      <th>$^{144}$Nd</th>\n",
       "      <th>$^{145}$Nd</th>\n",
       "      <th>$^{146}$Nd</th>\n",
       "      <th>$^{147}$Nd</th>\n",
       "      <th>$^{148}$Nd</th>\n",
       "      <th>$^{150}$Nd</th>\n",
       "    </tr>\n",
       "    <tr>\n",
       "      <th>LIB</th>\n",
       "      <th></th>\n",
       "      <th></th>\n",
       "      <th></th>\n",
       "      <th></th>\n",
       "      <th></th>\n",
       "      <th></th>\n",
       "      <th></th>\n",
       "      <th></th>\n",
       "      <th></th>\n",
       "      <th></th>\n",
       "    </tr>\n",
       "  </thead>\n",
       "  <tbody>\n",
       "    <tr>\n",
       "      <th>ENDF/B-VII.1</th>\n",
       "      <td>2.10408e-02</td>\n",
       "      <td>7.01629e-02</td>\n",
       "      <td>6.60739e-02</td>\n",
       "      <td>4.41321e-02</td>\n",
       "      <td>3.73974e-02</td>\n",
       "      <td>2.98627e-02</td>\n",
       "      <td>2.45812e-02</td>\n",
       "      <td>2.00296e-02</td>\n",
       "      <td>1.64209e-02</td>\n",
       "      <td>9.66295e-03</td>\n",
       "    </tr>\n",
       "    <tr>\n",
       "      <th>ENDF/B-VIII.0</th>\n",
       "      <td>2.10408e-02</td>\n",
       "      <td>7.01629e-02</td>\n",
       "      <td>6.60739e-02</td>\n",
       "      <td>4.41321e-02</td>\n",
       "      <td>3.73974e-02</td>\n",
       "      <td>2.98627e-02</td>\n",
       "      <td>2.45812e-02</td>\n",
       "      <td>2.00296e-02</td>\n",
       "      <td>1.64209e-02</td>\n",
       "      <td>9.66295e-03</td>\n",
       "    </tr>\n",
       "    <tr>\n",
       "      <th>JEFF-3.1.1</th>\n",
       "      <td>2.01330e-02</td>\n",
       "      <td>6.99480e-02</td>\n",
       "      <td>6.58810e-02</td>\n",
       "      <td>4.47560e-02</td>\n",
       "      <td>3.75550e-02</td>\n",
       "      <td>3.03570e-02</td>\n",
       "      <td>2.49630e-02</td>\n",
       "      <td>2.04360e-02</td>\n",
       "      <td>1.65830e-02</td>\n",
       "      <td>9.74630e-03</td>\n",
       "    </tr>\n",
       "    <tr>\n",
       "      <th>JEFF-3.3</th>\n",
       "      <td>2.07680e-02</td>\n",
       "      <td>6.84400e-02</td>\n",
       "      <td>6.57960e-02</td>\n",
       "      <td>4.45030e-02</td>\n",
       "      <td>3.76250e-02</td>\n",
       "      <td>3.04720e-02</td>\n",
       "      <td>2.52890e-02</td>\n",
       "      <td>2.07140e-02</td>\n",
       "      <td>1.68500e-02</td>\n",
       "      <td>9.75350e-03</td>\n",
       "    </tr>\n",
       "    <tr>\n",
       "      <th>JENDL-4.0u</th>\n",
       "      <td>2.10320e-02</td>\n",
       "      <td>7.01558e-02</td>\n",
       "      <td>6.60478e-02</td>\n",
       "      <td>4.41279e-02</td>\n",
       "      <td>3.73922e-02</td>\n",
       "      <td>2.98578e-02</td>\n",
       "      <td>2.45799e-02</td>\n",
       "      <td>2.00259e-02</td>\n",
       "      <td>1.64174e-02</td>\n",
       "      <td>9.66187e-03</td>\n",
       "    </tr>\n",
       "  </tbody>\n",
       "</table>\n",
       "</div>"
      ],
      "text/plain": [
       "ZAP             $^{90}$Sr  $^{133}$Cs  $^{137}$Cs  $^{143}$Nd  $^{144}$Nd  \\\n",
       "LIB                                                                         \n",
       "ENDF/B-VII.1  2.10408e-02 7.01629e-02 6.60739e-02 4.41321e-02 3.73974e-02   \n",
       "ENDF/B-VIII.0 2.10408e-02 7.01629e-02 6.60739e-02 4.41321e-02 3.73974e-02   \n",
       "JEFF-3.1.1    2.01330e-02 6.99480e-02 6.58810e-02 4.47560e-02 3.75550e-02   \n",
       "JEFF-3.3      2.07680e-02 6.84400e-02 6.57960e-02 4.45030e-02 3.76250e-02   \n",
       "JENDL-4.0u    2.10320e-02 7.01558e-02 6.60478e-02 4.41279e-02 3.73922e-02   \n",
       "\n",
       "ZAP            $^{145}$Nd  $^{146}$Nd  $^{147}$Nd  $^{148}$Nd  $^{150}$Nd  \n",
       "LIB                                                                        \n",
       "ENDF/B-VII.1  2.98627e-02 2.45812e-02 2.00296e-02 1.64209e-02 9.66295e-03  \n",
       "ENDF/B-VIII.0 2.98627e-02 2.45812e-02 2.00296e-02 1.64209e-02 9.66295e-03  \n",
       "JEFF-3.1.1    3.03570e-02 2.49630e-02 2.04360e-02 1.65830e-02 9.74630e-03  \n",
       "JEFF-3.3      3.04720e-02 2.52890e-02 2.07140e-02 1.68500e-02 9.75350e-03  \n",
       "JENDL-4.0u    2.98578e-02 2.45799e-02 2.00259e-02 1.64174e-02 9.66187e-03  "
      ]
     },
     "execution_count": 15,
     "metadata": {},
     "output_type": "execute_result"
    }
   ],
   "source": [
    "vals = data.query(\"ZAM==942390\").pivot_table(index=\"LIB\", columns=\"ZAP\", values=\"FY\")\n",
    "vals.columns = pd.Index(map(sandy.zam.zam2latex, vals.columns), name=\"ZAP\")\n",
    "vals"
   ]
  },
  {
   "cell_type": "markdown",
   "id": "86ae7743",
   "metadata": {},
   "source": [
    "### Absolute error"
   ]
  },
  {
   "cell_type": "code",
   "execution_count": 16,
   "id": "16b533d6",
   "metadata": {
    "execution": {
     "iopub.execute_input": "2023-01-18T15:17:47.751418Z",
     "iopub.status.busy": "2023-01-18T15:17:47.751001Z",
     "iopub.status.idle": "2023-01-18T15:17:47.771294Z",
     "shell.execute_reply": "2023-01-18T15:17:47.770482Z"
    }
   },
   "outputs": [
    {
     "data": {
      "text/html": [
       "<div>\n",
       "<style scoped>\n",
       "    .dataframe tbody tr th:only-of-type {\n",
       "        vertical-align: middle;\n",
       "    }\n",
       "\n",
       "    .dataframe tbody tr th {\n",
       "        vertical-align: top;\n",
       "    }\n",
       "\n",
       "    .dataframe thead th {\n",
       "        text-align: right;\n",
       "    }\n",
       "</style>\n",
       "<table border=\"1\" class=\"dataframe\">\n",
       "  <thead>\n",
       "    <tr style=\"text-align: right;\">\n",
       "      <th>ZAP</th>\n",
       "      <th>$^{90}$Sr</th>\n",
       "      <th>$^{133}$Cs</th>\n",
       "      <th>$^{137}$Cs</th>\n",
       "      <th>$^{143}$Nd</th>\n",
       "      <th>$^{144}$Nd</th>\n",
       "      <th>$^{145}$Nd</th>\n",
       "      <th>$^{146}$Nd</th>\n",
       "      <th>$^{147}$Nd</th>\n",
       "      <th>$^{148}$Nd</th>\n",
       "      <th>$^{150}$Nd</th>\n",
       "    </tr>\n",
       "    <tr>\n",
       "      <th>LIB</th>\n",
       "      <th></th>\n",
       "      <th></th>\n",
       "      <th></th>\n",
       "      <th></th>\n",
       "      <th></th>\n",
       "      <th></th>\n",
       "      <th></th>\n",
       "      <th></th>\n",
       "      <th></th>\n",
       "      <th></th>\n",
       "    </tr>\n",
       "  </thead>\n",
       "  <tbody>\n",
       "    <tr>\n",
       "      <th>ENDF/B-VII.1</th>\n",
       "      <td>4.20816e-04</td>\n",
       "      <td>3.50815e-04</td>\n",
       "      <td>3.30369e-04</td>\n",
       "      <td>2.20660e-04</td>\n",
       "      <td>1.30891e-04</td>\n",
       "      <td>1.04520e-04</td>\n",
       "      <td>8.60340e-05</td>\n",
       "      <td>5.60828e-04</td>\n",
       "      <td>8.21047e-05</td>\n",
       "      <td>3.38203e-05</td>\n",
       "    </tr>\n",
       "    <tr>\n",
       "      <th>ENDF/B-VIII.0</th>\n",
       "      <td>4.20816e-04</td>\n",
       "      <td>3.50815e-04</td>\n",
       "      <td>3.30369e-04</td>\n",
       "      <td>2.20660e-04</td>\n",
       "      <td>1.30891e-04</td>\n",
       "      <td>1.04520e-04</td>\n",
       "      <td>8.60340e-05</td>\n",
       "      <td>5.60828e-04</td>\n",
       "      <td>8.21047e-05</td>\n",
       "      <td>3.38203e-05</td>\n",
       "    </tr>\n",
       "    <tr>\n",
       "      <th>JEFF-3.1.1</th>\n",
       "      <td>5.43960e-04</td>\n",
       "      <td>1.25890e-03</td>\n",
       "      <td>8.02620e-04</td>\n",
       "      <td>4.92380e-04</td>\n",
       "      <td>3.00440e-04</td>\n",
       "      <td>3.33940e-04</td>\n",
       "      <td>2.49630e-04</td>\n",
       "      <td>3.88290e-04</td>\n",
       "      <td>1.65830e-04</td>\n",
       "      <td>1.26740e-04</td>\n",
       "    </tr>\n",
       "    <tr>\n",
       "      <th>JEFF-3.3</th>\n",
       "      <td>5.81820e-04</td>\n",
       "      <td>1.43720e-03</td>\n",
       "      <td>8.01810e-04</td>\n",
       "      <td>5.34100e-04</td>\n",
       "      <td>3.38490e-04</td>\n",
       "      <td>3.04810e-04</td>\n",
       "      <td>2.27600e-04</td>\n",
       "      <td>4.55620e-04</td>\n",
       "      <td>1.51560e-04</td>\n",
       "      <td>1.36560e-04</td>\n",
       "    </tr>\n",
       "    <tr>\n",
       "      <th>JENDL-4.0u</th>\n",
       "      <td>4.20908e-04</td>\n",
       "      <td>3.50886e-04</td>\n",
       "      <td>3.31397e-04</td>\n",
       "      <td>2.20700e-04</td>\n",
       "      <td>1.30995e-04</td>\n",
       "      <td>1.04636e-04</td>\n",
       "      <td>8.60441e-05</td>\n",
       "      <td>5.60840e-04</td>\n",
       "      <td>8.21794e-05</td>\n",
       "      <td>3.38376e-05</td>\n",
       "    </tr>\n",
       "  </tbody>\n",
       "</table>\n",
       "</div>"
      ],
      "text/plain": [
       "ZAP             $^{90}$Sr  $^{133}$Cs  $^{137}$Cs  $^{143}$Nd  $^{144}$Nd  \\\n",
       "LIB                                                                         \n",
       "ENDF/B-VII.1  4.20816e-04 3.50815e-04 3.30369e-04 2.20660e-04 1.30891e-04   \n",
       "ENDF/B-VIII.0 4.20816e-04 3.50815e-04 3.30369e-04 2.20660e-04 1.30891e-04   \n",
       "JEFF-3.1.1    5.43960e-04 1.25890e-03 8.02620e-04 4.92380e-04 3.00440e-04   \n",
       "JEFF-3.3      5.81820e-04 1.43720e-03 8.01810e-04 5.34100e-04 3.38490e-04   \n",
       "JENDL-4.0u    4.20908e-04 3.50886e-04 3.31397e-04 2.20700e-04 1.30995e-04   \n",
       "\n",
       "ZAP            $^{145}$Nd  $^{146}$Nd  $^{147}$Nd  $^{148}$Nd  $^{150}$Nd  \n",
       "LIB                                                                        \n",
       "ENDF/B-VII.1  1.04520e-04 8.60340e-05 5.60828e-04 8.21047e-05 3.38203e-05  \n",
       "ENDF/B-VIII.0 1.04520e-04 8.60340e-05 5.60828e-04 8.21047e-05 3.38203e-05  \n",
       "JEFF-3.1.1    3.33940e-04 2.49630e-04 3.88290e-04 1.65830e-04 1.26740e-04  \n",
       "JEFF-3.3      3.04810e-04 2.27600e-04 4.55620e-04 1.51560e-04 1.36560e-04  \n",
       "JENDL-4.0u    1.04636e-04 8.60441e-05 5.60840e-04 8.21794e-05 3.38376e-05  "
      ]
     },
     "execution_count": 16,
     "metadata": {},
     "output_type": "execute_result"
    }
   ],
   "source": [
    "err = data.query(\"ZAM==942390\").pivot_table(index=\"LIB\", columns=\"ZAP\", values=\"DFY\")\n",
    "err.columns = pd.Index(map(sandy.zam.zam2latex, err.columns), name=\"ZAP\")\n",
    "err"
   ]
  },
  {
   "cell_type": "code",
   "execution_count": 17,
   "id": "2dd53b1c",
   "metadata": {
    "execution": {
     "iopub.execute_input": "2023-01-18T15:17:47.775052Z",
     "iopub.status.busy": "2023-01-18T15:17:47.774391Z",
     "iopub.status.idle": "2023-01-18T15:17:48.254537Z",
     "shell.execute_reply": "2023-01-18T15:17:48.252879Z"
    }
   },
   "outputs": [
    {
     "data": {
      "image/png": "[encoded data removed]",
      "text/plain": [
       "<Figure size 700x350 with 1 Axes>"
      ]
     },
     "metadata": {},
     "output_type": "display_data"
    }
   ],
   "source": [
    "%%capture --no-display\n",
    "fig, ax = plt.subplots(figsize=(7, 3.5), dpi=100)\n",
    "\n",
    "step = 1 / (vals.T.columns.size + 1)\n",
    "for i, LIB in enumerate(vals.T.columns):\n",
    "    x = np.arange(vals.T[LIB].shape[0])\n",
    "    ax.bar(data=vals.T[LIB].reset_index(), x=x+i*step, height=LIB, yerr=err.T[LIB], capsize=2, width=step)\n",
    "ax.legend(labels=vals.T.columns)\n",
    "ticks = ax.get_xticks()\n",
    "ax.set_xticklabels(vals.columns.values)\n",
    "ax.set_xticks(np.arange(9) + step)\n",
    "ax.set(\n",
    "    ylabel=\"cumulative fission yield $\\\\pm 1\\\\sigma$\",\n",
    ")\n",
    "fig.tight_layout();"
   ]
  },
  {
   "cell_type": "markdown",
   "id": "311709f5",
   "metadata": {},
   "source": [
    "### Relative error (%)"
   ]
  },
  {
   "cell_type": "code",
   "execution_count": 18,
   "id": "081f29ba",
   "metadata": {
    "execution": {
     "iopub.execute_input": "2023-01-18T15:17:48.258807Z",
     "iopub.status.busy": "2023-01-18T15:17:48.258261Z",
     "iopub.status.idle": "2023-01-18T15:17:48.270453Z",
     "shell.execute_reply": "2023-01-18T15:17:48.269664Z"
    }
   },
   "outputs": [
    {
     "data": {
      "text/html": [
       "<div>\n",
       "<style scoped>\n",
       "    .dataframe tbody tr th:only-of-type {\n",
       "        vertical-align: middle;\n",
       "    }\n",
       "\n",
       "    .dataframe tbody tr th {\n",
       "        vertical-align: top;\n",
       "    }\n",
       "\n",
       "    .dataframe thead th {\n",
       "        text-align: right;\n",
       "    }\n",
       "</style>\n",
       "<table border=\"1\" class=\"dataframe\">\n",
       "  <thead>\n",
       "    <tr style=\"text-align: right;\">\n",
       "      <th>ZAP</th>\n",
       "      <th>$^{90}$Sr</th>\n",
       "      <th>$^{133}$Cs</th>\n",
       "      <th>$^{137}$Cs</th>\n",
       "      <th>$^{143}$Nd</th>\n",
       "      <th>$^{144}$Nd</th>\n",
       "      <th>$^{145}$Nd</th>\n",
       "      <th>$^{146}$Nd</th>\n",
       "      <th>$^{147}$Nd</th>\n",
       "      <th>$^{148}$Nd</th>\n",
       "      <th>$^{150}$Nd</th>\n",
       "    </tr>\n",
       "    <tr>\n",
       "      <th>LIB</th>\n",
       "      <th></th>\n",
       "      <th></th>\n",
       "      <th></th>\n",
       "      <th></th>\n",
       "      <th></th>\n",
       "      <th></th>\n",
       "      <th></th>\n",
       "      <th></th>\n",
       "      <th></th>\n",
       "      <th></th>\n",
       "    </tr>\n",
       "  </thead>\n",
       "  <tbody>\n",
       "    <tr>\n",
       "      <th>ENDF/B-VII.1</th>\n",
       "      <td>2.00000e+00</td>\n",
       "      <td>5.00001e-01</td>\n",
       "      <td>4.99999e-01</td>\n",
       "      <td>4.99999e-01</td>\n",
       "      <td>3.50000e-01</td>\n",
       "      <td>3.50002e-01</td>\n",
       "      <td>3.49999e-01</td>\n",
       "      <td>2.80000e+00</td>\n",
       "      <td>5.00001e-01</td>\n",
       "      <td>3.50000e-01</td>\n",
       "    </tr>\n",
       "    <tr>\n",
       "      <th>ENDF/B-VIII.0</th>\n",
       "      <td>2.00000e+00</td>\n",
       "      <td>5.00001e-01</td>\n",
       "      <td>4.99999e-01</td>\n",
       "      <td>4.99999e-01</td>\n",
       "      <td>3.50000e-01</td>\n",
       "      <td>3.50002e-01</td>\n",
       "      <td>3.49999e-01</td>\n",
       "      <td>2.80000e+00</td>\n",
       "      <td>5.00001e-01</td>\n",
       "      <td>3.50000e-01</td>\n",
       "    </tr>\n",
       "    <tr>\n",
       "      <th>JEFF-3.1.1</th>\n",
       "      <td>2.70183e+00</td>\n",
       "      <td>1.79977e+00</td>\n",
       "      <td>1.21829e+00</td>\n",
       "      <td>1.10014e+00</td>\n",
       "      <td>8.00000e-01</td>\n",
       "      <td>1.10004e+00</td>\n",
       "      <td>1.00000e+00</td>\n",
       "      <td>1.90003e+00</td>\n",
       "      <td>1.00000e+00</td>\n",
       "      <td>1.30039e+00</td>\n",
       "    </tr>\n",
       "    <tr>\n",
       "      <th>JEFF-3.3</th>\n",
       "      <td>2.80152e+00</td>\n",
       "      <td>2.09994e+00</td>\n",
       "      <td>1.21863e+00</td>\n",
       "      <td>1.20014e+00</td>\n",
       "      <td>8.99641e-01</td>\n",
       "      <td>1.00030e+00</td>\n",
       "      <td>8.99996e-01</td>\n",
       "      <td>2.19958e+00</td>\n",
       "      <td>8.99466e-01</td>\n",
       "      <td>1.40011e+00</td>\n",
       "    </tr>\n",
       "    <tr>\n",
       "      <th>JENDL-4.0u</th>\n",
       "      <td>2.00127e+00</td>\n",
       "      <td>5.00153e-01</td>\n",
       "      <td>5.01753e-01</td>\n",
       "      <td>5.00137e-01</td>\n",
       "      <td>3.50327e-01</td>\n",
       "      <td>3.50448e-01</td>\n",
       "      <td>3.50059e-01</td>\n",
       "      <td>2.80057e+00</td>\n",
       "      <td>5.00563e-01</td>\n",
       "      <td>3.50218e-01</td>\n",
       "    </tr>\n",
       "  </tbody>\n",
       "</table>\n",
       "</div>"
      ],
      "text/plain": [
       "ZAP             $^{90}$Sr  $^{133}$Cs  $^{137}$Cs  $^{143}$Nd  $^{144}$Nd  \\\n",
       "LIB                                                                         \n",
       "ENDF/B-VII.1  2.00000e+00 5.00001e-01 4.99999e-01 4.99999e-01 3.50000e-01   \n",
       "ENDF/B-VIII.0 2.00000e+00 5.00001e-01 4.99999e-01 4.99999e-01 3.50000e-01   \n",
       "JEFF-3.1.1    2.70183e+00 1.79977e+00 1.21829e+00 1.10014e+00 8.00000e-01   \n",
       "JEFF-3.3      2.80152e+00 2.09994e+00 1.21863e+00 1.20014e+00 8.99641e-01   \n",
       "JENDL-4.0u    2.00127e+00 5.00153e-01 5.01753e-01 5.00137e-01 3.50327e-01   \n",
       "\n",
       "ZAP            $^{145}$Nd  $^{146}$Nd  $^{147}$Nd  $^{148}$Nd  $^{150}$Nd  \n",
       "LIB                                                                        \n",
       "ENDF/B-VII.1  3.50002e-01 3.49999e-01 2.80000e+00 5.00001e-01 3.50000e-01  \n",
       "ENDF/B-VIII.0 3.50002e-01 3.49999e-01 2.80000e+00 5.00001e-01 3.50000e-01  \n",
       "JEFF-3.1.1    1.10004e+00 1.00000e+00 1.90003e+00 1.00000e+00 1.30039e+00  \n",
       "JEFF-3.3      1.00030e+00 8.99996e-01 2.19958e+00 8.99466e-01 1.40011e+00  \n",
       "JENDL-4.0u    3.50448e-01 3.50059e-01 2.80057e+00 5.00563e-01 3.50218e-01  "
      ]
     },
     "execution_count": 18,
     "metadata": {},
     "output_type": "execute_result"
    }
   ],
   "source": [
    "err / vals * 100"
   ]
  }
 ],
 "metadata": {
  "kernelspec": {
   "display_name": "Python3 (sandy-devel)",
   "language": "python",
   "name": "sandy-devel"
  },
  "language_info": {
   "codemirror_mode": {
    "name": "ipython",
    "version": 3
   },
   "file_extension": ".py",
   "mimetype": "text/x-python",
   "name": "python",
   "nbconvert_exporter": "python",
   "pygments_lexer": "ipython3",
   "version": "3.7.15"
  }
 },
 "nbformat": 4,
 "nbformat_minor": 5
}
