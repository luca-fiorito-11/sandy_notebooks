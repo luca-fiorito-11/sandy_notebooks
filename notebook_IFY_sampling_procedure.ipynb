{
 "cells": [
  {
   "cell_type": "markdown",
   "id": "aafd73e1-9979-49b4-931b-79cbd5651309",
   "metadata": {},
   "source": [
    "# Independent fission yield sample production"
   ]
  },
  {
   "cell_type": "code",
   "execution_count": 1,
   "id": "b41a5d2f-f5ee-4554-aa72-026e42f8491c",
   "metadata": {
    "execution": {
     "iopub.execute_input": "2023-09-08T20:01:14.676780Z",
     "iopub.status.busy": "2023-09-08T20:01:14.676352Z",
     "iopub.status.idle": "2023-09-08T20:01:14.943669Z",
     "shell.execute_reply": "2023-09-08T20:01:14.943031Z"
    }
   },
   "outputs": [],
   "source": [
    "import numpy as np\n",
    "import pandas as pd"
   ]
  },
  {
   "cell_type": "code",
   "execution_count": 2,
   "id": "599d4afd-b588-40af-abae-a1dbc524dfee",
   "metadata": {
    "execution": {
     "iopub.execute_input": "2023-09-08T20:01:14.947052Z",
     "iopub.status.busy": "2023-09-08T20:01:14.946657Z",
     "iopub.status.idle": "2023-09-08T20:01:15.085080Z",
     "shell.execute_reply": "2023-09-08T20:01:15.084427Z"
    }
   },
   "outputs": [],
   "source": [
    "import sandy"
   ]
  },
  {
   "cell_type": "markdown",
   "id": "727f5a1e-12d8-46aa-9d1e-a5ad8c9fd6f5",
   "metadata": {},
   "source": [
    "### Retrieve nuclear data information"
   ]
  },
  {
   "cell_type": "code",
   "execution_count": 3,
   "id": "7583330d-4101-4bbd-95fb-6b73fddbb829",
   "metadata": {
    "execution": {
     "iopub.execute_input": "2023-09-08T20:01:15.088466Z",
     "iopub.status.busy": "2023-09-08T20:01:15.088133Z",
     "iopub.status.idle": "2023-09-08T20:01:15.531156Z",
     "shell.execute_reply": "2023-09-08T20:01:15.530518Z"
    }
   },
   "outputs": [],
   "source": [
    "e = 0.0253\n",
    "zam = 922350\n",
    "tape = sandy.get_endf6_file('jeff_33','nfpy', zam)"
   ]
  },
  {
   "cell_type": "code",
   "execution_count": 4,
   "id": "3d6053f0",
   "metadata": {
    "execution": {
     "iopub.execute_input": "2023-09-08T20:01:15.534406Z",
     "iopub.status.busy": "2023-09-08T20:01:15.534061Z",
     "iopub.status.idle": "2023-09-08T20:02:18.243611Z",
     "shell.execute_reply": "2023-09-08T20:02:18.242858Z"
    }
   },
   "outputs": [],
   "source": [
    "tape_rdd = sandy.get_endf6_file(\"jeff_33\", \"decay\", \"all\")\n",
    "decay_data = sandy.DecayData.from_endf6(tape_rdd)"
   ]
  },
  {
   "cell_type": "code",
   "execution_count": 5,
   "id": "49495680-a2b0-4f2c-b0dc-d41e15b2de7b",
   "metadata": {
    "execution": {
     "iopub.execute_input": "2023-09-08T20:02:18.247496Z",
     "iopub.status.busy": "2023-09-08T20:02:18.247066Z",
     "iopub.status.idle": "2023-09-08T20:02:18.321229Z",
     "shell.execute_reply": "2023-09-08T20:02:18.320555Z"
    }
   },
   "outputs": [
    {
     "data": {
      "text/html": [
       "<div>\n",
       "<style scoped>\n",
       "    .dataframe tbody tr th:only-of-type {\n",
       "        vertical-align: middle;\n",
       "    }\n",
       "\n",
       "    .dataframe tbody tr th {\n",
       "        vertical-align: top;\n",
       "    }\n",
       "\n",
       "    .dataframe thead th {\n",
       "        text-align: right;\n",
       "    }\n",
       "</style>\n",
       "<table border=\"1\" class=\"dataframe\">\n",
       "  <thead>\n",
       "    <tr style=\"text-align: right;\">\n",
       "      <th></th>\n",
       "      <th></th>\n",
       "      <th></th>\n",
       "      <th></th>\n",
       "      <th>E</th>\n",
       "      <th>FY</th>\n",
       "      <th>DFY</th>\n",
       "    </tr>\n",
       "    <tr>\n",
       "      <th>MAT</th>\n",
       "      <th>MT</th>\n",
       "      <th>ZAM</th>\n",
       "      <th>ZAP</th>\n",
       "      <th></th>\n",
       "      <th></th>\n",
       "      <th></th>\n",
       "    </tr>\n",
       "  </thead>\n",
       "  <tbody>\n",
       "    <tr>\n",
       "      <th rowspan=\"5\" valign=\"top\">9228</th>\n",
       "      <th rowspan=\"5\" valign=\"top\">454</th>\n",
       "      <th rowspan=\"5\" valign=\"top\">922350</th>\n",
       "      <th>10010</th>\n",
       "      <td>2.53000e-02</td>\n",
       "      <td>1.71100e-05</td>\n",
       "      <td>2.94830e-06</td>\n",
       "    </tr>\n",
       "    <tr>\n",
       "      <th>10020</th>\n",
       "      <td>2.53000e-02</td>\n",
       "      <td>8.40000e-06</td>\n",
       "      <td>2.43890e-06</td>\n",
       "    </tr>\n",
       "    <tr>\n",
       "      <th>10030</th>\n",
       "      <td>2.53000e-02</td>\n",
       "      <td>1.08000e-04</td>\n",
       "      <td>5.86350e-06</td>\n",
       "    </tr>\n",
       "    <tr>\n",
       "      <th>20030</th>\n",
       "      <td>2.53000e-02</td>\n",
       "      <td>0.00000e+00</td>\n",
       "      <td>0.00000e+00</td>\n",
       "    </tr>\n",
       "    <tr>\n",
       "      <th>20040</th>\n",
       "      <td>2.53000e-02</td>\n",
       "      <td>1.70000e-03</td>\n",
       "      <td>8.13470e-05</td>\n",
       "    </tr>\n",
       "  </tbody>\n",
       "</table>\n",
       "</div>"
      ],
      "text/plain": [
       "                                E          FY         DFY\n",
       "MAT  MT  ZAM    ZAP                                      \n",
       "9228 454 922350 10010 2.53000e-02 1.71100e-05 2.94830e-06\n",
       "                10020 2.53000e-02 8.40000e-06 2.43890e-06\n",
       "                10030 2.53000e-02 1.08000e-04 5.86350e-06\n",
       "                20030 2.53000e-02 0.00000e+00 0.00000e+00\n",
       "                20040 2.53000e-02 1.70000e-03 8.13470e-05"
      ]
     },
     "execution_count": 5,
     "metadata": {},
     "output_type": "execute_result"
    }
   ],
   "source": [
    "nfpy = sandy.Fy.from_endf6(tape)\n",
    "nfpy.data.set_index([\"MAT\", \"MT\", \"ZAM\", \"ZAP\"]).head()"
   ]
  },
  {
   "cell_type": "markdown",
   "id": "078163ac-f523-4e28-89f8-001d6903a4a9",
   "metadata": {},
   "source": [
    "### Obtain covariance matrix"
   ]
  },
  {
   "cell_type": "markdown",
   "id": "ade9d2b7-8c76-4937-b6a3-c320d5c1f87e",
   "metadata": {},
   "source": [
    "Assuming the uncertaities equal to the standard deviations, it is possible to build the diagonal covariance matrix as follows:"
   ]
  },
  {
   "cell_type": "code",
   "execution_count": 6,
   "id": "1eff2f66-7f87-4b38-adf5-e370a36959f4",
   "metadata": {
    "execution": {
     "iopub.execute_input": "2023-09-08T20:02:18.324259Z",
     "iopub.status.busy": "2023-09-08T20:02:18.323815Z",
     "iopub.status.idle": "2023-09-08T20:02:18.349213Z",
     "shell.execute_reply": "2023-09-08T20:02:18.348435Z"
    }
   },
   "outputs": [
    {
     "data": {
      "text/html": [
       "<div>\n",
       "<style scoped>\n",
       "    .dataframe tbody tr th:only-of-type {\n",
       "        vertical-align: middle;\n",
       "    }\n",
       "\n",
       "    .dataframe tbody tr th {\n",
       "        vertical-align: top;\n",
       "    }\n",
       "\n",
       "    .dataframe thead th {\n",
       "        text-align: right;\n",
       "    }\n",
       "</style>\n",
       "<table border=\"1\" class=\"dataframe\">\n",
       "  <thead>\n",
       "    <tr style=\"text-align: right;\">\n",
       "      <th>ZAP</th>\n",
       "      <th>10010</th>\n",
       "      <th>10020</th>\n",
       "      <th>10030</th>\n",
       "      <th>20030</th>\n",
       "      <th>20040</th>\n",
       "    </tr>\n",
       "    <tr>\n",
       "      <th>ZAP</th>\n",
       "      <th></th>\n",
       "      <th></th>\n",
       "      <th></th>\n",
       "      <th></th>\n",
       "      <th></th>\n",
       "    </tr>\n",
       "  </thead>\n",
       "  <tbody>\n",
       "    <tr>\n",
       "      <th>10010</th>\n",
       "      <td>8.69247e-12</td>\n",
       "      <td>0.00000e+00</td>\n",
       "      <td>0.00000e+00</td>\n",
       "      <td>0.00000e+00</td>\n",
       "      <td>0.00000e+00</td>\n",
       "    </tr>\n",
       "    <tr>\n",
       "      <th>10020</th>\n",
       "      <td>0.00000e+00</td>\n",
       "      <td>5.94823e-12</td>\n",
       "      <td>0.00000e+00</td>\n",
       "      <td>0.00000e+00</td>\n",
       "      <td>0.00000e+00</td>\n",
       "    </tr>\n",
       "    <tr>\n",
       "      <th>10030</th>\n",
       "      <td>0.00000e+00</td>\n",
       "      <td>0.00000e+00</td>\n",
       "      <td>3.43806e-11</td>\n",
       "      <td>0.00000e+00</td>\n",
       "      <td>0.00000e+00</td>\n",
       "    </tr>\n",
       "    <tr>\n",
       "      <th>20030</th>\n",
       "      <td>0.00000e+00</td>\n",
       "      <td>0.00000e+00</td>\n",
       "      <td>0.00000e+00</td>\n",
       "      <td>0.00000e+00</td>\n",
       "      <td>0.00000e+00</td>\n",
       "    </tr>\n",
       "    <tr>\n",
       "      <th>20040</th>\n",
       "      <td>0.00000e+00</td>\n",
       "      <td>0.00000e+00</td>\n",
       "      <td>0.00000e+00</td>\n",
       "      <td>0.00000e+00</td>\n",
       "      <td>6.61733e-09</td>\n",
       "    </tr>\n",
       "  </tbody>\n",
       "</table>\n",
       "</div>"
      ],
      "text/plain": [
       "ZAP         10010       10020       10030       20030       20040\n",
       "ZAP                                                              \n",
       "10010 8.69247e-12 0.00000e+00 0.00000e+00 0.00000e+00 0.00000e+00\n",
       "10020 0.00000e+00 5.94823e-12 0.00000e+00 0.00000e+00 0.00000e+00\n",
       "10030 0.00000e+00 0.00000e+00 3.43806e-11 0.00000e+00 0.00000e+00\n",
       "20030 0.00000e+00 0.00000e+00 0.00000e+00 0.00000e+00 0.00000e+00\n",
       "20040 0.00000e+00 0.00000e+00 0.00000e+00 0.00000e+00 6.61733e-09"
      ]
     },
     "execution_count": 6,
     "metadata": {},
     "output_type": "execute_result"
    }
   ],
   "source": [
    "fy_stdev = nfpy.data.query(f\"ZAM=={zam} & E=={e} & MT==454\").set_index('ZAP').DFY\n",
    "cov = sandy.CategoryCov.from_stdev(fy_stdev)\n",
    "cov.data.head().T.head()"
   ]
  },
  {
   "cell_type": "markdown",
   "id": "c8d52618-335d-4dd0-8af2-2096db956a7c",
   "metadata": {},
   "source": [
    "This procedure handles relative covariance matrices. SANDY can work with relative or absolute covariance matrices thanks to the `relative` kwarg option inserted in `sandy.CategoryCov.sampling()` method. To relativize the covariance matrix it is possible to use the so called \"sandwich rule\" (implemented in `sandy.CategoryCov.sandwich()`), where the diagonal sensitivity matrix $S$ will be equal to the collection of the best estimates of the independent fission yields."
   ]
  },
  {
   "cell_type": "code",
   "execution_count": 7,
   "id": "cd9f4acc-aa1b-4536-b1ed-8ff472909a94",
   "metadata": {
    "execution": {
     "iopub.execute_input": "2023-09-08T20:02:18.352420Z",
     "iopub.status.busy": "2023-09-08T20:02:18.351989Z",
     "iopub.status.idle": "2023-09-08T20:02:18.360633Z",
     "shell.execute_reply": "2023-09-08T20:02:18.360071Z"
    }
   },
   "outputs": [],
   "source": [
    "S = np.diag(1 / nfpy.data.query(f\"ZAM=={zam} & E=={e} & MT==454\").set_index(\"ZAP\").FY)\n",
    "S[S == np.inf] = 0"
   ]
  },
  {
   "cell_type": "code",
   "execution_count": 8,
   "id": "532531bb-16d6-4103-9aec-57e24084cf11",
   "metadata": {
    "execution": {
     "iopub.execute_input": "2023-09-08T20:02:18.363450Z",
     "iopub.status.busy": "2023-09-08T20:02:18.363037Z",
     "iopub.status.idle": "2023-09-08T20:02:18.429439Z",
     "shell.execute_reply": "2023-09-08T20:02:18.428416Z"
    }
   },
   "outputs": [
    {
     "data": {
      "text/html": [
       "<div>\n",
       "<style scoped>\n",
       "    .dataframe tbody tr th:only-of-type {\n",
       "        vertical-align: middle;\n",
       "    }\n",
       "\n",
       "    .dataframe tbody tr th {\n",
       "        vertical-align: top;\n",
       "    }\n",
       "\n",
       "    .dataframe thead th {\n",
       "        text-align: right;\n",
       "    }\n",
       "</style>\n",
       "<table border=\"1\" class=\"dataframe\">\n",
       "  <thead>\n",
       "    <tr style=\"text-align: right;\">\n",
       "      <th>ZAP</th>\n",
       "      <th>10010</th>\n",
       "      <th>10020</th>\n",
       "      <th>10030</th>\n",
       "      <th>20030</th>\n",
       "      <th>20040</th>\n",
       "    </tr>\n",
       "    <tr>\n",
       "      <th>ZAP</th>\n",
       "      <th></th>\n",
       "      <th></th>\n",
       "      <th></th>\n",
       "      <th></th>\n",
       "      <th></th>\n",
       "    </tr>\n",
       "  </thead>\n",
       "  <tbody>\n",
       "    <tr>\n",
       "      <th>10010</th>\n",
       "      <td>2.96923e-02</td>\n",
       "      <td>0.00000e+00</td>\n",
       "      <td>0.00000e+00</td>\n",
       "      <td>0.00000e+00</td>\n",
       "      <td>0.00000e+00</td>\n",
       "    </tr>\n",
       "    <tr>\n",
       "      <th>10020</th>\n",
       "      <td>0.00000e+00</td>\n",
       "      <td>8.43004e-02</td>\n",
       "      <td>0.00000e+00</td>\n",
       "      <td>0.00000e+00</td>\n",
       "      <td>0.00000e+00</td>\n",
       "    </tr>\n",
       "    <tr>\n",
       "      <th>10030</th>\n",
       "      <td>0.00000e+00</td>\n",
       "      <td>0.00000e+00</td>\n",
       "      <td>2.94759e-03</td>\n",
       "      <td>0.00000e+00</td>\n",
       "      <td>0.00000e+00</td>\n",
       "    </tr>\n",
       "    <tr>\n",
       "      <th>20030</th>\n",
       "      <td>0.00000e+00</td>\n",
       "      <td>0.00000e+00</td>\n",
       "      <td>0.00000e+00</td>\n",
       "      <td>0.00000e+00</td>\n",
       "      <td>0.00000e+00</td>\n",
       "    </tr>\n",
       "    <tr>\n",
       "      <th>20040</th>\n",
       "      <td>0.00000e+00</td>\n",
       "      <td>0.00000e+00</td>\n",
       "      <td>0.00000e+00</td>\n",
       "      <td>0.00000e+00</td>\n",
       "      <td>2.28974e-03</td>\n",
       "    </tr>\n",
       "  </tbody>\n",
       "</table>\n",
       "</div>"
      ],
      "text/plain": [
       "ZAP         10010       10020       10030       20030       20040\n",
       "ZAP                                                              \n",
       "10010 2.96923e-02 0.00000e+00 0.00000e+00 0.00000e+00 0.00000e+00\n",
       "10020 0.00000e+00 8.43004e-02 0.00000e+00 0.00000e+00 0.00000e+00\n",
       "10030 0.00000e+00 0.00000e+00 2.94759e-03 0.00000e+00 0.00000e+00\n",
       "20030 0.00000e+00 0.00000e+00 0.00000e+00 0.00000e+00 0.00000e+00\n",
       "20040 0.00000e+00 0.00000e+00 0.00000e+00 0.00000e+00 2.28974e-03"
      ]
     },
     "execution_count": 8,
     "metadata": {},
     "output_type": "execute_result"
    }
   ],
   "source": [
    "idx = cov.data.index\n",
    "cov_relative = sandy.CategoryCov(pd.DataFrame(cov.sandwich(S).data.values, index=idx, columns=idx))\n",
    "cov_relative.data.head().T.head()"
   ]
  },
  {
   "cell_type": "markdown",
   "id": "8556bb9b-d25c-4bcd-9fa2-1550132d4b1c",
   "metadata": {},
   "source": [
    "### Obtain perturbation coefficients"
   ]
  },
  {
   "cell_type": "code",
   "execution_count": 9,
   "id": "2ea15135-7893-4cad-b095-110f40519fd9",
   "metadata": {
    "execution": {
     "iopub.execute_input": "2023-09-08T20:02:18.432351Z",
     "iopub.status.busy": "2023-09-08T20:02:18.432068Z",
     "iopub.status.idle": "2023-09-08T20:02:18.647714Z",
     "shell.execute_reply": "2023-09-08T20:02:18.647122Z"
    }
   },
   "outputs": [],
   "source": [
    "nsmp = 500\n",
    "coeff = cov_relative.sampling(nsmp)"
   ]
  }
 ],
 "metadata": {
  "kernelspec": {
   "display_name": "Python [conda env:sandy-v1.0] *",
   "language": "python",
   "name": "conda-env-sandy-v1.0-py"
  },
  "language_info": {
   "codemirror_mode": {
    "name": "ipython",
    "version": 3
   },
   "file_extension": ".py",
   "mimetype": "text/x-python",
   "name": "python",
   "nbconvert_exporter": "python",
   "pygments_lexer": "ipython3",
   "version": "3.11.5"
  }
 },
 "nbformat": 4,
 "nbformat_minor": 5
}
