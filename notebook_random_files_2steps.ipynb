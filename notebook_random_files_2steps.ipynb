{
 "cells": [
  {
   "cell_type": "markdown",
   "id": "831ffca2",
   "metadata": {},
   "source": [
    "# Produce random files in two steps"
   ]
  },
  {
   "cell_type": "markdown",
   "id": "402a595c",
   "metadata": {},
   "source": [
    "Thos notebook shows how the random sampling process can be interrupted after the generation of the perturbation coefficients and then resumed in a later stage.\n",
    "\n",
    "This is done by storing the perturbation coefficients into excel files.\n",
    "The writing process and the creation of the excel files is done automatically by `sandy`.\n",
    "Still we can completely stop the pipeline using the command line argument `--only_perturbations` (not active by default).\n",
    "\n",
    "The advantages of doing so are multiple:\n",
    "- we can generate an extremely large number of perturbation coefficients (thousands) in a relatively short time and without the need for parallelization;\n",
    "- since the random files are not created, not only we save computer time, but also disk space (the excel files are very small);\n",
    "- the perturbation coefficients can be used to ensure reproducibility in the random files;\n",
    "- also, the perturbation coefficients do not need to be used in their entirety, but can be split into blocks that are more manageable in terms of computer resources - e.g., random files can be created sequentially in chunks of 100;\n",
    "- having available perturbation coefficients opens up possibilities in terms of sensitivity analysis."
   ]
  },
  {
   "cell_type": "code",
   "execution_count": 1,
   "id": "bdb63027",
   "metadata": {
    "execution": {
     "iopub.execute_input": "2023-10-11T16:33:56.718828Z",
     "iopub.status.busy": "2023-10-11T16:33:56.718536Z",
     "iopub.status.idle": "2023-10-11T16:33:57.232643Z",
     "shell.execute_reply": "2023-10-11T16:33:57.231734Z"
    }
   },
   "outputs": [],
   "source": [
    "import sandy"
   ]
  },
  {
   "cell_type": "markdown",
   "id": "16e626c5",
   "metadata": {},
   "source": [
    "This examples uses the JEFF-3.3 Pu-241 data that contain covariance matrices for both cross sections and fission neutron multiplicities.  "
   ]
  },
  {
   "cell_type": "code",
   "execution_count": 2,
   "id": "8243ff58",
   "metadata": {
    "execution": {
     "iopub.execute_input": "2023-10-11T16:33:57.235599Z",
     "iopub.status.busy": "2023-10-11T16:33:57.235051Z",
     "iopub.status.idle": "2023-10-11T16:33:58.703501Z",
     "shell.execute_reply": "2023-10-11T16:33:58.702274Z"
    }
   },
   "outputs": [],
   "source": [
    "file = \"942410.jeff33\"\n",
    "sandy.get_endf6_file(\"jeff_33\", \"xs\", 942410).to_file(file)"
   ]
  },
  {
   "cell_type": "markdown",
   "id": "0206fdc2",
   "metadata": {},
   "source": [
    "This is the standard pipeline to produce random files (in this case 2)."
   ]
  },
  {
   "cell_type": "code",
   "execution_count": 3,
   "id": "95b729dc",
   "metadata": {
    "execution": {
     "iopub.execute_input": "2023-10-11T16:33:58.706989Z",
     "iopub.status.busy": "2023-10-11T16:33:58.705886Z",
     "iopub.status.idle": "2023-10-11T16:34:06.796719Z",
     "shell.execute_reply": "2023-10-11T16:34:06.796163Z"
    }
   },
   "outputs": [
    {
     "name": "stderr",
     "output_type": "stream",
     "text": [
      "INFO:  processing file: '942410.jeff33'\n",
      "INFO:  Zero or no temperature was requested, NJOY processing will stop after RECONR.\n",
      "    If you want to process 0K cross sections use `temperature=0.1`.\n",
      "    \n"
     ]
    },
    {
     "name": "stdout",
     "output_type": "stream",
     "text": [
      "\n",
      " njoy 2016.72  29Sep23                                       10/11/23 16:33:59\n",
      " *****************************************************************************\n",
      "\n",
      " moder...                                                                 0.0s\n",
      "\n",
      " reconr...                                                                0.1s\n",
      "\n",
      " moder...                                                                 0.2s\n",
      "\n",
      " groupr...                                                                0.3s\n",
      "\n",
      " ---message from groupr---auto finds no reactions for mf=  5\n",
      "\n",
      " moder...                                                                 0.5s\n",
      "\n",
      " errorr...                                                                0.6s\n",
      "\n",
      " processing mat  9443\n",
      " ---------------------\n",
      "  94-Pu-241 JAEA+      EVAL-JAN10 O.Iwamoto,N.Otuka,S.Chiba,+        \n",
      "\n",
      " covariances calculated for  1 reactions and  274 groups                  0.7s\n",
      "\n",
      " errorr...                                                                0.7s\n",
      "\n",
      " processing mat  9443\n",
      " ---------------------\n",
      "  94-Pu-241 JAEA+      EVAL-JAN10 O.Iwamoto,N.Otuka,S.Chiba,+        \n",
      "\n",
      " covariances calculated for  3 reactions and  253 groups                  0.8s\n",
      "                                                                          1.2s\n",
      " *****************************************************************************\n"
     ]
    },
    {
     "name": "stderr",
     "output_type": "stream",
     "text": [
      "INFO:  writing to file 'PERT_94241_MF31.xlsx'...\n",
      "INFO:  writing to file 'PERT_94241_MF33.xlsx'...\n",
      "INFO:  Zero or no temperature was requested, NJOY processing will stop after RECONR.\n",
      "    If you want to process 0K cross sections use `temperature=0.1`.\n",
      "    \n"
     ]
    },
    {
     "name": "stdout",
     "output_type": "stream",
     "text": [
      "\n",
      " njoy 2016.72  29Sep23                                       10/11/23 16:34:02\n",
      " *****************************************************************************\n",
      "\n",
      " moder...                                                                 0.0s\n",
      "\n",
      " reconr...                                                                0.1s\n",
      "\n",
      " moder...                                                                 0.4s\n",
      "                                                                          0.7s\n",
      " *****************************************************************************\n"
     ]
    },
    {
     "name": "stderr",
     "output_type": "stream",
     "text": [
      "INFO:  Total running time: 8.09 sec\n"
     ]
    }
   ],
   "source": [
    "cl = \"942410.jeff33 --samples 2 --seed33 1 --seed31 1 --mt33 2\"\n",
    "sandy.sampling.run(cl.split())"
   ]
  },
  {
   "cell_type": "markdown",
   "id": "52c4072d",
   "metadata": {},
   "source": [
    "Now, let's interrupt the process after that the perturbations are created (reproducible with fixed seed).\n",
    "This is done by adding the keyword `--only_perturbations`.\n",
    "The pipeline stops after writing the perturbation coefficients to excel file."
   ]
  },
  {
   "cell_type": "code",
   "execution_count": 4,
   "id": "0ecdb55d",
   "metadata": {
    "execution": {
     "iopub.execute_input": "2023-10-11T16:34:06.799485Z",
     "iopub.status.busy": "2023-10-11T16:34:06.799171Z",
     "iopub.status.idle": "2023-10-11T16:34:10.598287Z",
     "shell.execute_reply": "2023-10-11T16:34:10.597742Z"
    }
   },
   "outputs": [
    {
     "name": "stderr",
     "output_type": "stream",
     "text": [
      "INFO:  processing file: '942410.jeff33'\n",
      "INFO:  Zero or no temperature was requested, NJOY processing will stop after RECONR.\n",
      "    If you want to process 0K cross sections use `temperature=0.1`.\n",
      "    \n"
     ]
    },
    {
     "name": "stdout",
     "output_type": "stream",
     "text": [
      "\n",
      " njoy 2016.72  29Sep23                                       10/11/23 16:34:07\n",
      " *****************************************************************************\n",
      "\n",
      " moder...                                                                 0.0s\n",
      "\n",
      " reconr...                                                                0.1s\n",
      "\n",
      " moder...                                                                 0.2s\n",
      "\n",
      " groupr...                                                                0.3s\n",
      "\n",
      " ---message from groupr---auto finds no reactions for mf=  5\n",
      "\n",
      " moder...                                                                 0.5s\n",
      "\n",
      " errorr...                                                                0.6s\n",
      "\n",
      " processing mat  9443\n",
      " ---------------------\n",
      "  94-Pu-241 JAEA+      EVAL-JAN10 O.Iwamoto,N.Otuka,S.Chiba,+        \n",
      "\n",
      " covariances calculated for  1 reactions and  274 groups                  0.7s\n",
      "\n",
      " errorr...                                                                0.7s\n",
      "\n",
      " processing mat  9443\n",
      " ---------------------\n",
      "  94-Pu-241 JAEA+      EVAL-JAN10 O.Iwamoto,N.Otuka,S.Chiba,+        \n",
      "\n",
      " covariances calculated for  3 reactions and  253 groups                  0.8s\n",
      "                                                                          1.2s\n",
      " *****************************************************************************\n"
     ]
    },
    {
     "name": "stderr",
     "output_type": "stream",
     "text": [
      "INFO:  writing to file 'PERT_94241_MF31.xlsx'...\n",
      "INFO:  writing to file 'PERT_94241_MF33.xlsx'...\n",
      "INFO:  Total running time: 3.79 sec\n"
     ]
    }
   ],
   "source": [
    "cl = \"942410.jeff33 --samples 2 --seed33 1 --seed31 1 --mt33 2 --only_perturbations\"\n",
    "smps = sandy.sampling.run(cl.split())"
   ]
  },
  {
   "cell_type": "markdown",
   "id": "d2ac83be",
   "metadata": {},
   "source": [
    "Using the perturbation coefficients from the excel files we can generate the same random files of the standard pipeline.\n",
    "This is done with keyword `--from_perturbations ./ 1 1\"`, where:\n",
    "- `./` is the directory where the perturbation files are lcoated;\n",
    "- `1 1` are the limits of the sample range to consider, e.g., in this case take only the sample number 1 (this number is reported in the random file name). `0 1` would have taken all sets of perturbation coefficients created in this sequence (in this case 2). If we had 100 sets of perturbation coefficients we could get them all with `0 99`, only the first batch of 50 with `0 49`, or the second batch of 50 with `50 99`."
   ]
  },
  {
   "cell_type": "code",
   "execution_count": 5,
   "id": "985e6006",
   "metadata": {
    "execution": {
     "iopub.execute_input": "2023-10-11T16:34:10.601132Z",
     "iopub.status.busy": "2023-10-11T16:34:10.600775Z",
     "iopub.status.idle": "2023-10-11T16:34:13.691017Z",
     "shell.execute_reply": "2023-10-11T16:34:13.690131Z"
    }
   },
   "outputs": [
    {
     "name": "stderr",
     "output_type": "stream",
     "text": [
      "INFO:  processing file: '942410.jeff33'\n",
      "INFO:  Zero or no temperature was requested, NJOY processing will stop after RECONR.\n",
      "    If you want to process 0K cross sections use `temperature=0.1`.\n",
      "    \n"
     ]
    },
    {
     "name": "stdout",
     "output_type": "stream",
     "text": [
      "\n",
      " njoy 2016.72  29Sep23                                       10/11/23 16:34:11\n",
      " *****************************************************************************\n",
      "\n",
      " moder...                                                                 0.0s\n",
      "\n",
      " reconr...                                                                0.1s\n",
      "\n",
      " moder...                                                                 0.5s\n",
      "                                                                          0.7s\n",
      " *****************************************************************************\n"
     ]
    },
    {
     "name": "stderr",
     "output_type": "stream",
     "text": [
      "INFO:  Total running time: 3.09 sec\n"
     ]
    }
   ],
   "source": [
    "cl = \"942410.jeff33 --from_perturbations ./ 1 1\"\n",
    "sandy.sampling.run(cl.split())"
   ]
  }
 ],
 "metadata": {
  "kernelspec": {
   "display_name": "Python [conda env:sandy-v1.0] *",
   "language": "python",
   "name": "conda-env-sandy-v1.0-py"
  },
  "language_info": {
   "codemirror_mode": {
    "name": "ipython",
    "version": 3
   },
   "file_extension": ".py",
   "mimetype": "text/x-python",
   "name": "python",
   "nbconvert_exporter": "python",
   "pygments_lexer": "ipython3",
   "version": "3.11.5"
  }
 },
 "nbformat": 4,
 "nbformat_minor": 5
}
