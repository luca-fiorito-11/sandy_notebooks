{
 "cells": [
  {
   "cell_type": "markdown",
   "id": "b9fd7e0d",
   "metadata": {},
   "source": [
    "# Produce random files for given nuclide and library"
   ]
  },
  {
   "cell_type": "code",
   "execution_count": 1,
   "id": "5d3b107b",
   "metadata": {
    "execution": {
     "iopub.execute_input": "2023-10-11T16:32:59.833705Z",
     "iopub.status.busy": "2023-10-11T16:32:59.833506Z",
     "iopub.status.idle": "2023-10-11T16:33:00.347920Z",
     "shell.execute_reply": "2023-10-11T16:33:00.347341Z"
    }
   },
   "outputs": [],
   "source": [
    "import sandy"
   ]
  },
  {
   "cell_type": "markdown",
   "id": "1ccf3b7a",
   "metadata": {},
   "source": [
    "In this examples we'll produce random ACE files for the JEFF-3.3 Pu-238 evaluation.\n",
    "This sequence can we further extended for other nuclides, individually or together in a loop."
   ]
  },
  {
   "cell_type": "code",
   "execution_count": 2,
   "id": "b3edf647",
   "metadata": {
    "execution": {
     "iopub.execute_input": "2023-10-11T16:33:00.351099Z",
     "iopub.status.busy": "2023-10-11T16:33:00.350529Z",
     "iopub.status.idle": "2023-10-11T16:33:00.354478Z",
     "shell.execute_reply": "2023-10-11T16:33:00.353978Z"
    }
   },
   "outputs": [],
   "source": [
    "lib_name = \"jeff_33\"\n",
    "nucl = 942390\n",
    "filename = f\"{nucl}.{lib_name}\""
   ]
  },
  {
   "cell_type": "code",
   "execution_count": 3,
   "id": "fe3e9a70",
   "metadata": {
    "execution": {
     "iopub.execute_input": "2023-10-11T16:33:00.357149Z",
     "iopub.status.busy": "2023-10-11T16:33:00.356705Z",
     "iopub.status.idle": "2023-10-11T16:33:01.674449Z",
     "shell.execute_reply": "2023-10-11T16:33:01.673419Z"
    }
   },
   "outputs": [],
   "source": [
    "endf6 = sandy.get_endf6_file(lib_name, 'xs', nucl)\n",
    "endf6.to_file(filename)"
   ]
  },
  {
   "cell_type": "code",
   "execution_count": 4,
   "id": "f7bbc4cb",
   "metadata": {
    "execution": {
     "iopub.execute_input": "2023-10-11T16:33:01.677165Z",
     "iopub.status.busy": "2023-10-11T16:33:01.676798Z",
     "iopub.status.idle": "2023-10-11T16:33:01.680678Z",
     "shell.execute_reply": "2023-10-11T16:33:01.680155Z"
    }
   },
   "outputs": [],
   "source": [
    "nsmp = 2  # number of samples\n",
    "processes = 1  # change if you want to run in parallel (better on Linux)"
   ]
  },
  {
   "cell_type": "code",
   "execution_count": 5,
   "id": "359426ec",
   "metadata": {
    "execution": {
     "iopub.execute_input": "2023-10-11T16:33:01.683805Z",
     "iopub.status.busy": "2023-10-11T16:33:01.682746Z",
     "iopub.status.idle": "2023-10-11T16:33:28.839213Z",
     "shell.execute_reply": "2023-10-11T16:33:28.838635Z"
    }
   },
   "outputs": [
    {
     "name": "stderr",
     "output_type": "stream",
     "text": [
      "INFO:  processing file: '942390.jeff_33'\n",
      "INFO:  Zero or no temperature was requested, NJOY processing will stop after RECONR.\n",
      "    If you want to process 0K cross sections use `temperature=0.1`.\n",
      "    \n"
     ]
    },
    {
     "name": "stdout",
     "output_type": "stream",
     "text": [
      "moder\n",
      "20 -21 /\n",
      "reconr\n",
      "-21 -22 /\n",
      "'sandy runs njoy'/\n",
      "9437 0 0 /\n",
      "1.0 0. /\n",
      "0/\n",
      "moder\n",
      "-22 30 /\n",
      "errorr\n",
      "-21 -22 0 33 0 /\n",
      "9437 2 2 0 1 /\n",
      "0 0.0 /\n",
      "0 33 0/\n",
      "stop\n",
      "\n",
      " njoy 2016.72  29Sep23                                       10/11/23 16:33:02\n",
      " *****************************************************************************\n",
      "\n",
      " moder...                                                                 0.0s\n",
      "\n",
      " reconr...                                                                0.1s\n",
      "\n",
      " ---message from rdf2bw---calculation of angular distribution not installed.\n",
      "\n",
      " moder...                                                                 3.0s\n",
      "\n",
      " errorr...                                                                3.5s\n",
      "\n",
      " processing mat  9437\n",
      " ---------------------\n",
      "  94-Pu-239 IRSN-CEA   EVAL-FEV16 IRSN-CEA DAM/DEN COLLAB.           \n",
      "\n",
      " covariances calculated for  8 reactions and  248 groups                  4.0s\n",
      "                                                                          6.9s\n",
      " *****************************************************************************\n"
     ]
    },
    {
     "name": "stderr",
     "output_type": "stream",
     "text": [
      "INFO:  writing to file 'PERT_94239_MF33.xlsx'...\n",
      "WARNING:  Large condition number of covariance matrix: 1.34e+08\n",
      "INFO:  Zero or no temperature was requested, NJOY processing will stop after RECONR.\n",
      "    If you want to process 0K cross sections use `temperature=0.1`.\n",
      "    \n"
     ]
    },
    {
     "name": "stdout",
     "output_type": "stream",
     "text": [
      "moder\n",
      "20 -21 /\n",
      "reconr\n",
      "-21 -22 /\n",
      "'sandy runs njoy'/\n",
      "9437 0 0 /\n",
      "1.0 0. /\n",
      "0/\n",
      "moder\n",
      "-22 30 /\n",
      "stop\n",
      "\n",
      " njoy 2016.72  29Sep23                                       10/11/23 16:33:15\n",
      " *****************************************************************************\n",
      "\n",
      " moder...                                                                 0.0s\n",
      "\n",
      " reconr...                                                                0.1s\n",
      "\n",
      " ---message from rdf2bw---calculation of angular distribution not installed.\n",
      "\n",
      " moder...                                                                 3.1s\n",
      "                                                                          3.5s\n",
      " *****************************************************************************\n",
      "Processing xs sample 0...\n",
      "moder\n",
      "20 -21 /\n",
      "moder\n",
      "99 -22 /\n",
      "broadr\n",
      "-21 -22 -23 /\n",
      "9437 1 0 0 0. /\n",
      "1.0 /\n",
      "300.0 /\n",
      "0 /\n",
      "moder\n",
      "-23 30 /\n",
      "acer\n",
      "-21 -23 0 50 70 /\n",
      "1 0 1 .03 0 /\n",
      "'sandy runs acer'/\n",
      "9437 300.0 /\n",
      "1 1 /\n",
      "/\n",
      "stop\n",
      "\n",
      " njoy 2016.72  29Sep23                                       10/11/23 16:33:21\n",
      " *****************************************************************************\n",
      "\n",
      " moder...                                                                 0.0s\n",
      "\n",
      " moder...                                                                 0.1s\n",
      "\n",
      " broadr...                                                                0.2s\n",
      "\n",
      " moder...                                                                 0.4s\n",
      "\n",
      " acer...                                                                  0.8s\n",
      "                                                                          2.7s\n",
      " *****************************************************************************\n",
      "writing to file '94239_0.03c'\n",
      "writing to file '94239_0.03c.xsd'\n",
      "Processing xs sample 1...\n",
      "moder\n",
      "20 -21 /\n",
      "moder\n",
      "99 -22 /\n",
      "broadr\n",
      "-21 -22 -23 /\n",
      "9437 1 0 0 0. /\n",
      "1.0 /\n",
      "300.0 /\n",
      "0 /\n",
      "moder\n",
      "-23 30 /\n",
      "acer\n",
      "-21 -23 0 50 70 /\n",
      "1 0 1 .03 0 /\n",
      "'sandy runs acer'/\n",
      "9437 300.0 /\n",
      "1 1 /\n",
      "/\n",
      "stop\n",
      "\n",
      " njoy 2016.72  29Sep23                                       10/11/23 16:33:26\n",
      " *****************************************************************************\n",
      "\n",
      " moder...                                                                 0.0s\n",
      "\n",
      " moder...                                                                 0.1s\n",
      "\n",
      " broadr...                                                                0.2s\n",
      "\n",
      " moder...                                                                 0.4s\n",
      "\n",
      " acer...                                                                  0.8s\n"
     ]
    },
    {
     "name": "stderr",
     "output_type": "stream",
     "text": [
      "INFO:  Total running time: 27.15 sec\n"
     ]
    },
    {
     "name": "stdout",
     "output_type": "stream",
     "text": [
      "                                                                          2.7s\n",
      " *****************************************************************************\n",
      "writing to file '94239_1.03c'\n",
      "writing to file '94239_1.03c.xsd'\n"
     ]
    }
   ],
   "source": [
    "# command line\n",
    "cli = f\"{filename}  --processes {processes}  --samples {nsmp}  --mf 33  --temperatures 300  --acer  --debug\"\n",
    "sandy.sampling.run(cli.split())"
   ]
  },
  {
   "cell_type": "markdown",
   "id": "da14f42f",
   "metadata": {},
   "source": [
    "This is equivalent to the command line entry\n",
    "```bash\n",
    "python -m sandy.sampling  942390.jeff_33  --processes 1  --samples 2  --temperatures 300  --acer  --debug\n",
    "```"
   ]
  },
  {
   "cell_type": "markdown",
   "id": "557e07f9",
   "metadata": {},
   "source": [
    "> Notice that option `--debug` should be removed for production."
   ]
  },
  {
   "cell_type": "markdown",
   "id": "835a8077",
   "metadata": {},
   "source": [
    "If you need more control over your pipeline you can generate samples using the python API.\n",
    "\n",
    "Some of the reasons identified to do this are:\n",
    "- have access to the perturbation coefficients\n",
    "- change the parameter `err` (used for by the NJOY modules RECONR and BROADR) to make the code run faster\n",
    "- remove some NJOY modules such as PURR\n",
    "- apply perturbations to already Doppler-broadenened cross sections (more details below)"
   ]
  },
  {
   "cell_type": "markdown",
   "id": "1d901f05",
   "metadata": {},
   "source": [
    "This is equivalent to what was previously run."
   ]
  },
  {
   "cell_type": "code",
   "execution_count": 6,
   "id": "c92b642b",
   "metadata": {
    "execution": {
     "iopub.execute_input": "2023-10-11T16:33:28.841962Z",
     "iopub.status.busy": "2023-10-11T16:33:28.841625Z",
     "iopub.status.idle": "2023-10-11T16:33:41.469526Z",
     "shell.execute_reply": "2023-10-11T16:33:41.468927Z"
    }
   },
   "outputs": [
    {
     "name": "stderr",
     "output_type": "stream",
     "text": [
      "INFO:  Zero or no temperature was requested, NJOY processing will stop after RECONR.\n",
      "    If you want to process 0K cross sections use `temperature=0.1`.\n",
      "    \n"
     ]
    },
    {
     "name": "stdout",
     "output_type": "stream",
     "text": [
      "moder\n",
      "20 -21 /\n",
      "reconr\n",
      "-21 -22 /\n",
      "'sandy runs njoy'/\n",
      "9437 0 0 /\n",
      "1.0 0. /\n",
      "0/\n",
      "moder\n",
      "-22 30 /\n",
      "errorr\n",
      "-21 -22 0 33 0 /\n",
      "9437 2 2 0 1 /\n",
      "0 0.0 /\n",
      "0 33 0/\n",
      "stop\n",
      "\n",
      " njoy 2016.72  29Sep23                                       10/11/23 16:33:29\n",
      " *****************************************************************************\n",
      "\n",
      " moder...                                                                 0.0s\n",
      "\n",
      " reconr...                                                                0.1s\n",
      "\n",
      " ---message from rdf2bw---calculation of angular distribution not installed.\n",
      "\n",
      " moder...                                                                 3.1s\n",
      "\n",
      " errorr...                                                                3.5s\n",
      "\n",
      " processing mat  9437\n",
      " ---------------------\n",
      "  94-Pu-239 IRSN-CEA   EVAL-FEV16 IRSN-CEA DAM/DEN COLLAB.           \n",
      "\n",
      " covariances calculated for  8 reactions and  248 groups                  4.0s\n",
      "                                                                          6.9s\n",
      " *****************************************************************************\n"
     ]
    },
    {
     "name": "stderr",
     "output_type": "stream",
     "text": [
      "INFO:  writing to file 'PERT_94239_MF33.xlsx'...\n",
      "WARNING:  Large condition number of covariance matrix: 1.34e+08\n"
     ]
    }
   ],
   "source": [
    "# this generates samples for cross sections and nubar\n",
    "smps = endf6.get_perturbations(\n",
    "    nsmp,\n",
    "    njoy_kws=dict(\n",
    "        err=1,   # very fast calculation, for testing\n",
    "        chi=False,\n",
    "        mubar=False,\n",
    "        xs=True,\n",
    "        nubar=False,\n",
    "        verbose=True,\n",
    "    ),\n",
    ")"
   ]
  },
  {
   "cell_type": "code",
   "execution_count": 7,
   "id": "2bbd5244",
   "metadata": {
    "execution": {
     "iopub.execute_input": "2023-10-11T16:33:41.472299Z",
     "iopub.status.busy": "2023-10-11T16:33:41.471832Z",
     "iopub.status.idle": "2023-10-11T16:33:55.470644Z",
     "shell.execute_reply": "2023-10-11T16:33:55.470059Z"
    }
   },
   "outputs": [
    {
     "name": "stderr",
     "output_type": "stream",
     "text": [
      "INFO:  Zero or no temperature was requested, NJOY processing will stop after RECONR.\n",
      "    If you want to process 0K cross sections use `temperature=0.1`.\n",
      "    \n"
     ]
    },
    {
     "name": "stdout",
     "output_type": "stream",
     "text": [
      "\n",
      " njoy 2016.72  29Sep23                                       10/11/23 16:33:41\n",
      " *****************************************************************************\n",
      "\n",
      " moder...                                                                 0.0s\n",
      "\n",
      " reconr...                                                                0.1s\n",
      "\n",
      " ---message from rdf2bw---calculation of angular distribution not installed.\n",
      "\n",
      " moder...                                                                 3.0s\n",
      "                                                                          3.5s\n",
      " *****************************************************************************\n",
      "Processing xs sample 0...\n",
      "moder\n",
      "20 -21 /\n",
      "moder\n",
      "99 -22 /\n",
      "broadr\n",
      "-21 -22 -23 /\n",
      "9437 1 0 0 0. /\n",
      "1.0 /\n",
      "300.0 /\n",
      "0 /\n",
      "moder\n",
      "-23 30 /\n",
      "acer\n",
      "-21 -23 0 50 70 /\n",
      "1 0 1 .03 0 /\n",
      "'sandy runs acer'/\n",
      "9437 300.0 /\n",
      "1 1 /\n",
      "/\n",
      "stop\n",
      "\n",
      " njoy 2016.72  29Sep23                                       10/11/23 16:33:47\n",
      " *****************************************************************************\n",
      "\n",
      " moder...                                                                 0.0s\n",
      "\n",
      " moder...                                                                 0.1s\n",
      "\n",
      " broadr...                                                                0.2s\n",
      "\n",
      " moder...                                                                 0.4s\n",
      "\n",
      " acer...                                                                  0.8s\n",
      "                                                                          2.7s\n",
      " *****************************************************************************\n",
      "writing to file '94239_0.03c'\n",
      "writing to file '94239_0.03c.xsd'\n",
      "Processing xs sample 1...\n",
      "moder\n",
      "20 -21 /\n",
      "moder\n",
      "99 -22 /\n",
      "broadr\n",
      "-21 -22 -23 /\n",
      "9437 1 0 0 0. /\n",
      "1.0 /\n",
      "300.0 /\n",
      "0 /\n",
      "moder\n",
      "-23 30 /\n",
      "acer\n",
      "-21 -23 0 50 70 /\n",
      "1 0 1 .03 0 /\n",
      "'sandy runs acer'/\n",
      "9437 300.0 /\n",
      "1 1 /\n",
      "/\n",
      "stop\n",
      "\n",
      " njoy 2016.72  29Sep23                                       10/11/23 16:33:52\n",
      " *****************************************************************************\n",
      "\n",
      " moder...                                                                 0.0s\n",
      "\n",
      " moder...                                                                 0.1s\n",
      "\n",
      " broadr...                                                                0.2s\n",
      "\n",
      " moder...                                                                 0.4s\n",
      "\n",
      " acer...                                                                  0.8s\n",
      "                                                                          2.7s\n",
      " *****************************************************************************\n",
      "writing to file '94239_1.03c'\n",
      "writing to file '94239_1.03c.xsd'\n"
     ]
    }
   ],
   "source": [
    "# This part applies the perturbations (samples) to the best-estimates and writes perturbed output files samples for cross sections and nubar\n",
    "outs = endf6.apply_perturbations(\n",
    "    smps,\n",
    "    processes=processes,\n",
    "    njoy_kws=dict(err=1),   # very fast calculation, for testing\n",
    "    to_ace=True,   # produce ACE files\n",
    "    to_file=True,\n",
    "    ace_kws=dict(err=1, temperature=300, verbose=True, purr=False, heatr=False, thermr=False, gaspr=False),\n",
    "    verbose=True,\n",
    ")"
   ]
  }
 ],
 "metadata": {
  "kernelspec": {
   "display_name": "Python [conda env:sandy-v1.0] *",
   "language": "python",
   "name": "conda-env-sandy-v1.0-py"
  },
  "language_info": {
   "codemirror_mode": {
    "name": "ipython",
    "version": 3
   },
   "file_extension": ".py",
   "mimetype": "text/x-python",
   "name": "python",
   "nbconvert_exporter": "python",
   "pygments_lexer": "ipython3",
   "version": "3.11.5"
  }
 },
 "nbformat": 4,
 "nbformat_minor": 5
}
