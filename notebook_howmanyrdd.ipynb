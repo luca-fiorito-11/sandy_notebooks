{
 "cells": [
  {
   "cell_type": "markdown",
   "id": "0bc344cf",
   "metadata": {},
   "source": [
    "# How many nuclides in the decay data libraries?"
   ]
  },
  {
   "cell_type": "code",
   "execution_count": 1,
   "id": "6123dc04",
   "metadata": {
    "execution": {
     "iopub.execute_input": "2023-09-12T13:42:38.944268Z",
     "iopub.status.busy": "2023-09-12T13:42:38.943970Z",
     "iopub.status.idle": "2023-09-12T13:42:39.379629Z",
     "shell.execute_reply": "2023-09-12T13:42:39.378847Z"
    }
   },
   "outputs": [],
   "source": [
    "import sandy"
   ]
  },
  {
   "cell_type": "code",
   "execution_count": 2,
   "id": "988d6ad5",
   "metadata": {
    "execution": {
     "iopub.execute_input": "2023-09-12T13:42:39.383236Z",
     "iopub.status.busy": "2023-09-12T13:42:39.382918Z",
     "iopub.status.idle": "2023-09-12T13:42:39.386166Z",
     "shell.execute_reply": "2023-09-12T13:42:39.385354Z"
    }
   },
   "outputs": [],
   "source": [
    "import pandas as pd"
   ]
  },
  {
   "cell_type": "code",
   "execution_count": 3,
   "id": "26e45db5",
   "metadata": {
    "execution": {
     "iopub.execute_input": "2023-09-12T13:42:39.389138Z",
     "iopub.status.busy": "2023-09-12T13:42:39.388870Z",
     "iopub.status.idle": "2023-09-12T13:42:39.392619Z",
     "shell.execute_reply": "2023-09-12T13:42:39.391959Z"
    }
   },
   "outputs": [],
   "source": [
    "libraries = [\"jeff_33\", \"jeff_311\", \"endfb_80\", \"endfb_71\", \"jendl_40u\"]"
   ]
  },
  {
   "cell_type": "code",
   "execution_count": 4,
   "id": "e3bf76d5",
   "metadata": {
    "execution": {
     "iopub.execute_input": "2023-09-12T13:42:39.395217Z",
     "iopub.status.busy": "2023-09-12T13:42:39.395018Z",
     "iopub.status.idle": "2023-09-12T13:42:58.870492Z",
     "shell.execute_reply": "2023-09-12T13:42:58.869832Z"
    }
   },
   "outputs": [
    {
     "name": "stdout",
     "output_type": "stream",
     "text": [
      "reading library 'JEFF_33'...\n",
      "reading library 'JEFF_311'...\n",
      "reading library 'ENDFB_80'...\n",
      "reading library 'ENDFB_71'...\n",
      "reading library 'JENDL_40U'...\n"
     ]
    }
   ],
   "source": [
    "data = {}\n",
    "for library in libraries:\n",
    "    print(f\"reading library '{library.upper()}'...\")\n",
    "    tape = sandy.get_endf6_file(library, \"decay\", \"all\")\n",
    "    size = len(tape.data)\n",
    "    data[library.upper()] = size"
   ]
  },
  {
   "cell_type": "code",
   "execution_count": 5,
   "id": "50414a3b",
   "metadata": {
    "execution": {
     "iopub.execute_input": "2023-09-12T13:42:58.873896Z",
     "iopub.status.busy": "2023-09-12T13:42:58.873563Z",
     "iopub.status.idle": "2023-09-12T13:42:58.881416Z",
     "shell.execute_reply": "2023-09-12T13:42:58.880689Z"
    }
   },
   "outputs": [
    {
     "name": "stdout",
     "output_type": "stream",
     "text": [
      "     library  # nuclides\n",
      "0    JEFF_33        7731\n",
      "1   JEFF_311        7731\n",
      "2   ENDFB_80        7675\n",
      "3   ENDFB_71        7675\n",
      "4  JENDL_40U        6230\n"
     ]
    }
   ],
   "source": [
    "print(pd.Series(data, name=\"# nuclides\").rename_axis(\"library\").reset_index())"
   ]
  }
 ],
 "metadata": {
  "kernelspec": {
   "display_name": "Python [conda env:sandy-v1.0] *",
   "language": "python",
   "name": "conda-env-sandy-v1.0-py"
  },
  "language_info": {
   "codemirror_mode": {
    "name": "ipython",
    "version": 3
   },
   "file_extension": ".py",
   "mimetype": "text/x-python",
   "name": "python",
   "nbconvert_exporter": "python",
   "pygments_lexer": "ipython3",
   "version": "3.11.5"
  }
 },
 "nbformat": 4,
 "nbformat_minor": 5
}
