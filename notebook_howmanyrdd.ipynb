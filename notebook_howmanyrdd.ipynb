{
 "cells": [
  {
   "cell_type": "markdown",
   "id": "0bc344cf",
   "metadata": {},
   "source": [
    "# How many nuclides in the decay data libraries?"
   ]
  },
  {
   "cell_type": "code",
   "execution_count": 1,
   "id": "6123dc04",
   "metadata": {
    "execution": {
     "iopub.execute_input": "2023-09-22T09:23:02.194592Z",
     "iopub.status.busy": "2023-09-22T09:23:02.194252Z",
     "iopub.status.idle": "2023-09-22T09:23:02.572647Z",
     "shell.execute_reply": "2023-09-22T09:23:02.572107Z"
    }
   },
   "outputs": [],
   "source": [
    "import sandy"
   ]
  },
  {
   "cell_type": "code",
   "execution_count": 2,
   "id": "988d6ad5",
   "metadata": {
    "execution": {
     "iopub.execute_input": "2023-09-22T09:23:02.575721Z",
     "iopub.status.busy": "2023-09-22T09:23:02.575011Z",
     "iopub.status.idle": "2023-09-22T09:23:02.578125Z",
     "shell.execute_reply": "2023-09-22T09:23:02.577634Z"
    }
   },
   "outputs": [],
   "source": [
    "import pandas as pd"
   ]
  },
  {
   "cell_type": "code",
   "execution_count": 3,
   "id": "26e45db5",
   "metadata": {
    "execution": {
     "iopub.execute_input": "2023-09-22T09:23:02.580532Z",
     "iopub.status.busy": "2023-09-22T09:23:02.579984Z",
     "iopub.status.idle": "2023-09-22T09:23:02.582917Z",
     "shell.execute_reply": "2023-09-22T09:23:02.582463Z"
    }
   },
   "outputs": [],
   "source": [
    "libraries = [\"jeff_33\", \"jeff_311\", \"endfb_80\", \"endfb_71\", \"jendl_40u\"]"
   ]
  },
  {
   "cell_type": "code",
   "execution_count": 4,
   "id": "e3bf76d5",
   "metadata": {
    "execution": {
     "iopub.execute_input": "2023-09-22T09:23:02.585111Z",
     "iopub.status.busy": "2023-09-22T09:23:02.584744Z",
     "iopub.status.idle": "2023-09-22T09:23:21.457516Z",
     "shell.execute_reply": "2023-09-22T09:23:21.456892Z"
    }
   },
   "outputs": [
    {
     "name": "stdout",
     "output_type": "stream",
     "text": [
      "reading library 'JEFF_33'...\n",
      "reading library 'JEFF_311'...\n",
      "reading library 'ENDFB_80'...\n",
      "reading library 'ENDFB_71'...\n",
      "reading library 'JENDL_40U'...\n"
     ]
    }
   ],
   "source": [
    "data = {}\n",
    "for library in libraries:\n",
    "    print(f\"reading library '{library.upper()}'...\")\n",
    "    tape = sandy.get_endf6_file(library, \"decay\", \"all\")\n",
    "    size = len(tape.data)\n",
    "    data[library.upper()] = size"
   ]
  },
  {
   "cell_type": "code",
   "execution_count": 5,
   "id": "50414a3b",
   "metadata": {
    "execution": {
     "iopub.execute_input": "2023-09-22T09:23:21.460763Z",
     "iopub.status.busy": "2023-09-22T09:23:21.460217Z",
     "iopub.status.idle": "2023-09-22T09:23:21.468511Z",
     "shell.execute_reply": "2023-09-22T09:23:21.467995Z"
    }
   },
   "outputs": [
    {
     "name": "stdout",
     "output_type": "stream",
     "text": [
      "     library  # nuclides\n",
      "0    JEFF_33        7731\n",
      "1   JEFF_311        7731\n",
      "2   ENDFB_80        7675\n",
      "3   ENDFB_71        7675\n",
      "4  JENDL_40U        6230\n"
     ]
    }
   ],
   "source": [
    "print(pd.Series(data, name=\"# nuclides\").rename_axis(\"library\").reset_index())"
   ]
  }
 ],
 "metadata": {
  "kernelspec": {
   "display_name": "Python [conda env:sandy-v1.0] *",
   "language": "python",
   "name": "conda-env-sandy-v1.0-py"
  },
  "language_info": {
   "codemirror_mode": {
    "name": "ipython",
    "version": 3
   },
   "file_extension": ".py",
   "mimetype": "text/x-python",
   "name": "python",
   "nbconvert_exporter": "python",
   "pygments_lexer": "ipython3",
   "version": "3.11.5"
  }
 },
 "nbformat": 4,
 "nbformat_minor": 5
}
