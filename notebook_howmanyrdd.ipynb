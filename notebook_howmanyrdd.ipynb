{
 "cells": [
  {
   "cell_type": "markdown",
   "id": "0bc344cf",
   "metadata": {},
   "source": [
    "# How many nuclides in the decay data libraries?"
   ]
  },
  {
   "cell_type": "code",
   "execution_count": 1,
   "id": "6123dc04",
   "metadata": {
    "execution": {
     "iopub.execute_input": "2023-08-22T12:00:04.258689Z",
     "iopub.status.busy": "2023-08-22T12:00:04.258448Z",
     "iopub.status.idle": "2023-08-22T12:00:04.668250Z",
     "shell.execute_reply": "2023-08-22T12:00:04.667547Z"
    }
   },
   "outputs": [],
   "source": [
    "import sandy"
   ]
  },
  {
   "cell_type": "code",
   "execution_count": 2,
   "id": "988d6ad5",
   "metadata": {
    "execution": {
     "iopub.execute_input": "2023-08-22T12:00:04.671883Z",
     "iopub.status.busy": "2023-08-22T12:00:04.671450Z",
     "iopub.status.idle": "2023-08-22T12:00:04.674267Z",
     "shell.execute_reply": "2023-08-22T12:00:04.673772Z"
    }
   },
   "outputs": [],
   "source": [
    "import pandas as pd"
   ]
  },
  {
   "cell_type": "code",
   "execution_count": 3,
   "id": "26e45db5",
   "metadata": {
    "execution": {
     "iopub.execute_input": "2023-08-22T12:00:04.677234Z",
     "iopub.status.busy": "2023-08-22T12:00:04.676849Z",
     "iopub.status.idle": "2023-08-22T12:00:04.679676Z",
     "shell.execute_reply": "2023-08-22T12:00:04.679181Z"
    }
   },
   "outputs": [],
   "source": [
    "libraries = [\"jeff_33\", \"jeff_311\", \"endfb_80\", \"endfb_71\", \"jendl_40u\"]"
   ]
  },
  {
   "cell_type": "code",
   "execution_count": 4,
   "id": "e3bf76d5",
   "metadata": {
    "execution": {
     "iopub.execute_input": "2023-08-22T12:00:04.682023Z",
     "iopub.status.busy": "2023-08-22T12:00:04.681648Z",
     "iopub.status.idle": "2023-08-22T12:00:26.178755Z",
     "shell.execute_reply": "2023-08-22T12:00:26.178024Z"
    }
   },
   "outputs": [
    {
     "name": "stdout",
     "output_type": "stream",
     "text": [
      "reading library 'JEFF_33'...\n",
      "reading library 'JEFF_311'...\n",
      "reading library 'ENDFB_80'...\n",
      "reading library 'ENDFB_71'...\n",
      "reading library 'JENDL_40U'...\n"
     ]
    }
   ],
   "source": [
    "data = {}\n",
    "for library in libraries:\n",
    "    print(f\"reading library '{library.upper()}'...\")\n",
    "    tape = sandy.get_endf6_file(library, \"decay\", \"all\")\n",
    "    size = len(tape.data)\n",
    "    data[library.upper()] = size"
   ]
  },
  {
   "cell_type": "code",
   "execution_count": 5,
   "id": "50414a3b",
   "metadata": {
    "execution": {
     "iopub.execute_input": "2023-08-22T12:00:26.182616Z",
     "iopub.status.busy": "2023-08-22T12:00:26.182228Z",
     "iopub.status.idle": "2023-08-22T12:00:26.189313Z",
     "shell.execute_reply": "2023-08-22T12:00:26.188732Z"
    }
   },
   "outputs": [
    {
     "name": "stdout",
     "output_type": "stream",
     "text": [
      "     library  # nuclides\n",
      "0    JEFF_33        7731\n",
      "1   JEFF_311        7731\n",
      "2   ENDFB_80        7675\n",
      "3   ENDFB_71        7675\n",
      "4  JENDL_40U        6230\n"
     ]
    }
   ],
   "source": [
    "print(pd.Series(data, name=\"# nuclides\").rename_axis(\"library\").reset_index())"
   ]
  }
 ],
 "metadata": {
  "kernelspec": {
   "display_name": "Python [conda env:sandy-v1.0] *",
   "language": "python",
   "name": "conda-env-sandy-v1.0-py"
  },
  "language_info": {
   "codemirror_mode": {
    "name": "ipython",
    "version": 3
   },
   "file_extension": ".py",
   "mimetype": "text/x-python",
   "name": "python",
   "nbconvert_exporter": "python",
   "pygments_lexer": "ipython3",
   "version": "3.11.4"
  }
 },
 "nbformat": 4,
 "nbformat_minor": 5
}
