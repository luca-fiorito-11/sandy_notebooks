{
 "cells": [
  {
   "cell_type": "markdown",
   "id": "07d8bcef",
   "metadata": {},
   "source": [
    "# Regression analysis with SVD decomposition"
   ]
  },
  {
   "cell_type": "code",
   "execution_count": 1,
   "id": "014c3a14",
   "metadata": {
    "execution": {
     "iopub.execute_input": "2023-08-28T12:40:07.728650Z",
     "iopub.status.busy": "2023-08-28T12:40:07.728283Z",
     "iopub.status.idle": "2023-08-28T12:40:08.089840Z",
     "shell.execute_reply": "2023-08-28T12:40:08.088986Z"
    }
   },
   "outputs": [],
   "source": [
    "import pandas as pd\n",
    "import numpy as np\n",
    "from numpy.random import multivariate_normal\n",
    "from numpy.linalg import cholesky, svd\n",
    "\n",
    "import pytest"
   ]
  },
  {
   "cell_type": "code",
   "execution_count": 2,
   "id": "650f3a4d",
   "metadata": {
    "execution": {
     "iopub.execute_input": "2023-08-28T12:40:08.094065Z",
     "iopub.status.busy": "2023-08-28T12:40:08.093496Z",
     "iopub.status.idle": "2023-08-28T12:40:08.822017Z",
     "shell.execute_reply": "2023-08-28T12:40:08.821232Z"
    }
   },
   "outputs": [],
   "source": [
    "import matplotlib.pyplot as plt\n",
    "import seaborn as sns"
   ]
  },
  {
   "cell_type": "markdown",
   "id": "6fc5f129",
   "metadata": {},
   "source": [
    "Linear model is $$E[Y|A,B]=E[Y]+a(A-E[A])+b(B-E[B])$$"
   ]
  },
  {
   "cell_type": "code",
   "execution_count": 3,
   "id": "f66d06ab",
   "metadata": {
    "execution": {
     "iopub.execute_input": "2023-08-28T12:40:08.826144Z",
     "iopub.status.busy": "2023-08-28T12:40:08.825539Z",
     "iopub.status.idle": "2023-08-28T12:40:08.831240Z",
     "shell.execute_reply": "2023-08-28T12:40:08.830358Z"
    }
   },
   "outputs": [],
   "source": [
    "Sa = 3\n",
    "Sb = 5\n",
    "def model(a, b):\n",
    "    return Sa * a + Sb * b"
   ]
  },
  {
   "cell_type": "code",
   "execution_count": 4,
   "id": "1c261278",
   "metadata": {
    "execution": {
     "iopub.execute_input": "2023-08-28T12:40:08.834295Z",
     "iopub.status.busy": "2023-08-28T12:40:08.833874Z",
     "iopub.status.idle": "2023-08-28T12:40:08.837478Z",
     "shell.execute_reply": "2023-08-28T12:40:08.836786Z"
    }
   },
   "outputs": [],
   "source": [
    "Va = 2\n",
    "Vb = 1.5\n",
    "Cab = 0.4 * np.sqrt(Va) * np.sqrt(Vb)"
   ]
  },
  {
   "cell_type": "code",
   "execution_count": 5,
   "id": "76b99bfe",
   "metadata": {
    "execution": {
     "iopub.execute_input": "2023-08-28T12:40:08.840143Z",
     "iopub.status.busy": "2023-08-28T12:40:08.839651Z",
     "iopub.status.idle": "2023-08-28T12:40:08.842953Z",
     "shell.execute_reply": "2023-08-28T12:40:08.842261Z"
    }
   },
   "outputs": [],
   "source": [
    "C_AB = np.array([\n",
    "    [Va, Cab],\n",
    "    [Cab, Vb],\n",
    "])"
   ]
  },
  {
   "cell_type": "markdown",
   "id": "e3443e78",
   "metadata": {},
   "source": [
    "Bivariate probelms with covariance matrix\n",
    "$$\n",
    "C_{AB}=\\begin{bmatrix}\n",
    "Var(A) & Cov(A,B)\\\\\n",
    "Cov(A,B) & Var(B)\n",
    "\\end{bmatrix}\n",
    "$$"
   ]
  },
  {
   "cell_type": "markdown",
   "id": "f80d593b",
   "metadata": {},
   "source": [
    "For a covariance matrix, the Cholesky decomposition and SVD (equal to eigenvalue decomposition in this case) are related by the following equation:\n",
    "\n",
    "$$\n",
    "C_{AB}=L  L^T = U S V^T\n",
    "$$\n",
    "\n",
    "Also, $U=V$. Diagonal matrix $S$ contains the eigenvalues of the $C_{AB}$."
   ]
  },
  {
   "cell_type": "code",
   "execution_count": 6,
   "id": "adb90f46",
   "metadata": {
    "execution": {
     "iopub.execute_input": "2023-08-28T12:40:08.845825Z",
     "iopub.status.busy": "2023-08-28T12:40:08.845486Z",
     "iopub.status.idle": "2023-08-28T12:40:08.849287Z",
     "shell.execute_reply": "2023-08-28T12:40:08.848712Z"
    }
   },
   "outputs": [],
   "source": [
    "L = cholesky(C_AB)\n",
    "np.testing.assert_array_almost_equal(C_AB, L @ L.T)"
   ]
  },
  {
   "cell_type": "code",
   "execution_count": 7,
   "id": "c082722a",
   "metadata": {
    "execution": {
     "iopub.execute_input": "2023-08-28T12:40:08.852912Z",
     "iopub.status.busy": "2023-08-28T12:40:08.852389Z",
     "iopub.status.idle": "2023-08-28T12:40:08.857740Z",
     "shell.execute_reply": "2023-08-28T12:40:08.856895Z"
    }
   },
   "outputs": [],
   "source": [
    "U, S, V = svd(C_AB)\n",
    "np.testing.assert_array_almost_equal(U, V.T)\n",
    "np.testing.assert_array_almost_equal(C_AB, U @ np.diag(S) @ U.T)"
   ]
  },
  {
   "cell_type": "markdown",
   "id": "c252e1bb",
   "metadata": {},
   "source": [
    "With a change of notation we rewrite\n",
    "$$\n",
    "S=\\begin{bmatrix}\n",
    "\\lambda_{A^*}^2 & 0\\\\\n",
    "0 & \\lambda_{B^*}^2\n",
    "\\end{bmatrix} =\n",
    "\\begin{bmatrix}\n",
    "\\lambda_{A^*} & 0\\\\\n",
    "0 & \\lambda_{B^*}\n",
    "\\end{bmatrix}\n",
    "\\begin{bmatrix}\n",
    "\\lambda_{A^*} & 0\\\\\n",
    "0 & \\lambda_{B^*}\n",
    "\\end{bmatrix}^T =\n",
    "\\left(\\Lambda^{1/2}\\right)\\left(\\Lambda^{1/2}\\right)^T\n",
    "$$\n",
    "Then: $$C_{AB}=\\left(U\\Lambda^{1/2}\\right)\\left(U \\Lambda^{1/2}\\right)^T$$"
   ]
  },
  {
   "cell_type": "code",
   "execution_count": 8,
   "id": "186bea11",
   "metadata": {
    "execution": {
     "iopub.execute_input": "2023-08-28T12:40:08.860313Z",
     "iopub.status.busy": "2023-08-28T12:40:08.859915Z",
     "iopub.status.idle": "2023-08-28T12:40:08.863800Z",
     "shell.execute_reply": "2023-08-28T12:40:08.863092Z"
    }
   },
   "outputs": [],
   "source": [
    "Lambda12 = np.diag(np.sqrt(S))\n",
    "np.testing.assert_array_almost_equal(C_AB, U @ Lambda12 @ Lambda12.T @ U.T)"
   ]
  },
  {
   "cell_type": "markdown",
   "id": "d5b23975",
   "metadata": {},
   "source": [
    "But it seems that $$ L\\neq U\\Lambda^{1/2}$$"
   ]
  },
  {
   "cell_type": "code",
   "execution_count": 9,
   "id": "2f77670b",
   "metadata": {
    "execution": {
     "iopub.execute_input": "2023-08-28T12:40:08.866605Z",
     "iopub.status.busy": "2023-08-28T12:40:08.866264Z",
     "iopub.status.idle": "2023-08-28T12:40:08.870830Z",
     "shell.execute_reply": "2023-08-28T12:40:08.870143Z"
    }
   },
   "outputs": [],
   "source": [
    "with pytest.raises(Exception):\n",
    "    np.testing.assert_array_almost_equal(L, U @ Lambda12)"
   ]
  },
  {
   "cell_type": "markdown",
   "id": "45f16f86",
   "metadata": {},
   "source": [
    "From the above definitions we derive that: $$\n",
    "\\begin{bmatrix}\n",
    "A \\\\\n",
    "B\n",
    "\\end{bmatrix} \\sim \\mathcal{N}\\left(\\begin{bmatrix}\n",
    "E[A] \\\\\n",
    "E[B]\n",
    "\\end{bmatrix},\n",
    "C_{AB}\\right)\n",
    "$$\n",
    "\n",
    "Let's define to i.i.d variables $A^*$ and $B^*$, so that\n",
    "\n",
    "$$\n",
    "\\begin{bmatrix}\n",
    "A^* \\\\\n",
    "B^*\n",
    "\\end{bmatrix} \\sim \\mathcal{N}\\left(0,I\\right)\n",
    "$$\n",
    "\n",
    "where $I$ is the identity matrix and $0$ is a zero vector.\n",
    "Then $\\left(A^*,B^*\\right)$ and $\\left(A,B\\right)$ can be related as\n",
    "\n",
    "$$\n",
    "\\begin{bmatrix}\n",
    "A \\\\\n",
    "B\n",
    "\\end{bmatrix}=\\begin{bmatrix}\n",
    "E[A] \\\\\n",
    "E[B]\n",
    "\\end{bmatrix} + U\\Lambda^{1/2} \n",
    "\\begin{bmatrix}\n",
    "A^* \\\\\n",
    "B^*\n",
    "\\end{bmatrix}\n",
    "$$\n",
    "\n",
    "since\n",
    "\n",
    "$$\n",
    "E\\begin{bmatrix}\n",
    "A \\\\\n",
    "B\n",
    "\\end{bmatrix}=\\begin{bmatrix}\n",
    "E[A] \\\\\n",
    "E[B]\n",
    "\\end{bmatrix} + E\\left[U\\Lambda^{1/2} \n",
    "\\begin{bmatrix}\n",
    "A^* \\\\\n",
    "B^*\n",
    "\\end{bmatrix}\\right]=\\begin{bmatrix}\n",
    "E[A] \\\\\n",
    "E[B]\n",
    "\\end{bmatrix} + U\\Lambda^{1/2} \n",
    "E\\begin{bmatrix}\n",
    "A^* \\\\\n",
    "B^*\n",
    "\\end{bmatrix}=\\begin{bmatrix}\n",
    "E[A] \\\\\n",
    "E[B]\n",
    "\\end{bmatrix} + U\\Lambda^{1/2} \n",
    "E\\begin{bmatrix}\n",
    "0 \\\\\n",
    "0\n",
    "\\end{bmatrix}=\\begin{bmatrix}\n",
    "E[A] \\\\\n",
    "E[B]\n",
    "\\end{bmatrix}\n",
    "$$\n",
    "\n",
    "and\n",
    "$$\n",
    "E\\left[\n",
    "\\begin{bmatrix}\n",
    "A \\\\\n",
    "B\n",
    "\\end{bmatrix}\n",
    "\\begin{bmatrix}\n",
    "A \\\\\n",
    "B\n",
    "\\end{bmatrix}^T\n",
    "\\right]  =\n",
    "E\\left[\\left(\n",
    "U\\Lambda^{1/2} \n",
    "\\begin{bmatrix}\n",
    "A^* \\\\\n",
    "B^*\n",
    "\\end{bmatrix}\\right)\n",
    "\\left(\n",
    "U\\Lambda^{1/2} \n",
    "\\begin{bmatrix}\n",
    "A^* \\\\\n",
    "B^*\n",
    "\\end{bmatrix}\\right)^T\n",
    "\\right]  =\n",
    "\\left(U\\Lambda^{1/2}\\right)\n",
    "E\\left[\\left(\n",
    "\\begin{bmatrix}\n",
    "A^* \\\\\n",
    "B^*\n",
    "\\end{bmatrix}\\right)\n",
    "\\left(\n",
    "\\begin{bmatrix}\n",
    "A^* \\\\\n",
    "B^*\n",
    "\\end{bmatrix}\\right)^T\n",
    "\\right]\n",
    "\\left(U\\Lambda^{1/2}\\right)^T = \\left(U\\Lambda^{1/2}\\right)I\\left(U\\Lambda^{1/2}\\right)^T=\\left(U\\Lambda^{1/2}\\right)\\left(U\\Lambda^{1/2}\\right)^T=C_{AB}\n",
    "$$"
   ]
  },
  {
   "cell_type": "markdown",
   "id": "f293f130",
   "metadata": {},
   "source": [
    "Let's rewrite a linear model in terms of $A^*$ and $B^*$, as $$E[Y|A^*,B^*]=E[Y]+a^* A^* + b^* B^*$$"
   ]
  },
  {
   "cell_type": "markdown",
   "id": "ff094c52",
   "metadata": {},
   "source": [
    "If the above relations are true, the equality $E[Y|A^*,B^*]=E[Y|A,B]$ holds when\n",
    "$$\n",
    "\\left(U\\Lambda^{1/2}\\right)^T\n",
    "\\begin{bmatrix}\n",
    "a \\\\\n",
    "b\n",
    "\\end{bmatrix} = \n",
    "\\begin{bmatrix}\n",
    "a^* \\\\\n",
    "b^*\n",
    "\\end{bmatrix}\n",
    "$$"
   ]
  },
  {
   "cell_type": "markdown",
   "id": "6ce749af",
   "metadata": {},
   "source": [
    "Then, since $A^*$ and $B^*$ are independent we can calculate $a^*$ and $b^*$ as $$\n",
    "\\begin{bmatrix}\n",
    "a^* \\\\\n",
    "b^*\n",
    "\\end{bmatrix} = \n",
    "\\begin{bmatrix}\n",
    "\\frac{Cov(E[Y|A^*,B^*], A^*)}{Var(A^*)}\\\\\n",
    "\\frac{Cov(E[Y|A^*,B^*], B^*)}{Var(VB^*)}\n",
    "\\end{bmatrix} = \n",
    "\\begin{bmatrix}\n",
    "Cov(E[Y|A^*,B^*], A^*)\\\\\n",
    "Cov(E[Y|A^*,B^*], B^*)\n",
    "\\end{bmatrix}\n",
    "$$\n",
    "\n",
    "Then, $a$ and $b$ are $$\n",
    "\\begin{bmatrix}\n",
    "a \\\\\n",
    "b\n",
    "\\end{bmatrix} = \n",
    "\\left(\\left(U\\Lambda^{1/2}\\right)^T\\right)^{-1}\n",
    "\\begin{bmatrix}\n",
    "Cov(E[Y|A^*,B^*], A^*)\\\\\n",
    "Cov(E[Y|A^*,B^*], B^*)\n",
    "\\end{bmatrix}\n",
    "$$"
   ]
  },
  {
   "cell_type": "code",
   "execution_count": 10,
   "id": "e793eaeb",
   "metadata": {
    "execution": {
     "iopub.execute_input": "2023-08-28T12:40:08.873536Z",
     "iopub.status.busy": "2023-08-28T12:40:08.873197Z",
     "iopub.status.idle": "2023-08-28T12:40:08.876278Z",
     "shell.execute_reply": "2023-08-28T12:40:08.875608Z"
    }
   },
   "outputs": [],
   "source": [
    "N = 100000"
   ]
  },
  {
   "cell_type": "code",
   "execution_count": 11,
   "id": "107b8b79",
   "metadata": {
    "execution": {
     "iopub.execute_input": "2023-08-28T12:40:08.879053Z",
     "iopub.status.busy": "2023-08-28T12:40:08.878705Z",
     "iopub.status.idle": "2023-08-28T12:40:08.892603Z",
     "shell.execute_reply": "2023-08-28T12:40:08.892011Z"
    }
   },
   "outputs": [],
   "source": [
    "# non correlated, standardized sample\n",
    "X_ = multivariate_normal(mean=[0, 0], cov=np.eye(2), size=N)\n",
    "\n",
    "# correlated sample\n",
    "X = (U @ Lambda12 @ X_.T).T"
   ]
  },
  {
   "cell_type": "code",
   "execution_count": 12,
   "id": "49f9ef3a",
   "metadata": {
    "execution": {
     "iopub.execute_input": "2023-08-28T12:40:08.896577Z",
     "iopub.status.busy": "2023-08-28T12:40:08.896295Z",
     "iopub.status.idle": "2023-08-28T12:40:09.704331Z",
     "shell.execute_reply": "2023-08-28T12:40:09.703645Z"
    }
   },
   "outputs": [
    {
     "data": {
      "image/png": "[encoded data removed]",
      "text/plain": [
       "<Figure size 800x800 with 6 Axes>"
      ]
     },
     "metadata": {},
     "output_type": "display_data"
    }
   ],
   "source": [
    "fig, axs = plt.subplots(2, 2, figsize=(8, 8))\n",
    "sns.heatmap(pd.DataFrame(np.corrcoef(X.T), index=[\"A\", \"B\"], columns=[\"A\", \"B\"]), ax=axs[0,0], cmap=\"bwr\", vmin=-1, vmax=1)\n",
    "sns.heatmap(pd.DataFrame(np.corrcoef(X_.T), index=[\"A*\", \"B*\"], columns=[\"A*\", \"B*\"]), ax=axs[0,1], cmap=\"bwr\", vmin=-1, vmax=1)\n",
    "pd.Series(np.var(X, axis=0), index=[\"A\", \"B\"]).plot(kind=\"bar\", ax=axs[1,0])\n",
    "pd.Series(np.var(X_, axis=0), index=[\"A*\", \"B*\"]).plot(kind=\"bar\", ax=axs[1,1])\n",
    "\n",
    "axs[0,0].set_ylabel(\"correlation matrix\")\n",
    "axs[1,0].set_ylabel(\"variance\")\n",
    "fig.tight_layout()"
   ]
  },
  {
   "cell_type": "code",
   "execution_count": 13,
   "id": "e68379e2",
   "metadata": {
    "execution": {
     "iopub.execute_input": "2023-08-28T12:40:09.707483Z",
     "iopub.status.busy": "2023-08-28T12:40:09.707122Z",
     "iopub.status.idle": "2023-08-28T12:40:09.873634Z",
     "shell.execute_reply": "2023-08-28T12:40:09.872837Z"
    }
   },
   "outputs": [],
   "source": [
    "Y = np.array([model(*row) for row in X])"
   ]
  },
  {
   "cell_type": "code",
   "execution_count": 14,
   "id": "98fad4df",
   "metadata": {
    "execution": {
     "iopub.execute_input": "2023-08-28T12:40:09.877296Z",
     "iopub.status.busy": "2023-08-28T12:40:09.876846Z",
     "iopub.status.idle": "2023-08-28T12:40:09.883577Z",
     "shell.execute_reply": "2023-08-28T12:40:09.882946Z"
    }
   },
   "outputs": [],
   "source": [
    "Z = np.array([np.cov(Y, row)[0, 1] for row in X_.T])"
   ]
  },
  {
   "cell_type": "code",
   "execution_count": 15,
   "id": "8404b9ed",
   "metadata": {
    "execution": {
     "iopub.execute_input": "2023-08-28T12:40:09.885966Z",
     "iopub.status.busy": "2023-08-28T12:40:09.885763Z",
     "iopub.status.idle": "2023-08-28T12:40:09.890906Z",
     "shell.execute_reply": "2023-08-28T12:40:09.890420Z"
    }
   },
   "outputs": [
    {
     "data": {
      "text/plain": [
       "array([2.99828074, 5.00441521])"
      ]
     },
     "execution_count": 15,
     "metadata": {},
     "output_type": "execute_result"
    }
   ],
   "source": [
    "np.linalg.inv((U @ Lambda12).T) @ Z"
   ]
  },
  {
   "cell_type": "markdown",
   "id": "e307363b",
   "metadata": {},
   "source": [
    "## Case 1: dependence on the variance size"
   ]
  },
  {
   "cell_type": "code",
   "execution_count": 16,
   "id": "5d2bef1d",
   "metadata": {
    "execution": {
     "iopub.execute_input": "2023-08-28T12:40:09.895411Z",
     "iopub.status.busy": "2023-08-28T12:40:09.894916Z",
     "iopub.status.idle": "2023-08-28T12:40:09.900229Z",
     "shell.execute_reply": "2023-08-28T12:40:09.899605Z"
    }
   },
   "outputs": [],
   "source": [
    "def foo(n):\n",
    "    N = 10000\n",
    "    Va = 2 * n\n",
    "    Vb = 1.5 * n\n",
    "    Cab = 0 * np.sqrt(Va) * np.sqrt(Vb)\n",
    "    C_AB = np.array([\n",
    "        [Va, Cab],\n",
    "        [Cab, Vb],\n",
    "    ])\n",
    "    X_ = multivariate_normal(mean=[0, 0], cov=np.eye(2), size=N)\n",
    "    X = (U @ Lambda12 @ X_.T).T\n",
    "    Y = np.array([model(*row) for row in X])\n",
    "    Z = np.array([np.cov(Y, row)[0, 1] for row in X_.T])\n",
    "    return np.linalg.inv((U @ Lambda12).T) @ Z"
   ]
  },
  {
   "cell_type": "code",
   "execution_count": 17,
   "id": "d7ec9d29",
   "metadata": {
    "execution": {
     "iopub.execute_input": "2023-08-28T12:40:09.902893Z",
     "iopub.status.busy": "2023-08-28T12:40:09.902553Z",
     "iopub.status.idle": "2023-08-28T12:40:11.571654Z",
     "shell.execute_reply": "2023-08-28T12:40:11.570994Z"
    }
   },
   "outputs": [],
   "source": [
    "df = pd.DataFrame({n: [*foo(n)] for n in np.linspace(0.1, 7, 100)}).T\n",
    "df.columns = [\"A\", \"B\"]"
   ]
  },
  {
   "cell_type": "code",
   "execution_count": 18,
   "id": "7c6fa52b",
   "metadata": {
    "execution": {
     "iopub.execute_input": "2023-08-28T12:40:11.574883Z",
     "iopub.status.busy": "2023-08-28T12:40:11.574434Z",
     "iopub.status.idle": "2023-08-28T12:40:11.782277Z",
     "shell.execute_reply": "2023-08-28T12:40:11.781739Z"
    }
   },
   "outputs": [
    {
     "data": {
      "image/png": "[encoded data removed]",
      "text/plain": [
       "<Figure size 640x480 with 1 Axes>"
      ]
     },
     "metadata": {},
     "output_type": "display_data"
    }
   ],
   "source": [
    "fig, ax = plt.subplots()\n",
    "df.plot(ax=ax)\n",
    "ax.set(\n",
    "    xlabel=\"variance scale factor\",\n",
    "    ylabel=\"a, b\",\n",
    ")\n",
    "ax.axhline(Sa, ls=\"--\", color=\"k\")\n",
    "ax.axhline(Sb, ls=\"--\", color=\"k\")\n",
    "fig.tight_layout();"
   ]
  }
 ],
 "metadata": {
  "kernelspec": {
   "display_name": "Python [conda env:sandy-v1.0] *",
   "language": "python",
   "name": "conda-env-sandy-v1.0-py"
  },
  "language_info": {
   "codemirror_mode": {
    "name": "ipython",
    "version": 3
   },
   "file_extension": ".py",
   "mimetype": "text/x-python",
   "name": "python",
   "nbconvert_exporter": "python",
   "pygments_lexer": "ipython3",
   "version": "3.11.4"
  }
 },
 "nbformat": 4,
 "nbformat_minor": 5
}
