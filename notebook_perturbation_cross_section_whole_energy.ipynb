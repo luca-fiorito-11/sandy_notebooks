{
 "cells": [
  {
   "cell_type": "markdown",
   "metadata": {},
   "source": [
    "# Apply a perturbation to a cross section over its entire energy domain"
   ]
  },
  {
   "cell_type": "code",
   "execution_count": 1,
   "metadata": {
    "execution": {
     "iopub.execute_input": "2023-09-28T07:30:39.421069Z",
     "iopub.status.busy": "2023-09-28T07:30:39.420611Z",
     "iopub.status.idle": "2023-09-28T07:30:39.662732Z",
     "shell.execute_reply": "2023-09-28T07:30:39.662152Z"
    }
   },
   "outputs": [],
   "source": [
    "import os\n",
    "\n",
    "import numpy as np\n",
    "import pandas as pd"
   ]
  },
  {
   "cell_type": "code",
   "execution_count": 2,
   "metadata": {
    "execution": {
     "iopub.execute_input": "2023-09-28T07:30:39.665627Z",
     "iopub.status.busy": "2023-09-28T07:30:39.665059Z",
     "iopub.status.idle": "2023-09-28T07:30:39.797538Z",
     "shell.execute_reply": "2023-09-28T07:30:39.796954Z"
    }
   },
   "outputs": [],
   "source": [
    "import sandy"
   ]
  },
  {
   "cell_type": "code",
   "execution_count": 3,
   "metadata": {
    "execution": {
     "iopub.execute_input": "2023-09-28T07:30:39.800370Z",
     "iopub.status.busy": "2023-09-28T07:30:39.799973Z",
     "iopub.status.idle": "2023-09-28T07:30:40.306596Z",
     "shell.execute_reply": "2023-09-28T07:30:40.306000Z"
    }
   },
   "outputs": [],
   "source": [
    "import matplotlib.pyplot as plt\n",
    "import seaborn as sns\n",
    "\n",
    "sns.set_style(\"whitegrid\")"
   ]
  },
  {
   "cell_type": "markdown",
   "metadata": {},
   "source": [
    "In this notebook we learn to:\n",
    "* generate a uniform cross section perturbation over the entire cross section domain;\n",
    "* apply the perturbation to the cross section;\n",
    "* plot the results;\n",
    "* produce an ACE file with the perturbed cross section."
   ]
  },
  {
   "cell_type": "markdown",
   "metadata": {},
   "source": [
    "## Retrieve nuclear data file"
   ]
  },
  {
   "cell_type": "markdown",
   "metadata": {},
   "source": [
    "Firs, we get the evaluated nuclear data file - in this case U-238 from ENDF/B-VII - using `get_endf6_file`.\n",
    "We also proceed in reconstructing the cross sections from the resonance parameters using NJOY (RECONR) and method `.get_pendf`."
   ]
  },
  {
   "cell_type": "code",
   "execution_count": 4,
   "metadata": {
    "execution": {
     "iopub.execute_input": "2023-09-28T07:30:40.309710Z",
     "iopub.status.busy": "2023-09-28T07:30:40.309133Z",
     "iopub.status.idle": "2023-09-28T07:31:16.531421Z",
     "shell.execute_reply": "2023-09-28T07:31:16.530490Z"
    }
   },
   "outputs": [
    {
     "name": "stderr",
     "output_type": "stream",
     "text": [
      "INFO:  Zero or no temperature was requested, NJOY processing will stop after RECONR.\n",
      "    If you want to process 0K cross sections use `temperature=0.1`.\n",
      "    \n"
     ]
    },
    {
     "name": "stdout",
     "output_type": "stream",
     "text": [
      "moder\n",
      "20 -21 /\n",
      "reconr\n",
      "-21 -22 /\n",
      "'sandy runs njoy'/\n",
      "9237 0 0 /\n",
      "0.1 0. /\n",
      "0/\n",
      "moder\n",
      "-22 30 /\n",
      "stop\n",
      "\n",
      " njoy 2016.71  14Jul23                                       09/28/23 07:30:47\n",
      " *****************************************************************************\n",
      "\n",
      " moder...                                                                 0.0s\n",
      "\n",
      " reconr...                                                                0.9s\n",
      "\n",
      " moder...                                                                26.2s\n",
      "                                                                         28.4s\n",
      " *****************************************************************************\n"
     ]
    }
   ],
   "source": [
    "endf6 = sandy.get_endf6_file(\"endfb_71\", \"xs\", 922380)\n",
    "pendf = endf6.get_pendf(err=0.1, verbose=True)"
   ]
  },
  {
   "cell_type": "markdown",
   "metadata": {},
   "source": [
    "Basically we produced a so-called PENDF file, from which we can extract the cross sections."
   ]
  },
  {
   "cell_type": "code",
   "execution_count": 5,
   "metadata": {
    "execution": {
     "iopub.execute_input": "2023-09-28T07:31:16.534346Z",
     "iopub.status.busy": "2023-09-28T07:31:16.533852Z",
     "iopub.status.idle": "2023-09-28T07:31:19.241266Z",
     "shell.execute_reply": "2023-09-28T07:31:19.240626Z"
    }
   },
   "outputs": [],
   "source": [
    "xs = sandy.Xs.from_endf6(pendf)"
   ]
  },
  {
   "cell_type": "markdown",
   "metadata": {},
   "source": [
    "## Create a perturbation"
   ]
  },
  {
   "cell_type": "markdown",
   "metadata": {},
   "source": [
    "To create a perturbation over the whole cross section energy domain you have first to define the domain boundaries."
   ]
  },
  {
   "cell_type": "code",
   "execution_count": 6,
   "metadata": {
    "execution": {
     "iopub.execute_input": "2023-09-28T07:31:19.244426Z",
     "iopub.status.busy": "2023-09-28T07:31:19.243915Z",
     "iopub.status.idle": "2023-09-28T07:31:19.247796Z",
     "shell.execute_reply": "2023-09-28T07:31:19.247261Z"
    }
   },
   "outputs": [],
   "source": [
    "lower_bound = 1e-5  # eV\n",
    "upper_bound = 2e7   # eV"
   ]
  },
  {
   "cell_type": "markdown",
   "metadata": {},
   "source": [
    "Then the domain is,"
   ]
  },
  {
   "cell_type": "code",
   "execution_count": 7,
   "metadata": {
    "execution": {
     "iopub.execute_input": "2023-09-28T07:31:19.250456Z",
     "iopub.status.busy": "2023-09-28T07:31:19.250064Z",
     "iopub.status.idle": "2023-09-28T07:31:19.253775Z",
     "shell.execute_reply": "2023-09-28T07:31:19.253274Z"
    }
   },
   "outputs": [],
   "source": [
    "domain = [lower_bound, upper_bound]"
   ]
  },
  {
   "cell_type": "markdown",
   "metadata": {},
   "source": [
    "We define a large perturbation coefficient to make sure the perturbation is visible whne we plot it. Let's say 30%."
   ]
  },
  {
   "cell_type": "code",
   "execution_count": 8,
   "metadata": {
    "execution": {
     "iopub.execute_input": "2023-09-28T07:31:19.256137Z",
     "iopub.status.busy": "2023-09-28T07:31:19.255778Z",
     "iopub.status.idle": "2023-09-28T07:31:19.259910Z",
     "shell.execute_reply": "2023-09-28T07:31:19.258950Z"
    }
   },
   "outputs": [],
   "source": [
    "coefficient = 30 / 100"
   ]
  },
  {
   "cell_type": "markdown",
   "metadata": {},
   "source": [
    "Now, a perturbation is defined in the following way:"
   ]
  },
  {
   "cell_type": "code",
   "execution_count": 9,
   "metadata": {
    "execution": {
     "iopub.execute_input": "2023-09-28T07:31:19.262394Z",
     "iopub.status.busy": "2023-09-28T07:31:19.261944Z",
     "iopub.status.idle": "2023-09-28T07:31:19.266848Z",
     "shell.execute_reply": "2023-09-28T07:31:19.265967Z"
    }
   },
   "outputs": [],
   "source": [
    "pert_plus = sandy.Pert([1, 1 + coefficient], index=domain)"
   ]
  },
  {
   "cell_type": "markdown",
   "metadata": {},
   "source": [
    "The first `1` in the intitialized values indicate that everything below the domain lower bound must be multiplied by one, i.e. it doesn't change!"
   ]
  },
  {
   "cell_type": "markdown",
   "metadata": {},
   "source": [
    "Since we defined a positive perturbation, we can also make a negative one for completeness (let's say 50%)."
   ]
  },
  {
   "cell_type": "code",
   "execution_count": 10,
   "metadata": {
    "execution": {
     "iopub.execute_input": "2023-09-28T07:31:19.269309Z",
     "iopub.status.busy": "2023-09-28T07:31:19.268883Z",
     "iopub.status.idle": "2023-09-28T07:31:19.273202Z",
     "shell.execute_reply": "2023-09-28T07:31:19.272721Z"
    }
   },
   "outputs": [],
   "source": [
    "coefficient_minus = 50 / 100\n",
    "pert_minus = sandy.Pert([1, 1 - coefficient_minus], index=domain)"
   ]
  },
  {
   "cell_type": "markdown",
   "metadata": {},
   "source": [
    "## Apply perturbations to cross sections"
   ]
  },
  {
   "cell_type": "markdown",
   "metadata": {},
   "source": [
    "Below we apply both perturbations to the inelatsic cross section (MT=4) of U-238 (MAT=9237)."
   ]
  },
  {
   "cell_type": "code",
   "execution_count": 11,
   "metadata": {
    "execution": {
     "iopub.execute_input": "2023-09-28T07:31:19.275788Z",
     "iopub.status.busy": "2023-09-28T07:31:19.275420Z",
     "iopub.status.idle": "2023-09-28T07:31:19.445241Z",
     "shell.execute_reply": "2023-09-28T07:31:19.444646Z"
    }
   },
   "outputs": [],
   "source": [
    "mat = 9237\n",
    "mt = 4\n",
    "xspert_plus = xs.custom_perturbation(mat, mt, pert_plus)\n",
    "xspert_minus = xs.custom_perturbation(mat, mt, pert_minus)"
   ]
  },
  {
   "cell_type": "markdown",
   "metadata": {},
   "source": [
    "## Plot the results"
   ]
  },
  {
   "cell_type": "markdown",
   "metadata": {},
   "source": [
    "Results show clearly that the poitwise cross sections have been modified by the perturbation."
   ]
  },
  {
   "cell_type": "code",
   "execution_count": 12,
   "metadata": {
    "execution": {
     "iopub.execute_input": "2023-09-28T07:31:19.448349Z",
     "iopub.status.busy": "2023-09-28T07:31:19.447762Z",
     "iopub.status.idle": "2023-09-28T07:31:20.411975Z",
     "shell.execute_reply": "2023-09-28T07:31:20.410718Z"
    }
   },
   "outputs": [
    {
     "data": {
      "image/png": "[encoded data removed]",
      "text/plain": [
       "<Figure size 800x400 with 1 Axes>"
      ]
     },
     "metadata": {},
     "output_type": "display_data"
    }
   ],
   "source": [
    "fig, ax = plt.subplots(figsize=(8, 4), dpi=100)\n",
    "\n",
    "ax = xs.data[(mat, mt)].plot(logx=True, logy=True, color=\"dodgerblue\", linewidth=2, ax=ax, label=\"reference\")\n",
    "ax = xspert_plus.data[(mat, mt)].plot(\n",
    "    logx=True,\n",
    "    logy=True,\n",
    "    color=\"tomato\",\n",
    "    style='--',\n",
    "    linewidth=2,\n",
    "    ax=ax,\n",
    "    label=f\"+{coefficient * 100}%\",\n",
    ")\n",
    "ax = xspert_minus.data[(mat, mt)].plot(\n",
    "    logx=True,\n",
    "    logy=True,\n",
    "    color=\"orange\",\n",
    "    style='--',\n",
    "    linewidth=2,\n",
    "    ax=ax,\n",
    "    label=f\"-{coefficient_minus * 100}%\",\n",
    ")\n",
    "\n",
    "ax.legend(prop={\"size\": \"large\"})\n",
    "\n",
    "ax.set_ylabel(\"cross section / b\", fontsize=\"large\")\n",
    "ax.set_xlabel(\"energy / eV\", fontsize=\"large\")\n",
    "\n",
    "ax.set_xlim([1e4, 2e7])\n",
    "\n",
    "fig.tight_layout();"
   ]
  },
  {
   "cell_type": "markdown",
   "metadata": {},
   "source": [
    "Notice than neither derived cross section, e.g. MT=1, nor cross section components, e.g. MT=51, where adjusted by method `.custom_perturbation`. "
   ]
  },
  {
   "cell_type": "code",
   "execution_count": 13,
   "metadata": {
    "execution": {
     "iopub.execute_input": "2023-09-28T07:31:20.414736Z",
     "iopub.status.busy": "2023-09-28T07:31:20.414327Z",
     "iopub.status.idle": "2023-09-28T07:31:21.468719Z",
     "shell.execute_reply": "2023-09-28T07:31:21.468145Z"
    }
   },
   "outputs": [
    {
     "data": {
      "image/png": "[encoded data removed]",
      "text/plain": [
       "<Figure size 800x400 with 1 Axes>"
      ]
     },
     "metadata": {},
     "output_type": "display_data"
    }
   ],
   "source": [
    "fig, ax = plt.subplots(figsize=(8, 4), dpi=100)\n",
    "\n",
    "ax = xs.data[(mat, 1)].plot(logx=True, logy=True, color=\"dodgerblue\", linewidth=2, ax=ax, label=\"MT=1\")\n",
    "ax = xspert_plus.data[(mat, 1)].plot(\n",
    "    logx=True,\n",
    "    logy=True,\n",
    "    color=\"tomato\",\n",
    "    style='--',\n",
    "    linewidth=0.8,\n",
    "    alpha=0.8,\n",
    "    ax=ax,\n",
    "    label=\"MT=1 in pert file\",\n",
    ")\n",
    "\n",
    "ax = xs.data[(mat, 51)].plot(logx=True, logy=True, color=\"orange\", linewidth=2, ax=ax, label=\"MT=51\")\n",
    "ax = xspert_plus.data[(mat, 51)].plot(\n",
    "    logx=True,\n",
    "    logy=True,\n",
    "    color=\"green\",\n",
    "    style='--',\n",
    "    linewidth=0.8,\n",
    "    alpha=0.8,\n",
    "    ax=ax,\n",
    "    label= \"MT=51 in pert file\",\n",
    ")\n",
    "\n",
    "ax.legend(prop={\"size\": \"large\"})\n",
    "\n",
    "ax.set_ylabel(\"cross section / b\", fontsize=\"large\")\n",
    "ax.set_xlabel(\"energy / eV\", fontsize=\"large\")\n",
    "\n",
    "ax.set_xlim([1e4, 2e7])\n",
    "\n",
    "fig.tight_layout();"
   ]
  },
  {
   "cell_type": "markdown",
   "metadata": {},
   "source": [
    "## Create a ACE file out of perturbed nuclear data"
   ]
  },
  {
   "cell_type": "markdown",
   "metadata": {},
   "source": [
    "Peturbed ENDF-6/PENDF files can be useful for visualozation or direct data manipulation, but they are not very handy when we need to run transport calculations, since most of the transport codes read data in derived formats.\n",
    "\n",
    "Here we convert a perturbed PENDF file into a perturbed ACE file that can be used by MCNP or Serpent. The general issue associated to this is that we need to combine the original ENDF-6 file with the perturbed PENDF file (where the perturbed cross section is) in order to produce the perturbed ACE file. This can be cumbersome and as the NJOY processing sequence must be adjusted!\n",
    "\n",
    "Luckily, SANDY's `.get_ace` takes specific keywords to allow a ENDF-6 file and a PENDF file to be combined. Just pass the `sandy.Endf6` object associated to the PENDF file to keyword argument `pendf`, as reported below."
   ]
  },
  {
   "cell_type": "code",
   "execution_count": 14,
   "metadata": {
    "execution": {
     "iopub.execute_input": "2023-09-28T07:31:21.471588Z",
     "iopub.status.busy": "2023-09-28T07:31:21.471193Z",
     "iopub.status.idle": "2023-09-28T07:31:40.013464Z",
     "shell.execute_reply": "2023-09-28T07:31:40.012979Z"
    }
   },
   "outputs": [
    {
     "name": "stdout",
     "output_type": "stream",
     "text": [
      "moder\n",
      "20 -21 /\n",
      "moder\n",
      "99 -22 /\n",
      "broadr\n",
      "-21 -22 -23 /\n",
      "9237 1 0 0 0. /\n",
      "0.001 /\n",
      "900.0 /\n",
      "0 /\n",
      "moder\n",
      "-23 30 /\n",
      "acer\n",
      "-21 -23 0 50 70 /\n",
      "1 0 1 .09 0 /\n",
      "'sandy runs acer'/\n",
      "9237 900.0 /\n",
      "1 1 /\n",
      "/\n",
      "stop\n",
      "\n",
      " njoy 2016.71  14Jul23                                       09/28/23 07:31:27\n",
      " *****************************************************************************\n",
      "\n",
      " moder...                                                                 0.0s\n",
      "\n",
      " moder...                                                                 0.9s\n",
      "\n",
      " broadr...                                                                1.3s\n",
      "\n",
      " moder...                                                                 6.7s\n",
      "\n",
      " acer...                                                                  9.7s\n",
      "\n",
      " ---message from ptleg2---negative probs found\n",
      "                            60 for mt=  2 e= 2.000E+07\n",
      "\n",
      " ---message from ptleg2---negative probs found\n",
      "                           270 for mt=  2 e= 2.200E+07\n",
      "\n",
      " ---message from ptleg2---negative probs found\n",
      "                           428 for mt=  2 e= 2.400E+07\n",
      "\n",
      " ---message from ptleg2---negative probs found\n",
      "                           680 for mt=  2 e= 2.600E+07\n",
      "\n",
      " ---message from ptleg2---negative probs found\n",
      "                           798 for mt=  2 e= 2.800E+07\n",
      "\n",
      " ---message from ptleg2---negative probs found\n",
      "                           893 for mt=  2 e= 3.000E+07\n",
      "\n",
      " ---message from ptleg2---negative probs found\n",
      "                             1 for mt= 51 e= 4.000E+06\n",
      "\n",
      " ---message from ptleg2---negative probs found\n",
      "                            13 for mt= 51 e= 2.600E+07\n",
      "\n",
      " ---message from ptleg2---negative probs found\n",
      "                           161 for mt= 51 e= 2.800E+07\n",
      "\n",
      " ---message from ptleg2---negative probs found\n",
      "                           197 for mt= 51 e= 3.000E+07\n",
      "\n",
      " ---message from ptleg2---negative probs found\n",
      "                             3 for mt= 52 e= 3.000E+07\n",
      "\n",
      " ---message from ptleg2---negative probs found\n",
      "                             1 for mt= 72 e= 2.600E+07\n",
      "\n",
      " ---message from ptleg2---negative probs found\n",
      "                             2 for mt= 72 e= 2.800E+07\n",
      "\n",
      " ---message from ptleg2---negative probs found\n",
      "                             2 for mt= 72 e= 3.000E+07\n",
      "\n",
      " ---message from ptleg2---negative probs found\n",
      "                            30 for mt= 73 e= 3.000E+07\n",
      "\n",
      " ---message from ptleg2---negative probs found\n",
      "                             1 for mt= 74 e= 2.600E+07\n",
      "\n",
      " ---message from ptleg2---negative probs found\n",
      "                             2 for mt= 74 e= 2.800E+07\n",
      "\n",
      " ---message from ptleg2---negative probs found\n",
      "                             2 for mt= 74 e= 3.000E+07\n",
      "\n",
      " ---message from ptleg2---negative probs found\n",
      "                             1 for mt= 75 e= 2.600E+07\n",
      "\n",
      " ---message from ptleg2---negative probs found\n",
      "                             2 for mt= 75 e= 2.800E+07\n",
      "\n",
      " ---message from ptleg2---negative probs found\n",
      "                             2 for mt= 75 e= 3.000E+07\n",
      "\n",
      " ---message from ptleg2---negative probs found\n",
      "                             1 for mt= 76 e= 2.600E+07\n",
      "\n",
      " ---message from ptleg2---negative probs found\n",
      "                             2 for mt= 76 e= 2.800E+07\n",
      "\n",
      " ---message from ptleg2---negative probs found\n",
      "                             2 for mt= 76 e= 3.000E+07\n",
      "\n",
      " ---message from ptleg2---negative probs found\n",
      "                             1 for mt= 77 e= 2.600E+07\n",
      "\n",
      " ---message from ptleg2---negative probs found\n",
      "                             2 for mt= 77 e= 2.800E+07\n",
      "\n",
      " ---message from ptleg2---negative probs found\n",
      "                             2 for mt= 77 e= 3.000E+07\n",
      "\n",
      " ---message from ptleg2---negative probs found\n",
      "                             1 for mt= 78 e= 2.600E+07\n",
      "\n",
      " ---message from ptleg2---negative probs found\n",
      "                             1 for mt= 78 e= 2.800E+07\n",
      "\n",
      " ---message from ptleg2---negative probs found\n",
      "                             2 for mt= 78 e= 3.000E+07\n",
      "\n",
      " ---message from ptleg2---negative probs found\n",
      "                             1 for mt= 79 e= 2.600E+07\n",
      "\n",
      " ---message from ptleg2---negative probs found\n",
      "                             1 for mt= 79 e= 2.800E+07\n",
      "\n",
      " ---message from ptleg2---negative probs found\n",
      "                             2 for mt= 79 e= 3.000E+07\n",
      "\n",
      " ---message from ptleg2---negative probs found\n",
      "                             1 for mt= 80 e= 2.600E+07\n",
      "\n",
      " ---message from ptleg2---negative probs found\n",
      "                             1 for mt= 80 e= 2.800E+07\n",
      "\n",
      " ---message from ptleg2---negative probs found\n",
      "                             2 for mt= 80 e= 3.000E+07\n",
      "\n",
      " ---message from ptleg2---negative probs found\n",
      "                            28 for mt= 82 e= 3.000E+07\n",
      "\n",
      " ---message from ptleg2---negative probs found\n",
      "                            26 for mt= 83 e= 3.000E+07\n",
      "\n",
      " ---message from ptleg2---negative probs found\n",
      "                            24 for mt= 84 e= 3.000E+07\n",
      "\n",
      " ---message from ptleg2---negative probs found\n",
      "                            22 for mt= 85 e= 3.000E+07\n",
      "\n",
      " ---message from ptleg2---negative probs found\n",
      "                            22 for mt= 86 e= 3.000E+07\n",
      "\n",
      " ---message from ptleg2---negative probs found\n",
      "                            20 for mt= 87 e= 3.000E+07\n",
      "\n",
      " ---message from ptleg2---negative probs found\n",
      "                            19 for mt= 88 e= 3.000E+07\n",
      "\n",
      " ---message from ptleg2---negative probs found\n",
      "                            18 for mt= 89 e= 3.000E+07\n",
      "\n",
      " ---message from ptleg2---negative probs found\n",
      "                            17 for mt= 90 e= 3.000E+07\n",
      "                                                                         12.6s\n",
      " *****************************************************************************\n"
     ]
    }
   ],
   "source": [
    "pendf_pert = xspert_plus.to_endf6(pendf)\n",
    "\n",
    "tag = \"_pert\"\n",
    "outs = endf6.get_ace(temperature=900, heatr=False, thermr=False, gaspr=False, purr=False, verbose=True, pendf=pendf_pert)\n",
    "with open(\"92238_pert.09c\", mode=\"w\") as f:\n",
    "    f.write(outs[\"ace\"])"
   ]
  },
  {
   "cell_type": "markdown",
   "metadata": {},
   "source": [
    "> The  temperature argument is required! If you perturb cross sections it is good practice to do it on PENDF files without any doppler-broadening. The doppler-broadening is already included in the ACE production scheme."
   ]
  },
  {
   "cell_type": "markdown",
   "metadata": {},
   "source": [
    "Running `.get_ace` with a `pendf` keyword makes NJOY skip RECONR, as the reconstructed (and perturbed) cross sections are already present in the PENDF file. To simplify the scheme we removed HEATR, THERMR, GASPR and PURR from the processing sequence, but we advise against this in real studies. "
   ]
  },
  {
   "cell_type": "markdown",
   "metadata": {},
   "source": [
    "The output of `.get_ace` is a dictionary with the filenames associated to:\n",
    "* the ACE file\n",
    "* the XSDIR file (one line only, corrsponding to the produced ACE)"
   ]
  },
  {
   "cell_type": "markdown",
   "metadata": {},
   "source": [
    "Notice that we asked `.get_ace` to add a tag `'_pert'` to distinguish the ACE file. The rest of the name is determined by a SANDY internal routine."
   ]
  }
 ],
 "metadata": {
  "kernelspec": {
   "display_name": "Python [conda env:sandy-v1.0] *",
   "language": "python",
   "name": "conda-env-sandy-v1.0-py"
  },
  "language_info": {
   "codemirror_mode": {
    "name": "ipython",
    "version": 3
   },
   "file_extension": ".py",
   "mimetype": "text/x-python",
   "name": "python",
   "nbconvert_exporter": "python",
   "pygments_lexer": "ipython3",
   "version": "3.11.5"
  }
 },
 "nbformat": 4,
 "nbformat_minor": 4
}
