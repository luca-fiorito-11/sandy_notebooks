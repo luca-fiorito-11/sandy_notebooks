{
 "cells": [
  {
   "cell_type": "markdown",
   "metadata": {},
   "source": [
    "# Apply a perturbation to a cross section over its entire energy domain"
   ]
  },
  {
   "cell_type": "code",
   "execution_count": 1,
   "metadata": {
    "execution": {
     "iopub.execute_input": "2022-08-12T14:46:18.029789Z",
     "iopub.status.busy": "2022-08-12T14:46:18.029151Z",
     "iopub.status.idle": "2022-08-12T14:46:18.340916Z",
     "shell.execute_reply": "2022-08-12T14:46:18.340049Z"
    }
   },
   "outputs": [],
   "source": [
    "import os\n",
    "\n",
    "import numpy as np\n",
    "import pandas as pd"
   ]
  },
  {
   "cell_type": "code",
   "execution_count": 2,
   "metadata": {
    "execution": {
     "iopub.execute_input": "2022-08-12T14:46:18.347863Z",
     "iopub.status.busy": "2022-08-12T14:46:18.345919Z",
     "iopub.status.idle": "2022-08-12T14:46:19.681182Z",
     "shell.execute_reply": "2022-08-12T14:46:19.680154Z"
    }
   },
   "outputs": [],
   "source": [
    "%%capture --no-stdout\n",
    "import sandy"
   ]
  },
  {
   "cell_type": "code",
   "execution_count": 3,
   "metadata": {
    "execution": {
     "iopub.execute_input": "2022-08-12T14:46:19.685988Z",
     "iopub.status.busy": "2022-08-12T14:46:19.685365Z",
     "iopub.status.idle": "2022-08-12T14:46:19.689624Z",
     "shell.execute_reply": "2022-08-12T14:46:19.688720Z"
    }
   },
   "outputs": [],
   "source": [
    "import matplotlib.pyplot as plt\n",
    "import seaborn as sns\n",
    "\n",
    "sns.set_style(\"whitegrid\")"
   ]
  },
  {
   "cell_type": "markdown",
   "metadata": {},
   "source": [
    "In this notebook we learn to:\n",
    "* generate a uniform cross section perturbation over the entire cross section domain;\n",
    "* apply the perturbation to the cross section;\n",
    "* plot the results;\n",
    "* produce an ACE file with the perturbed cross section."
   ]
  },
  {
   "cell_type": "markdown",
   "metadata": {},
   "source": [
    "## Retrieve nuclear data file"
   ]
  },
  {
   "cell_type": "markdown",
   "metadata": {},
   "source": [
    "Firs, we get the evaluated nuclear data file - in this case U-238 from ENDF/B-VII - using `get_endf6_file`.\n",
    "We also proceed in reconstructing the cross sections from the resonance parameters using NJOY (RECONR) and method `.get_pendf`."
   ]
  },
  {
   "cell_type": "code",
   "execution_count": 4,
   "metadata": {
    "execution": {
     "iopub.execute_input": "2022-08-12T14:46:19.695429Z",
     "iopub.status.busy": "2022-08-12T14:46:19.694842Z",
     "iopub.status.idle": "2022-08-12T14:46:59.698699Z",
     "shell.execute_reply": "2022-08-12T14:46:59.697382Z"
    }
   },
   "outputs": [
    {
     "name": "stdout",
     "output_type": "stream",
     "text": [
      "moder\n",
      "20 -21 /\n",
      "reconr\n",
      "-21 -22 /\n",
      "'sandy runs njoy'/\n",
      "9237 0 0 /\n",
      "0.1 0. /\n",
      "0/\n",
      "moder\n",
      "-22 30 /\n",
      "stop\n"
     ]
    }
   ],
   "source": [
    "endf6 = sandy.get_endf6_file(\"endfb_71\", \"xs\", 922380)\n",
    "pendf = endf6.get_pendf(err=0.1, verbose=True)"
   ]
  },
  {
   "cell_type": "markdown",
   "metadata": {},
   "source": [
    "Basically we produced a so-called PENDF file, from which we can extract the cross sections."
   ]
  },
  {
   "cell_type": "code",
   "execution_count": 5,
   "metadata": {
    "execution": {
     "iopub.execute_input": "2022-08-12T14:46:59.707480Z",
     "iopub.status.busy": "2022-08-12T14:46:59.706800Z",
     "iopub.status.idle": "2022-08-12T14:47:05.663308Z",
     "shell.execute_reply": "2022-08-12T14:47:05.663880Z"
    }
   },
   "outputs": [],
   "source": [
    "xs = sandy.Xs.from_endf6(pendf)"
   ]
  },
  {
   "cell_type": "markdown",
   "metadata": {},
   "source": [
    "## Create a perturbation"
   ]
  },
  {
   "cell_type": "markdown",
   "metadata": {},
   "source": [
    "To create a perturbation over the whole cross section energy domain you have first to define the domain boundaries."
   ]
  },
  {
   "cell_type": "code",
   "execution_count": 6,
   "metadata": {
    "execution": {
     "iopub.execute_input": "2022-08-12T14:47:05.669586Z",
     "iopub.status.busy": "2022-08-12T14:47:05.668173Z",
     "iopub.status.idle": "2022-08-12T14:47:05.670259Z",
     "shell.execute_reply": "2022-08-12T14:47:05.670921Z"
    }
   },
   "outputs": [],
   "source": [
    "lower_bound = 1e-5  # eV\n",
    "upper_bound = 2e7   # eV"
   ]
  },
  {
   "cell_type": "markdown",
   "metadata": {},
   "source": [
    "Then the domain is,"
   ]
  },
  {
   "cell_type": "code",
   "execution_count": 7,
   "metadata": {
    "execution": {
     "iopub.execute_input": "2022-08-12T14:47:05.676076Z",
     "iopub.status.busy": "2022-08-12T14:47:05.674641Z",
     "iopub.status.idle": "2022-08-12T14:47:05.676792Z",
     "shell.execute_reply": "2022-08-12T14:47:05.677241Z"
    }
   },
   "outputs": [],
   "source": [
    "domain = [lower_bound, upper_bound]"
   ]
  },
  {
   "cell_type": "markdown",
   "metadata": {},
   "source": [
    "We define a large perturbation coefficient to make sure the perturbation is visible whne we plot it. Let's say 30%."
   ]
  },
  {
   "cell_type": "code",
   "execution_count": 8,
   "metadata": {
    "execution": {
     "iopub.execute_input": "2022-08-12T14:47:05.682107Z",
     "iopub.status.busy": "2022-08-12T14:47:05.680747Z",
     "iopub.status.idle": "2022-08-12T14:47:05.682773Z",
     "shell.execute_reply": "2022-08-12T14:47:05.683211Z"
    }
   },
   "outputs": [],
   "source": [
    "coefficient = 30 / 100"
   ]
  },
  {
   "cell_type": "markdown",
   "metadata": {},
   "source": [
    "Now, a perturbation is defined in the following way:"
   ]
  },
  {
   "cell_type": "code",
   "execution_count": 9,
   "metadata": {
    "execution": {
     "iopub.execute_input": "2022-08-12T14:47:05.688565Z",
     "iopub.status.busy": "2022-08-12T14:47:05.688000Z",
     "iopub.status.idle": "2022-08-12T14:47:05.692005Z",
     "shell.execute_reply": "2022-08-12T14:47:05.691529Z"
    }
   },
   "outputs": [],
   "source": [
    "pert_plus = sandy.Pert([1, 1 + coefficient], index=domain)"
   ]
  },
  {
   "cell_type": "markdown",
   "metadata": {},
   "source": [
    "The first `1` in the intitialized values indicate that everything below the domain lower bound must be multiplied by one, i.e. it doesn't change!"
   ]
  },
  {
   "cell_type": "markdown",
   "metadata": {},
   "source": [
    "Since we defined a positive perturbation, we can also make a negative one for completeness (let's say 50%)."
   ]
  },
  {
   "cell_type": "code",
   "execution_count": 10,
   "metadata": {
    "execution": {
     "iopub.execute_input": "2022-08-12T14:47:05.696808Z",
     "iopub.status.busy": "2022-08-12T14:47:05.696243Z",
     "iopub.status.idle": "2022-08-12T14:47:05.699672Z",
     "shell.execute_reply": "2022-08-12T14:47:05.700095Z"
    }
   },
   "outputs": [],
   "source": [
    "coefficient_minus = 50 / 100\n",
    "pert_minus = sandy.Pert([1, 1 - coefficient_minus], index=domain)"
   ]
  },
  {
   "cell_type": "markdown",
   "metadata": {},
   "source": [
    "## Apply perturbations to cross sections"
   ]
  },
  {
   "cell_type": "markdown",
   "metadata": {},
   "source": [
    "Below we apply both perturbations to the inelatsic cross section (MT=4) of U-238 (MAT=9237)."
   ]
  },
  {
   "cell_type": "code",
   "execution_count": 11,
   "metadata": {
    "execution": {
     "iopub.execute_input": "2022-08-12T14:47:05.704644Z",
     "iopub.status.busy": "2022-08-12T14:47:05.704084Z",
     "iopub.status.idle": "2022-08-12T14:47:05.896694Z",
     "shell.execute_reply": "2022-08-12T14:47:05.896140Z"
    }
   },
   "outputs": [],
   "source": [
    "mat = 9237\n",
    "mt = 4\n",
    "xspert_plus = xs.custom_perturbation(mat, mt, pert_plus)\n",
    "xspert_minus = xs.custom_perturbation(mat, mt, pert_minus)"
   ]
  },
  {
   "cell_type": "markdown",
   "metadata": {},
   "source": [
    "## Plot the results"
   ]
  },
  {
   "cell_type": "markdown",
   "metadata": {},
   "source": [
    "Results show clearly that the poitwise cross sections have been modified by the perturbation."
   ]
  },
  {
   "cell_type": "code",
   "execution_count": 12,
   "metadata": {
    "execution": {
     "iopub.execute_input": "2022-08-12T14:47:05.918035Z",
     "iopub.status.busy": "2022-08-12T14:47:05.905605Z",
     "iopub.status.idle": "2022-08-12T14:47:07.226290Z",
     "shell.execute_reply": "2022-08-12T14:47:07.225551Z"
    }
   },
   "outputs": [
    {
     "data": {
      "image/png": "[encoded data removed]",
      "text/plain": [
       "<Figure size 800x400 with 1 Axes>"
      ]
     },
     "metadata": {},
     "output_type": "display_data"
    }
   ],
   "source": [
    "fig, ax = plt.subplots(figsize=(8, 4), dpi=100)\n",
    "\n",
    "ax = xs.data[(mat, mt)].plot(logx=True, logy=True, color=\"dodgerblue\", linewidth=2, ax=ax, label=\"reference\")\n",
    "ax = xspert_plus.data[(mat, mt)].plot(\n",
    "    logx=True,\n",
    "    logy=True,\n",
    "    color=\"tomato\",\n",
    "    style='--',\n",
    "    linewidth=2,\n",
    "    ax=ax,\n",
    "    label=f\"+{coefficient * 100}%\",\n",
    ")\n",
    "ax = xspert_minus.data[(mat, mt)].plot(\n",
    "    logx=True,\n",
    "    logy=True,\n",
    "    color=\"orange\",\n",
    "    style='--',\n",
    "    linewidth=2,\n",
    "    ax=ax,\n",
    "    label=f\"-{coefficient_minus * 100}%\",\n",
    ")\n",
    "\n",
    "ax.legend(prop={\"size\": \"large\"})\n",
    "\n",
    "ax.set_ylabel(\"cross section / b\", fontsize=\"large\")\n",
    "ax.set_xlabel(\"energy / eV\", fontsize=\"large\")\n",
    "\n",
    "ax.set_xlim([1e4, 2e7])\n",
    "\n",
    "fig.tight_layout();"
   ]
  },
  {
   "cell_type": "markdown",
   "metadata": {},
   "source": [
    "Notice than neither derived cross section, e.g. MT=1, nor cross section components, e.g. MT=51, where adjusted by method `.custom_perturbation`. "
   ]
  },
  {
   "cell_type": "code",
   "execution_count": 13,
   "metadata": {
    "execution": {
     "iopub.execute_input": "2022-08-12T14:47:07.251933Z",
     "iopub.status.busy": "2022-08-12T14:47:07.245978Z",
     "iopub.status.idle": "2022-08-12T14:47:08.254103Z",
     "shell.execute_reply": "2022-08-12T14:47:08.254569Z"
    }
   },
   "outputs": [
    {
     "data": {
      "image/png": "[encoded data removed]",
      "text/plain": [
       "<Figure size 800x400 with 1 Axes>"
      ]
     },
     "metadata": {},
     "output_type": "display_data"
    }
   ],
   "source": [
    "fig, ax = plt.subplots(figsize=(8, 4), dpi=100)\n",
    "\n",
    "ax = xs.data[(mat, 1)].plot(logx=True, logy=True, color=\"dodgerblue\", linewidth=2, ax=ax, label=\"MT=1\")\n",
    "ax = xspert_plus.data[(mat, 1)].plot(\n",
    "    logx=True,\n",
    "    logy=True,\n",
    "    color=\"tomato\",\n",
    "    style='--',\n",
    "    linewidth=0.8,\n",
    "    alpha=0.8,\n",
    "    ax=ax,\n",
    "    label=\"MT=1 in pert file\",\n",
    ")\n",
    "\n",
    "ax = xs.data[(mat, 51)].plot(logx=True, logy=True, color=\"orange\", linewidth=2, ax=ax, label=\"MT=51\")\n",
    "ax = xspert_plus.data[(mat, 51)].plot(\n",
    "    logx=True,\n",
    "    logy=True,\n",
    "    color=\"green\",\n",
    "    style='--',\n",
    "    linewidth=0.8,\n",
    "    alpha=0.8,\n",
    "    ax=ax,\n",
    "    label= \"MT=51 in pert file\",\n",
    ")\n",
    "\n",
    "ax.legend(prop={\"size\": \"large\"})\n",
    "\n",
    "ax.set_ylabel(\"cross section / b\", fontsize=\"large\")\n",
    "ax.set_xlabel(\"energy / eV\", fontsize=\"large\")\n",
    "\n",
    "ax.set_xlim([1e4, 2e7])\n",
    "\n",
    "fig.tight_layout();"
   ]
  },
  {
   "cell_type": "markdown",
   "metadata": {},
   "source": [
    "## Create a ACE file out of perturbed nuclear data"
   ]
  },
  {
   "cell_type": "markdown",
   "metadata": {},
   "source": [
    "Peturbed ENDF-6/PENDF files can be useful for visualozation or direct data manipulation, but they are not very handy when we need to run transport calculations, since most of the transport codes read data in derived formats.\n",
    "\n",
    "Here we convert a perturbed PENDF file into a perturbed ACE file that can be used by MCNP or Serpent. The general issue associated to this is that we need to combine the original ENDF-6 file with the perturbed PENDF file (where the perturbed cross section is) in order to produce the perturbed ACE file. This can be cumbersome and as the NJOY processing sequence must be adjusted!\n",
    "\n",
    "Luckily, SANDY's `.get_ace` takes specific keywords to allow a ENDF-6 file and a PENDF file to be combined. Just pass the `sandy.Endf6` object associated to the PENDF file to keyword argument `pendf`, as reported below."
   ]
  },
  {
   "cell_type": "code",
   "execution_count": 14,
   "metadata": {
    "execution": {
     "iopub.execute_input": "2022-08-12T14:47:08.274624Z",
     "iopub.status.busy": "2022-08-12T14:47:08.269371Z",
     "iopub.status.idle": "2022-08-12T14:47:25.898343Z",
     "shell.execute_reply": "2022-08-12T14:47:25.899206Z"
    }
   },
   "outputs": [
    {
     "name": "stdout",
     "output_type": "stream",
     "text": [
      "moder\n",
      "20 -21 /\n",
      "moder\n",
      "99 -22 /\n",
      "broadr\n",
      "-21 -22 -23 /\n",
      "9237 1 0 0 0. /\n",
      "0.001 /\n",
      "900.0 /\n",
      "0 /\n",
      "acer\n",
      "-21 -23 0 50 70 /\n",
      "1 0 1 .09 0 /\n",
      "'sandy runs acer'/\n",
      "9237 900.0 /\n",
      "1 1 /\n",
      "/\n",
      "stop\n"
     ]
    },
    {
     "data": {
      "text/plain": [
       "{'ace': '92238_pert.09c', 'xsdir': '92238_pert.09c.xsd'}"
      ]
     },
     "execution_count": 1,
     "metadata": {},
     "output_type": "execute_result"
    }
   ],
   "source": [
    "pendf_pert = xspert_plus.to_endf6(pendf)\n",
    "\n",
    "tag = \"_pert\"\n",
    "endf6.get_ace(temperature=900, heatr=False, thermr=False, gaspr=False, purr=False, verbose=True, tag=tag, pendf=pendf_pert)"
   ]
  },
  {
   "cell_type": "markdown",
   "metadata": {},
   "source": [
    "> The  temperature argument is required! If you perturb cross sections it is good practice to do it on PENDF files without any doppler-broadening. The doppler-broadening is already included in the ACE production scheme."
   ]
  },
  {
   "cell_type": "markdown",
   "metadata": {},
   "source": [
    "Running `.get_ace` with a `pendf` keyword makes NJOY skip RECONR, as the reconstructed (and perturbed) cross sections are already present in the PENDF file. To simplify the scheme we removed HEATR, THERMR, GASPR and PURR from the processing sequence, but we advise against this in real studies. "
   ]
  },
  {
   "cell_type": "markdown",
   "metadata": {},
   "source": [
    "The output of `.get_ace` is a dictionary with the filenames associated to:\n",
    "* the ACE file\n",
    "* the XSDIR file (one line only, corrsponding to the produced ACE)"
   ]
  },
  {
   "cell_type": "markdown",
   "metadata": {},
   "source": [
    "Notice that we asked `.get_ace` to add a tag `'_pert'` to distinguish the ACE file. The rest of the name is determined by a SANDY internal routine."
   ]
  }
 ],
 "metadata": {
  "kernelspec": {
   "display_name": "Python3 (sandy-devel)",
   "language": "python",
   "name": "sandy-devel"
  },
  "language_info": {
   "codemirror_mode": {
    "name": "ipython",
    "version": 3
   },
   "file_extension": ".py",
   "mimetype": "text/x-python",
   "name": "python",
   "nbconvert_exporter": "python",
   "pygments_lexer": "ipython3",
   "version": "3.6.15"
  }
 },
 "nbformat": 4,
 "nbformat_minor": 4
}
