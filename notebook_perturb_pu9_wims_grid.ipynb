{
 "cells": [
  {
   "cell_type": "markdown",
   "metadata": {},
   "source": [
    "# How to apply a custom perturbation to a given cross section"
   ]
  },
  {
   "cell_type": "code",
   "execution_count": 1,
   "metadata": {
    "execution": {
     "iopub.execute_input": "2022-04-20T14:41:03.492304Z",
     "iopub.status.busy": "2022-04-20T14:41:03.491034Z",
     "iopub.status.idle": "2022-04-20T14:41:03.770935Z",
     "shell.execute_reply": "2022-04-20T14:41:03.770428Z"
    }
   },
   "outputs": [],
   "source": [
    "import os\n",
    "\n",
    "import numpy as np\n",
    "import pandas as pd"
   ]
  },
  {
   "cell_type": "code",
   "execution_count": 2,
   "metadata": {
    "execution": {
     "iopub.execute_input": "2022-04-20T14:41:03.776215Z",
     "iopub.status.busy": "2022-04-20T14:41:03.774113Z",
     "iopub.status.idle": "2022-04-20T14:41:05.792181Z",
     "shell.execute_reply": "2022-04-20T14:41:05.792592Z"
    }
   },
   "outputs": [],
   "source": [
    "import sandy"
   ]
  },
  {
   "cell_type": "code",
   "execution_count": 3,
   "metadata": {
    "execution": {
     "iopub.execute_input": "2022-04-20T14:41:05.797211Z",
     "iopub.status.busy": "2022-04-20T14:41:05.796728Z",
     "iopub.status.idle": "2022-04-20T14:41:05.799839Z",
     "shell.execute_reply": "2022-04-20T14:41:05.799427Z"
    }
   },
   "outputs": [],
   "source": [
    "import matplotlib.pyplot as plt\n",
    "import seaborn as sns\n",
    "\n",
    "sns.set_style(\"whitegrid\")"
   ]
  },
  {
   "cell_type": "markdown",
   "metadata": {},
   "source": [
    "In this notebook we apply a constant relative perturbation, say 5%, to an energy-dependent cross section.\n",
    "The perturbation is applied over an energy bin of choice, e.g. between 10 eV and 100 eV."
   ]
  },
  {
   "cell_type": "markdown",
   "metadata": {},
   "source": [
    "As an example we use the JEFF-3.3 evaluation for Pu-239  downloaded from the [OECD/NEA website](https://www.oecd-nea.org/dbdata/jeff/jeff33/index.html) and processed with NJOY-2016 into PENDF format using the following input file."
   ]
  },
  {
   "cell_type": "markdown",
   "metadata": {},
   "source": [
    "```\n",
    "moder\n",
    "20 -21 /\n",
    "reconr\n",
    "-21 -22 /\n",
    "'sandy runs njoy'/\n",
    "9437 0 0 /\n",
    "0.001 0. /\n",
    "0/\n",
    "broadr\n",
    "-21 -22 -23 /\n",
    "9437 1 0 0 0. /\n",
    "0.001 /\n",
    "900.0 /\n",
    "0 /\n",
    "thermr\n",
    "0 -23 -24 /\n",
    "0 9437 20 1 1 0 0 1 221 0 /\n",
    "900.0 /\n",
    "0.001 0.1 /\n",
    "moder\n",
    "-24 30 /\n",
    "```"
   ]
  },
  {
   "cell_type": "markdown",
   "metadata": {},
   "source": [
    "The PENDF file in output `\"tape30\"` contains pointwise cross section for Pu-239 processed at 900 K."
   ]
  },
  {
   "cell_type": "markdown",
   "metadata": {},
   "source": [
    "### Read the file with sandy"
   ]
  },
  {
   "cell_type": "markdown",
   "metadata": {},
   "source": [
    "A copy of the processed file is stored locally on this repository. "
   ]
  },
  {
   "cell_type": "code",
   "execution_count": 4,
   "metadata": {
    "execution": {
     "iopub.execute_input": "2022-04-20T14:41:05.804537Z",
     "iopub.status.busy": "2022-04-20T14:41:05.803514Z",
     "iopub.status.idle": "2022-04-20T14:41:05.805336Z",
     "shell.execute_reply": "2022-04-20T14:41:05.805729Z"
    }
   },
   "outputs": [],
   "source": [
    "folder = \"notebook_perturb_pu9_wims_grid\"\n",
    "filename = \"tape30\"\n",
    "file = os.path.join(os.getcwd(), folder, filename)"
   ]
  },
  {
   "cell_type": "markdown",
   "metadata": {},
   "source": [
    "Let's read the file with sandy and extract the cross sections.\n",
    "In the process, `sandy` spits out a lot of warning saying the duplicate energy points are present... "
   ]
  },
  {
   "cell_type": "code",
   "execution_count": 5,
   "metadata": {
    "execution": {
     "iopub.execute_input": "2022-04-20T14:41:05.809188Z",
     "iopub.status.busy": "2022-04-20T14:41:05.808704Z",
     "iopub.status.idle": "2022-04-20T14:41:13.116045Z",
     "shell.execute_reply": "2022-04-20T14:41:13.115585Z"
    }
   },
   "outputs": [
    {
     "name": "stderr",
     "output_type": "stream",
     "text": [
      "WARNING:  found duplicate energy for MAT9437/MF3/MT1 at 3.99392e+03 MeV, keep only first value\n",
      "WARNING:  found duplicate energy for MAT9437/MF3/MT1 at 3.99400e+03 MeV, keep only first value\n",
      "WARNING:  found duplicate energy for MAT9437/MF3/MT1 at 3.99439e+03 MeV, keep only first value\n",
      "WARNING:  found duplicate energy for MAT9437/MF3/MT1 at 3.99446e+03 MeV, keep only first value\n",
      "WARNING:  found duplicate energy for MAT9437/MF3/MT1 at 3.99453e+03 MeV, keep only first value\n",
      "WARNING:  found duplicate energy for MAT9437/MF3/MT1 at 3.99518e+03 MeV, keep only first value\n",
      "WARNING:  found duplicate energy for MAT9437/MF3/MT1 at 3.99662e+03 MeV, keep only first value\n",
      "WARNING:  found duplicate energy for MAT9437/MF3/MT1 at 3.99691e+03 MeV, keep only first value\n",
      "WARNING:  found duplicate energy for MAT9437/MF3/MT1 at 3.99756e+03 MeV, keep only first value\n",
      "WARNING:  found duplicate energy for MAT9437/MF3/MT1 at 3.99858e+03 MeV, keep only first value\n",
      "WARNING:  found duplicate energy for MAT9437/MF3/MT1 at 3.99939e+03 MeV, keep only first value\n",
      "WARNING:  found duplicate energy for MAT9437/MF3/MT1 at 4.00000e+03 MeV, keep only first value\n",
      "WARNING:  found duplicate energy for MAT9437/MF3/MT2 at 3.99392e+03 MeV, keep only first value\n",
      "WARNING:  found duplicate energy for MAT9437/MF3/MT2 at 3.99400e+03 MeV, keep only first value\n",
      "WARNING:  found duplicate energy for MAT9437/MF3/MT2 at 3.99439e+03 MeV, keep only first value\n",
      "WARNING:  found duplicate energy for MAT9437/MF3/MT2 at 3.99446e+03 MeV, keep only first value\n",
      "WARNING:  found duplicate energy for MAT9437/MF3/MT2 at 3.99453e+03 MeV, keep only first value\n",
      "WARNING:  found duplicate energy for MAT9437/MF3/MT2 at 3.99518e+03 MeV, keep only first value\n",
      "WARNING:  found duplicate energy for MAT9437/MF3/MT2 at 3.99662e+03 MeV, keep only first value\n",
      "WARNING:  found duplicate energy for MAT9437/MF3/MT2 at 3.99691e+03 MeV, keep only first value\n",
      "WARNING:  found duplicate energy for MAT9437/MF3/MT2 at 3.99756e+03 MeV, keep only first value\n",
      "WARNING:  found duplicate energy for MAT9437/MF3/MT2 at 3.99858e+03 MeV, keep only first value\n",
      "WARNING:  found duplicate energy for MAT9437/MF3/MT2 at 3.99939e+03 MeV, keep only first value\n",
      "WARNING:  found duplicate energy for MAT9437/MF3/MT2 at 4.00000e+03 MeV, keep only first value\n",
      "WARNING:  found duplicate energy for MAT9437/MF3/MT5 at 3.99392e+03 MeV, keep only first value\n",
      "WARNING:  found duplicate energy for MAT9437/MF3/MT5 at 3.99400e+03 MeV, keep only first value\n",
      "WARNING:  found duplicate energy for MAT9437/MF3/MT5 at 3.99439e+03 MeV, keep only first value\n",
      "WARNING:  found duplicate energy for MAT9437/MF3/MT5 at 3.99446e+03 MeV, keep only first value\n",
      "WARNING:  found duplicate energy for MAT9437/MF3/MT5 at 3.99453e+03 MeV, keep only first value\n",
      "WARNING:  found duplicate energy for MAT9437/MF3/MT5 at 3.99518e+03 MeV, keep only first value\n",
      "WARNING:  found duplicate energy for MAT9437/MF3/MT5 at 3.99662e+03 MeV, keep only first value\n",
      "WARNING:  found duplicate energy for MAT9437/MF3/MT5 at 3.99691e+03 MeV, keep only first value\n",
      "WARNING:  found duplicate energy for MAT9437/MF3/MT5 at 3.99756e+03 MeV, keep only first value\n",
      "WARNING:  found duplicate energy for MAT9437/MF3/MT5 at 3.99858e+03 MeV, keep only first value\n",
      "WARNING:  found duplicate energy for MAT9437/MF3/MT5 at 3.99939e+03 MeV, keep only first value\n",
      "WARNING:  found duplicate energy for MAT9437/MF3/MT5 at 4.00000e+03 MeV, keep only first value\n",
      "WARNING:  found duplicate energy for MAT9437/MF3/MT18 at 3.99392e+03 MeV, keep only first value\n",
      "WARNING:  found duplicate energy for MAT9437/MF3/MT18 at 3.99400e+03 MeV, keep only first value\n",
      "WARNING:  found duplicate energy for MAT9437/MF3/MT18 at 3.99439e+03 MeV, keep only first value\n",
      "WARNING:  found duplicate energy for MAT9437/MF3/MT18 at 3.99446e+03 MeV, keep only first value\n",
      "WARNING:  found duplicate energy for MAT9437/MF3/MT18 at 3.99453e+03 MeV, keep only first value\n",
      "WARNING:  found duplicate energy for MAT9437/MF3/MT18 at 3.99518e+03 MeV, keep only first value\n",
      "WARNING:  found duplicate energy for MAT9437/MF3/MT18 at 3.99662e+03 MeV, keep only first value\n",
      "WARNING:  found duplicate energy for MAT9437/MF3/MT18 at 3.99691e+03 MeV, keep only first value\n",
      "WARNING:  found duplicate energy for MAT9437/MF3/MT18 at 3.99756e+03 MeV, keep only first value\n",
      "WARNING:  found duplicate energy for MAT9437/MF3/MT18 at 3.99858e+03 MeV, keep only first value\n",
      "WARNING:  found duplicate energy for MAT9437/MF3/MT18 at 3.99939e+03 MeV, keep only first value\n",
      "WARNING:  found duplicate energy for MAT9437/MF3/MT18 at 4.00000e+03 MeV, keep only first value\n",
      "WARNING:  found duplicate energy for MAT9437/MF3/MT22 at 3.99392e+03 MeV, keep only first value\n",
      "WARNING:  found duplicate energy for MAT9437/MF3/MT22 at 3.99400e+03 MeV, keep only first value\n",
      "WARNING:  found duplicate energy for MAT9437/MF3/MT22 at 3.99439e+03 MeV, keep only first value\n",
      "WARNING:  found duplicate energy for MAT9437/MF3/MT22 at 3.99446e+03 MeV, keep only first value\n",
      "WARNING:  found duplicate energy for MAT9437/MF3/MT22 at 3.99453e+03 MeV, keep only first value\n",
      "WARNING:  found duplicate energy for MAT9437/MF3/MT22 at 3.99518e+03 MeV, keep only first value\n",
      "WARNING:  found duplicate energy for MAT9437/MF3/MT22 at 3.99662e+03 MeV, keep only first value\n",
      "WARNING:  found duplicate energy for MAT9437/MF3/MT22 at 3.99691e+03 MeV, keep only first value\n",
      "WARNING:  found duplicate energy for MAT9437/MF3/MT22 at 3.99756e+03 MeV, keep only first value\n",
      "WARNING:  found duplicate energy for MAT9437/MF3/MT22 at 3.99858e+03 MeV, keep only first value\n",
      "WARNING:  found duplicate energy for MAT9437/MF3/MT22 at 3.99939e+03 MeV, keep only first value\n",
      "WARNING:  found duplicate energy for MAT9437/MF3/MT22 at 4.00000e+03 MeV, keep only first value\n",
      "WARNING:  found duplicate energy for MAT9437/MF3/MT102 at 3.99392e+03 MeV, keep only first value\n",
      "WARNING:  found duplicate energy for MAT9437/MF3/MT102 at 3.99400e+03 MeV, keep only first value\n",
      "WARNING:  found duplicate energy for MAT9437/MF3/MT102 at 3.99439e+03 MeV, keep only first value\n",
      "WARNING:  found duplicate energy for MAT9437/MF3/MT102 at 3.99446e+03 MeV, keep only first value\n",
      "WARNING:  found duplicate energy for MAT9437/MF3/MT102 at 3.99453e+03 MeV, keep only first value\n",
      "WARNING:  found duplicate energy for MAT9437/MF3/MT102 at 3.99518e+03 MeV, keep only first value\n",
      "WARNING:  found duplicate energy for MAT9437/MF3/MT102 at 3.99662e+03 MeV, keep only first value\n",
      "WARNING:  found duplicate energy for MAT9437/MF3/MT102 at 3.99691e+03 MeV, keep only first value\n",
      "WARNING:  found duplicate energy for MAT9437/MF3/MT102 at 3.99756e+03 MeV, keep only first value\n",
      "WARNING:  found duplicate energy for MAT9437/MF3/MT102 at 3.99858e+03 MeV, keep only first value\n",
      "WARNING:  found duplicate energy for MAT9437/MF3/MT102 at 3.99939e+03 MeV, keep only first value\n",
      "WARNING:  found duplicate energy for MAT9437/MF3/MT102 at 4.00000e+03 MeV, keep only first value\n",
      "WARNING:  found duplicate energy for MAT9437/MF3/MT103 at 3.99392e+03 MeV, keep only first value\n",
      "WARNING:  found duplicate energy for MAT9437/MF3/MT103 at 3.99400e+03 MeV, keep only first value\n",
      "WARNING:  found duplicate energy for MAT9437/MF3/MT103 at 3.99439e+03 MeV, keep only first value\n",
      "WARNING:  found duplicate energy for MAT9437/MF3/MT103 at 3.99446e+03 MeV, keep only first value\n",
      "WARNING:  found duplicate energy for MAT9437/MF3/MT103 at 3.99453e+03 MeV, keep only first value\n",
      "WARNING:  found duplicate energy for MAT9437/MF3/MT103 at 3.99518e+03 MeV, keep only first value\n",
      "WARNING:  found duplicate energy for MAT9437/MF3/MT103 at 3.99662e+03 MeV, keep only first value\n",
      "WARNING:  found duplicate energy for MAT9437/MF3/MT103 at 3.99691e+03 MeV, keep only first value\n",
      "WARNING:  found duplicate energy for MAT9437/MF3/MT103 at 3.99756e+03 MeV, keep only first value\n",
      "WARNING:  found duplicate energy for MAT9437/MF3/MT103 at 3.99858e+03 MeV, keep only first value\n",
      "WARNING:  found duplicate energy for MAT9437/MF3/MT103 at 3.99939e+03 MeV, keep only first value\n",
      "WARNING:  found duplicate energy for MAT9437/MF3/MT103 at 4.00000e+03 MeV, keep only first value\n",
      "WARNING:  found duplicate energy for MAT9437/MF3/MT107 at 3.99392e+03 MeV, keep only first value\n",
      "WARNING:  found duplicate energy for MAT9437/MF3/MT107 at 3.99400e+03 MeV, keep only first value\n",
      "WARNING:  found duplicate energy for MAT9437/MF3/MT107 at 3.99439e+03 MeV, keep only first value\n",
      "WARNING:  found duplicate energy for MAT9437/MF3/MT107 at 3.99446e+03 MeV, keep only first value\n",
      "WARNING:  found duplicate energy for MAT9437/MF3/MT107 at 3.99453e+03 MeV, keep only first value\n",
      "WARNING:  found duplicate energy for MAT9437/MF3/MT107 at 3.99518e+03 MeV, keep only first value\n",
      "WARNING:  found duplicate energy for MAT9437/MF3/MT107 at 3.99662e+03 MeV, keep only first value\n",
      "WARNING:  found duplicate energy for MAT9437/MF3/MT107 at 3.99691e+03 MeV, keep only first value\n",
      "WARNING:  found duplicate energy for MAT9437/MF3/MT107 at 3.99756e+03 MeV, keep only first value\n",
      "WARNING:  found duplicate energy for MAT9437/MF3/MT107 at 3.99858e+03 MeV, keep only first value\n",
      "WARNING:  found duplicate energy for MAT9437/MF3/MT107 at 3.99939e+03 MeV, keep only first value\n",
      "WARNING:  found duplicate energy for MAT9437/MF3/MT107 at 4.00000e+03 MeV, keep only first value\n",
      "WARNING:  found duplicate energy for MAT9437/MF3/MT221 at 3.99392e+03 MeV, keep only first value\n",
      "WARNING:  found duplicate energy for MAT9437/MF3/MT221 at 3.99400e+03 MeV, keep only first value\n",
      "WARNING:  found duplicate energy for MAT9437/MF3/MT221 at 3.99439e+03 MeV, keep only first value\n",
      "WARNING:  found duplicate energy for MAT9437/MF3/MT221 at 3.99446e+03 MeV, keep only first value\n",
      "WARNING:  found duplicate energy for MAT9437/MF3/MT221 at 3.99453e+03 MeV, keep only first value\n",
      "WARNING:  found duplicate energy for MAT9437/MF3/MT221 at 3.99518e+03 MeV, keep only first value\n",
      "WARNING:  found duplicate energy for MAT9437/MF3/MT221 at 3.99662e+03 MeV, keep only first value\n",
      "WARNING:  found duplicate energy for MAT9437/MF3/MT221 at 3.99691e+03 MeV, keep only first value\n",
      "WARNING:  found duplicate energy for MAT9437/MF3/MT221 at 3.99756e+03 MeV, keep only first value\n",
      "WARNING:  found duplicate energy for MAT9437/MF3/MT221 at 3.99858e+03 MeV, keep only first value\n",
      "WARNING:  found duplicate energy for MAT9437/MF3/MT221 at 3.99939e+03 MeV, keep only first value\n",
      "WARNING:  found duplicate energy for MAT9437/MF3/MT221 at 4.00000e+03 MeV, keep only first value\n"
     ]
    }
   ],
   "source": [
    "tape = sandy.Endf6.from_file(file)\n",
    "xs = sandy.Xs.from_endf6(tape)"
   ]
  },
  {
   "cell_type": "markdown",
   "metadata": {},
   "source": [
    "Now, we apply perturbations according to the WIMS-69 energy grid, available on the [Serpent Wiki](http://serpent.vtt.fi/mediawiki/index.php/EPRI-CPM_69_group_structure).\n",
    "Still, any other energy grids would work just fine."
   ]
  },
  {
   "cell_type": "code",
   "execution_count": 6,
   "metadata": {
    "execution": {
     "iopub.execute_input": "2022-04-20T14:41:13.122176Z",
     "iopub.status.busy": "2022-04-20T14:41:13.121699Z",
     "iopub.status.idle": "2022-04-20T14:41:13.125818Z",
     "shell.execute_reply": "2022-04-20T14:41:13.126214Z"
    }
   },
   "outputs": [
    {
     "data": {
      "text/plain": [
       "array([1.0000e-05, 5.0000e-03, 1.0000e-02, 1.5000e-02, 2.0000e-02,\n",
       "       2.5000e-02, 3.0000e-02, 3.5000e-02, 4.2000e-02, 5.0000e-02,\n",
       "       5.8000e-02, 6.7000e-02, 8.0000e-02, 1.0000e-01, 1.4000e-01,\n",
       "       1.8000e-01, 2.2000e-01, 2.5000e-01, 2.8000e-01, 3.0000e-01,\n",
       "       3.2000e-01, 3.5000e-01, 4.0000e-01, 5.0000e-01, 6.2500e-01,\n",
       "       7.8000e-01, 8.5000e-01, 9.1000e-01, 9.5000e-01, 9.7200e-01,\n",
       "       9.9600e-01, 1.0200e+00, 1.0450e+00, 1.0710e+00, 1.0970e+00,\n",
       "       1.1230e+00, 1.1500e+00, 1.3000e+00, 1.5000e+00, 2.1000e+00,\n",
       "       2.6000e+00, 3.3000e+00, 4.0000e+00, 9.8770e+00, 1.5968e+01,\n",
       "       2.7700e+01, 4.8052e+01, 7.5501e+01, 1.4873e+02, 3.6726e+02,\n",
       "       9.0690e+02, 1.4251e+03, 2.2395e+03, 3.5191e+03, 5.5300e+03,\n",
       "       9.1180e+03, 1.5030e+04, 2.4780e+04, 4.0850e+04, 6.7340e+04,\n",
       "       1.1100e+05, 1.8300e+05, 3.0250e+05, 5.0000e+05, 8.2100e+05,\n",
       "       1.3530e+06, 2.2310e+06, 3.6790e+06, 6.0655e+06, 1.0000e+07])"
      ]
     },
     "execution_count": 1,
     "metadata": {},
     "output_type": "execute_result"
    }
   ],
   "source": [
    "egrid = sandy.energy_grids.WIMS69\n",
    "egrid"
   ]
  },
  {
   "cell_type": "markdown",
   "metadata": {},
   "source": [
    "The energy grid was converted in eV to be consistent with the cross section data."
   ]
  },
  {
   "cell_type": "markdown",
   "metadata": {},
   "source": [
    "### Use a `sandy.Pert` object"
   ]
  },
  {
   "cell_type": "markdown",
   "metadata": {},
   "source": [
    "SANDY uses a dedicated class to store (relative) perturbation coefficients."
   ]
  },
  {
   "cell_type": "code",
   "execution_count": 7,
   "metadata": {
    "execution": {
     "iopub.execute_input": "2022-04-20T14:41:13.134745Z",
     "iopub.status.busy": "2022-04-20T14:41:13.134225Z",
     "iopub.status.idle": "2022-04-20T14:41:13.136475Z",
     "shell.execute_reply": "2022-04-20T14:41:13.136860Z"
    }
   },
   "outputs": [
    {
     "data": {
      "text/plain": [
       "ENERGY\n",
       "(0.0, 10.0]     1.00000e+00\n",
       "(10.0, 100.0]   1.05000e+00\n",
       "dtype: float64"
      ]
     },
     "execution_count": 1,
     "metadata": {},
     "output_type": "execute_result"
    }
   ],
   "source": [
    "sandy.Pert([1, 1.05], index=[10, 100])"
   ]
  },
  {
   "cell_type": "markdown",
   "metadata": {},
   "source": [
    "In this example the `Pert` instance defines a multiplicative perturbation factor 1 (0%) for all xs values between 0 and 10 eV, and 1.05 (5%) for all xs between 10 and 100 eV."
   ]
  },
  {
   "cell_type": "markdown",
   "metadata": {},
   "source": [
    "### Apply perturbations to cross sections"
   ]
  },
  {
   "cell_type": "markdown",
   "metadata": {},
   "source": [
    "Below we apply perturbations to the fission cross section (MT=18) of Pu-239 (MAT=9437).\n",
    "For each energy bin in the WIMS grid, we increase all xs points in that energy range by 30%.\n",
    "The process is repreated iteratively and 69 perturbed xs objects are created."
   ]
  },
  {
   "cell_type": "code",
   "execution_count": 8,
   "metadata": {
    "execution": {
     "iopub.execute_input": "2022-04-20T14:41:13.140881Z",
     "iopub.status.busy": "2022-04-20T14:41:13.140014Z",
     "iopub.status.idle": "2022-04-20T14:41:13.141513Z",
     "shell.execute_reply": "2022-04-20T14:41:13.141900Z"
    }
   },
   "outputs": [],
   "source": [
    "mat = 9437\n",
    "mt = 18\n",
    "pert_coeff = 30 / 100  # large perturbationfor better visualization"
   ]
  },
  {
   "cell_type": "code",
   "execution_count": 9,
   "metadata": {
    "execution": {
     "iopub.execute_input": "2022-04-20T14:41:13.147917Z",
     "iopub.status.busy": "2022-04-20T14:41:13.147443Z",
     "iopub.status.idle": "2022-04-20T14:41:18.496793Z",
     "shell.execute_reply": "2022-04-20T14:41:18.497180Z"
    }
   },
   "outputs": [
    {
     "name": "stdout",
     "output_type": "stream",
     "text": [
      "perturbed xs in energy bin #1 [1.00000e-05, 5.00000e-03]\n",
      "perturbed xs in energy bin #2 [5.00000e-03, 1.00000e-02]\n",
      "perturbed xs in energy bin #3 [1.00000e-02, 1.50000e-02]\n",
      "perturbed xs in energy bin #4 [1.50000e-02, 2.00000e-02]\n",
      "perturbed xs in energy bin #5 [2.00000e-02, 2.50000e-02]\n",
      "perturbed xs in energy bin #6 [2.50000e-02, 3.00000e-02]\n",
      "perturbed xs in energy bin #7 [3.00000e-02, 3.50000e-02]\n",
      "perturbed xs in energy bin #8 [3.50000e-02, 4.20000e-02]\n",
      "perturbed xs in energy bin #9 [4.20000e-02, 5.00000e-02]\n",
      "perturbed xs in energy bin #10 [5.00000e-02, 5.80000e-02]\n",
      "perturbed xs in energy bin #11 [5.80000e-02, 6.70000e-02]\n",
      "perturbed xs in energy bin #12 [6.70000e-02, 8.00000e-02]\n",
      "perturbed xs in energy bin #13 [8.00000e-02, 1.00000e-01]\n",
      "perturbed xs in energy bin #14 [1.00000e-01, 1.40000e-01]\n",
      "perturbed xs in energy bin #15 [1.40000e-01, 1.80000e-01]\n",
      "perturbed xs in energy bin #16 [1.80000e-01, 2.20000e-01]\n",
      "perturbed xs in energy bin #17 [2.20000e-01, 2.50000e-01]\n",
      "perturbed xs in energy bin #18 [2.50000e-01, 2.80000e-01]\n",
      "perturbed xs in energy bin #19 [2.80000e-01, 3.00000e-01]\n",
      "perturbed xs in energy bin #20 [3.00000e-01, 3.20000e-01]\n",
      "perturbed xs in energy bin #21 [3.20000e-01, 3.50000e-01]\n",
      "perturbed xs in energy bin #22 [3.50000e-01, 4.00000e-01]\n",
      "perturbed xs in energy bin #23 [4.00000e-01, 5.00000e-01]\n",
      "perturbed xs in energy bin #24 [5.00000e-01, 6.25000e-01]\n",
      "perturbed xs in energy bin #25 [6.25000e-01, 7.80000e-01]\n",
      "perturbed xs in energy bin #26 [7.80000e-01, 8.50000e-01]\n",
      "perturbed xs in energy bin #27 [8.50000e-01, 9.10000e-01]\n",
      "perturbed xs in energy bin #28 [9.10000e-01, 9.50000e-01]\n",
      "perturbed xs in energy bin #29 [9.50000e-01, 9.72000e-01]\n",
      "perturbed xs in energy bin #30 [9.72000e-01, 9.96000e-01]\n",
      "perturbed xs in energy bin #31 [9.96000e-01, 1.02000e+00]\n",
      "perturbed xs in energy bin #32 [1.02000e+00, 1.04500e+00]\n",
      "perturbed xs in energy bin #33 [1.04500e+00, 1.07100e+00]\n",
      "perturbed xs in energy bin #34 [1.07100e+00, 1.09700e+00]\n",
      "perturbed xs in energy bin #35 [1.09700e+00, 1.12300e+00]\n",
      "perturbed xs in energy bin #36 [1.12300e+00, 1.15000e+00]\n",
      "perturbed xs in energy bin #37 [1.15000e+00, 1.30000e+00]\n",
      "perturbed xs in energy bin #38 [1.30000e+00, 1.50000e+00]\n",
      "perturbed xs in energy bin #39 [1.50000e+00, 2.10000e+00]\n",
      "perturbed xs in energy bin #40 [2.10000e+00, 2.60000e+00]\n",
      "perturbed xs in energy bin #41 [2.60000e+00, 3.30000e+00]\n",
      "perturbed xs in energy bin #42 [3.30000e+00, 4.00000e+00]\n",
      "perturbed xs in energy bin #43 [4.00000e+00, 9.87700e+00]\n",
      "perturbed xs in energy bin #44 [9.87700e+00, 1.59680e+01]\n",
      "perturbed xs in energy bin #45 [1.59680e+01, 2.77000e+01]\n",
      "perturbed xs in energy bin #46 [2.77000e+01, 4.80520e+01]\n",
      "perturbed xs in energy bin #47 [4.80520e+01, 7.55010e+01]\n",
      "perturbed xs in energy bin #48 [7.55010e+01, 1.48730e+02]\n",
      "perturbed xs in energy bin #49 [1.48730e+02, 3.67260e+02]\n",
      "perturbed xs in energy bin #50 [3.67260e+02, 9.06900e+02]\n",
      "perturbed xs in energy bin #51 [9.06900e+02, 1.42510e+03]\n",
      "perturbed xs in energy bin #52 [1.42510e+03, 2.23950e+03]\n",
      "perturbed xs in energy bin #53 [2.23950e+03, 3.51910e+03]\n",
      "perturbed xs in energy bin #54 [3.51910e+03, 5.53000e+03]\n",
      "perturbed xs in energy bin #55 [5.53000e+03, 9.11800e+03]\n",
      "perturbed xs in energy bin #56 [9.11800e+03, 1.50300e+04]\n",
      "perturbed xs in energy bin #57 [1.50300e+04, 2.47800e+04]\n",
      "perturbed xs in energy bin #58 [2.47800e+04, 4.08500e+04]\n",
      "perturbed xs in energy bin #59 [4.08500e+04, 6.73400e+04]\n",
      "perturbed xs in energy bin #60 [6.73400e+04, 1.11000e+05]\n",
      "perturbed xs in energy bin #61 [1.11000e+05, 1.83000e+05]\n",
      "perturbed xs in energy bin #62 [1.83000e+05, 3.02500e+05]\n",
      "perturbed xs in energy bin #63 [3.02500e+05, 5.00000e+05]\n",
      "perturbed xs in energy bin #64 [5.00000e+05, 8.21000e+05]\n",
      "perturbed xs in energy bin #65 [8.21000e+05, 1.35300e+06]\n",
      "perturbed xs in energy bin #66 [1.35300e+06, 2.23100e+06]\n",
      "perturbed xs in energy bin #67 [2.23100e+06, 3.67900e+06]\n",
      "perturbed xs in energy bin #68 [3.67900e+06, 6.06550e+06]\n",
      "perturbed xs in energy bin #69 [6.06550e+06, 1.00000e+07]\n"
     ]
    }
   ],
   "source": [
    "perturbed_xs = []\n",
    "for i in range(1, egrid.size):\n",
    "    e_start = egrid[i - 1]\n",
    "    e_stop = egrid[i]\n",
    "    index = egrid[i - 1: i + 1]\n",
    "    pert = sandy.Pert([1, 1 + pert_coeff], index=index)\n",
    "    print(f\"perturbed xs in energy bin #{i} [{e_start:.5e}, {e_stop:.5e}]\")\n",
    "    xspert = xs.custom_perturbation(mat, mt, pert)\n",
    "    perturbed_xs.append(xspert)"
   ]
  },
  {
   "cell_type": "markdown",
   "metadata": {},
   "source": [
    "### Plot the results"
   ]
  },
  {
   "cell_type": "code",
   "execution_count": 10,
   "metadata": {
    "execution": {
     "iopub.execute_input": "2022-04-20T14:41:18.514599Z",
     "iopub.status.busy": "2022-04-20T14:41:18.514095Z",
     "iopub.status.idle": "2022-04-20T14:41:21.164864Z",
     "shell.execute_reply": "2022-04-20T14:41:21.165260Z"
    }
   },
   "outputs": [
    {
     "data": {
      "image/png": "[encoded data removed]",
      "text/plain": [
       "<Figure size 800x400 with 1 Axes>"
      ]
     },
     "metadata": {},
     "output_type": "display_data"
    }
   ],
   "source": [
    "fig, ax = plt.subplots(figsize=(8, 4), dpi=100)\n",
    "ax = xs.data[(mat,mt)].plot(logx=True, logy=True, color=\"dodgerblue\", linewidth=2, ax=ax)\n",
    "for xspert in perturbed_xs:\n",
    "    ax = xspert.data[(mat,mt)].plot(logx=True, logy=True, alpha=0.5, linewidth=0.7, ax=ax)\n",
    "\n",
    "ax.set_ylabel(\"cross section / b\")\n",
    "ax.set_xlabel(\"energy / eV\")\n",
    "ax.set_xlim([1e-5, 1e7])\n",
    "ax.set_ylim([1e-1, 1e5])\n",
    "fig.tight_layout();"
   ]
  },
  {
   "cell_type": "markdown",
   "metadata": {},
   "source": [
    "### Write perturbed xs to file "
   ]
  },
  {
   "cell_type": "markdown",
   "metadata": {},
   "source": [
    "Finally, we can write each perturb cross section into a copy of the original PENDF file for further use."
   ]
  },
  {
   "cell_type": "code",
   "execution_count": 11,
   "metadata": {
    "execution": {
     "iopub.execute_input": "2022-04-20T14:41:21.190091Z",
     "iopub.status.busy": "2022-04-20T14:41:21.185025Z",
     "iopub.status.idle": "2022-04-20T14:41:24.896165Z",
     "shell.execute_reply": "2022-04-20T14:41:24.896575Z"
    }
   },
   "outputs": [],
   "source": [
    "ipert = 0\n",
    "tape_pert = perturbed_xs[ipert].to_endf6(tape)\n",
    "text = tape_pert.to_string()\n",
    "\n",
    "pert_file = os.path.join(os.getcwd(), folder, f\"copy_pert{ipert}.pendf\")\n",
    "with open(pert_file, \"w\") as f:\n",
    "    f.write(text)"
   ]
  }
 ],
 "metadata": {
  "kernelspec": {
   "display_name": "Python3 (sandy-devel)",
   "language": "python",
   "name": "sandy-devel"
  },
  "language_info": {
   "codemirror_mode": {
    "name": "ipython",
    "version": 3
   },
   "file_extension": ".py",
   "mimetype": "text/x-python",
   "name": "python",
   "nbconvert_exporter": "python",
   "pygments_lexer": "ipython3",
   "version": "3.6.15"
  }
 },
 "nbformat": 4,
 "nbformat_minor": 4
}
