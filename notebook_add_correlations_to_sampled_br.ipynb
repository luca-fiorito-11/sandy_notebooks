{
 "cells": [
  {
   "cell_type": "markdown",
   "id": "def94003-cbf5-4246-a98c-a238a927d67d",
   "metadata": {},
   "source": [
    "# Add correlations to the sampled branching ratios"
   ]
  },
  {
   "cell_type": "code",
   "execution_count": 1,
   "id": "aa9e9ba3-8393-4075-8cae-eb6b44ad607b",
   "metadata": {
    "execution": {
     "iopub.execute_input": "2022-05-13T14:45:06.031381Z",
     "iopub.status.busy": "2022-05-13T14:45:06.030126Z",
     "iopub.status.idle": "2022-05-13T14:45:06.307197Z",
     "shell.execute_reply": "2022-05-13T14:45:06.306731Z"
    }
   },
   "outputs": [],
   "source": [
    "import pandas as pd"
   ]
  },
  {
   "cell_type": "code",
   "execution_count": 2,
   "id": "30e2bab7-dd92-4fa6-a8d3-4e5edef5ff7e",
   "metadata": {
    "execution": {
     "iopub.execute_input": "2022-05-13T14:45:06.312867Z",
     "iopub.status.busy": "2022-05-13T14:45:06.311678Z",
     "iopub.status.idle": "2022-05-13T14:45:07.917203Z",
     "shell.execute_reply": "2022-05-13T14:45:07.916743Z"
    }
   },
   "outputs": [],
   "source": [
    "%%capture --no-stdout\n",
    "import sandy"
   ]
  },
  {
   "cell_type": "code",
   "execution_count": 3,
   "id": "9103c274-e7a3-433d-b877-2c3ff5525706",
   "metadata": {
    "execution": {
     "iopub.execute_input": "2022-05-13T14:45:07.921658Z",
     "iopub.status.busy": "2022-05-13T14:45:07.921174Z",
     "iopub.status.idle": "2022-05-13T14:45:07.924264Z",
     "shell.execute_reply": "2022-05-13T14:45:07.923842Z"
    }
   },
   "outputs": [],
   "source": [
    "import seaborn as sns\n",
    "import matplotlib.pyplot as plt\n",
    "sns.set_style(\"whitegrid\")"
   ]
  },
  {
   "cell_type": "markdown",
   "id": "3ee6fea1-defc-45a8-a4dd-9ce6e6b6ceb1",
   "metadata": {},
   "source": [
    "## Retrieve nuclear data file"
   ]
  },
  {
   "cell_type": "markdown",
   "id": "e518622c-f1df-4594-9db7-b6df73b3cd8a",
   "metadata": {},
   "source": [
    "First, we get the evaluated nuclear data file - in this case U-235 and U-236 from JEFF 3.3 - using get_endf6_file:"
   ]
  },
  {
   "cell_type": "code",
   "execution_count": 4,
   "id": "d771a248-6ea3-4db2-a100-c7b2e378de81",
   "metadata": {
    "execution": {
     "iopub.execute_input": "2022-05-13T14:45:07.928921Z",
     "iopub.status.busy": "2022-05-13T14:45:07.928452Z",
     "iopub.status.idle": "2022-05-13T14:45:09.544874Z",
     "shell.execute_reply": "2022-05-13T14:45:09.544416Z"
    }
   },
   "outputs": [],
   "source": [
    "endf6 = sandy.get_endf6_file(\"jeff_33\", \"decay\", [922350, 922360])"
   ]
  },
  {
   "cell_type": "markdown",
   "id": "c73f152a-247d-43dd-b297-9fd2fc27bd74",
   "metadata": {},
   "source": [
    "Then we can read the decay data information stored in the ENDF6 file and extract the values of the branching ratios and their associated uncertainties:"
   ]
  },
  {
   "cell_type": "code",
   "execution_count": 5,
   "id": "b598b8ce-8576-4428-b82a-affe43fadd21",
   "metadata": {
    "execution": {
     "iopub.execute_input": "2022-05-13T14:45:09.552013Z",
     "iopub.status.busy": "2022-05-13T14:45:09.548442Z",
     "iopub.status.idle": "2022-05-13T14:45:09.876856Z",
     "shell.execute_reply": "2022-05-13T14:45:09.877428Z"
    }
   },
   "outputs": [
    {
     "data": {
      "text/html": [
       "<div>\n",
       "<style scoped>\n",
       "    .dataframe tbody tr th:only-of-type {\n",
       "        vertical-align: middle;\n",
       "    }\n",
       "\n",
       "    .dataframe tbody tr th {\n",
       "        vertical-align: top;\n",
       "    }\n",
       "\n",
       "    .dataframe thead th {\n",
       "        text-align: right;\n",
       "    }\n",
       "</style>\n",
       "<table border=\"1\" class=\"dataframe\">\n",
       "  <thead>\n",
       "    <tr style=\"text-align: right;\">\n",
       "      <th></th>\n",
       "      <th></th>\n",
       "      <th></th>\n",
       "      <th>BR</th>\n",
       "      <th>DBR</th>\n",
       "    </tr>\n",
       "    <tr>\n",
       "      <th>ZAM</th>\n",
       "      <th>RTYP</th>\n",
       "      <th>RFS</th>\n",
       "      <th></th>\n",
       "      <th></th>\n",
       "    </tr>\n",
       "  </thead>\n",
       "  <tbody>\n",
       "    <tr>\n",
       "      <th rowspan=\"2\" valign=\"top\">922350</th>\n",
       "      <th>4</th>\n",
       "      <th>0</th>\n",
       "      <td>1.00000e+00</td>\n",
       "      <td>1.00000e-04</td>\n",
       "    </tr>\n",
       "    <tr>\n",
       "      <th>6</th>\n",
       "      <th>0</th>\n",
       "      <td>7.20000e-11</td>\n",
       "      <td>2.10000e-11</td>\n",
       "    </tr>\n",
       "    <tr>\n",
       "      <th rowspan=\"2\" valign=\"top\">922360</th>\n",
       "      <th>4</th>\n",
       "      <th>0</th>\n",
       "      <td>1.00000e+00</td>\n",
       "      <td>1.00000e-04</td>\n",
       "    </tr>\n",
       "    <tr>\n",
       "      <th>6</th>\n",
       "      <th>0</th>\n",
       "      <td>9.00000e-10</td>\n",
       "      <td>1.00000e-10</td>\n",
       "    </tr>\n",
       "  </tbody>\n",
       "</table>\n",
       "</div>"
      ],
      "text/plain": [
       "                         BR         DBR\n",
       "ZAM    RTYP RFS                        \n",
       "922350 4    0   1.00000e+00 1.00000e-04\n",
       "       6    0   7.20000e-11 2.10000e-11\n",
       "922360 4    0   1.00000e+00 1.00000e-04\n",
       "       6    0   9.00000e-10 1.00000e-10"
      ]
     },
     "execution_count": 1,
     "metadata": {},
     "output_type": "execute_result"
    }
   ],
   "source": [
    "rdd = sandy.DecayData.from_endf6(endf6)\n",
    "br = rdd.get_branching_ratio(with_uncertainty=True)\n",
    "br.data"
   ]
  },
  {
   "cell_type": "markdown",
   "id": "9d56494a-0466-463c-91fe-87e7025b1691",
   "metadata": {},
   "source": [
    "## Create covariance matrix"
   ]
  },
  {
   "cell_type": "markdown",
   "id": "d1cc54ec-a8c2-4d07-9b5f-85065c30f271",
   "metadata": {},
   "source": [
    "Assuming the uncertaities equal to the standard deviations, we can build the diagonal covariance matrix with relative standard deviations as follows:"
   ]
  },
  {
   "cell_type": "code",
   "execution_count": 6,
   "id": "f838234c-650c-4e8d-9639-75d47cc93fc0",
   "metadata": {
    "execution": {
     "iopub.execute_input": "2022-05-13T14:45:09.882166Z",
     "iopub.status.busy": "2022-05-13T14:45:09.881203Z",
     "iopub.status.idle": "2022-05-13T14:45:09.882701Z",
     "shell.execute_reply": "2022-05-13T14:45:09.883086Z"
    }
   },
   "outputs": [],
   "source": [
    "std = br.data.DBR / br.data.BR"
   ]
  },
  {
   "cell_type": "code",
   "execution_count": 7,
   "id": "40f1088a-d751-4547-b81e-78e8552b8940",
   "metadata": {
    "execution": {
     "iopub.execute_input": "2022-05-13T14:45:09.893882Z",
     "iopub.status.busy": "2022-05-13T14:45:09.893382Z",
     "iopub.status.idle": "2022-05-13T14:45:09.895762Z",
     "shell.execute_reply": "2022-05-13T14:45:09.896145Z"
    }
   },
   "outputs": [
    {
     "data": {
      "text/html": [
       "<div>\n",
       "<style scoped>\n",
       "    .dataframe tbody tr th:only-of-type {\n",
       "        vertical-align: middle;\n",
       "    }\n",
       "\n",
       "    .dataframe tbody tr th {\n",
       "        vertical-align: top;\n",
       "    }\n",
       "\n",
       "    .dataframe thead tr th {\n",
       "        text-align: left;\n",
       "    }\n",
       "\n",
       "    .dataframe thead tr:last-of-type th {\n",
       "        text-align: right;\n",
       "    }\n",
       "</style>\n",
       "<table border=\"1\" class=\"dataframe\">\n",
       "  <thead>\n",
       "    <tr>\n",
       "      <th></th>\n",
       "      <th></th>\n",
       "      <th>ZAM</th>\n",
       "      <th colspan=\"2\" halign=\"left\">922350</th>\n",
       "      <th colspan=\"2\" halign=\"left\">922360</th>\n",
       "    </tr>\n",
       "    <tr>\n",
       "      <th></th>\n",
       "      <th></th>\n",
       "      <th>RTYP</th>\n",
       "      <th>4</th>\n",
       "      <th>6</th>\n",
       "      <th>4</th>\n",
       "      <th>6</th>\n",
       "    </tr>\n",
       "    <tr>\n",
       "      <th></th>\n",
       "      <th></th>\n",
       "      <th>RFS</th>\n",
       "      <th>0</th>\n",
       "      <th>0</th>\n",
       "      <th>0</th>\n",
       "      <th>0</th>\n",
       "    </tr>\n",
       "    <tr>\n",
       "      <th>ZAM</th>\n",
       "      <th>RTYP</th>\n",
       "      <th>RFS</th>\n",
       "      <th></th>\n",
       "      <th></th>\n",
       "      <th></th>\n",
       "      <th></th>\n",
       "    </tr>\n",
       "  </thead>\n",
       "  <tbody>\n",
       "    <tr>\n",
       "      <th rowspan=\"2\" valign=\"top\">922350</th>\n",
       "      <th>4</th>\n",
       "      <th>0</th>\n",
       "      <td>1.00000e-08</td>\n",
       "      <td>0.00000e+00</td>\n",
       "      <td>0.00000e+00</td>\n",
       "      <td>0.00000e+00</td>\n",
       "    </tr>\n",
       "    <tr>\n",
       "      <th>6</th>\n",
       "      <th>0</th>\n",
       "      <td>0.00000e+00</td>\n",
       "      <td>8.50694e-02</td>\n",
       "      <td>0.00000e+00</td>\n",
       "      <td>0.00000e+00</td>\n",
       "    </tr>\n",
       "    <tr>\n",
       "      <th rowspan=\"2\" valign=\"top\">922360</th>\n",
       "      <th>4</th>\n",
       "      <th>0</th>\n",
       "      <td>0.00000e+00</td>\n",
       "      <td>0.00000e+00</td>\n",
       "      <td>1.00000e-08</td>\n",
       "      <td>0.00000e+00</td>\n",
       "    </tr>\n",
       "    <tr>\n",
       "      <th>6</th>\n",
       "      <th>0</th>\n",
       "      <td>0.00000e+00</td>\n",
       "      <td>0.00000e+00</td>\n",
       "      <td>0.00000e+00</td>\n",
       "      <td>1.23457e-02</td>\n",
       "    </tr>\n",
       "  </tbody>\n",
       "</table>\n",
       "</div>"
      ],
      "text/plain": [
       "ZAM                  922350                  922360            \n",
       "RTYP                      4           6           4           6\n",
       "RFS                       0           0           0           0\n",
       "ZAM    RTYP RFS                                                \n",
       "922350 4    0   1.00000e-08 0.00000e+00 0.00000e+00 0.00000e+00\n",
       "       6    0   0.00000e+00 8.50694e-02 0.00000e+00 0.00000e+00\n",
       "922360 4    0   0.00000e+00 0.00000e+00 1.00000e-08 0.00000e+00\n",
       "       6    0   0.00000e+00 0.00000e+00 0.00000e+00 1.23457e-02"
      ]
     },
     "execution_count": 1,
     "metadata": {},
     "output_type": "execute_result"
    }
   ],
   "source": [
    "cov = sandy.CategoryCov.from_stdev(std)\n",
    "cov.data"
   ]
  },
  {
   "cell_type": "markdown",
   "id": "4e83bb54-422a-4363-bc33-7ed86e8d3e3d",
   "metadata": {},
   "source": [
    "## Create perturbation coefficients"
   ]
  },
  {
   "cell_type": "code",
   "execution_count": 8,
   "id": "b56ebc1d-c3d5-4f05-9f30-11474493a8d6",
   "metadata": {
    "execution": {
     "iopub.execute_input": "2022-05-13T14:45:09.899749Z",
     "iopub.status.busy": "2022-05-13T14:45:09.899261Z",
     "iopub.status.idle": "2022-05-13T14:45:09.910548Z",
     "shell.execute_reply": "2022-05-13T14:45:09.910062Z"
    }
   },
   "outputs": [],
   "source": [
    "nsmp = 500\n",
    "coeff = cov.sampling(nsmp)"
   ]
  },
  {
   "cell_type": "code",
   "execution_count": 9,
   "id": "7ddb4745-0130-4e2d-8e0c-6e36a526ac6a",
   "metadata": {
    "execution": {
     "iopub.execute_input": "2022-05-13T14:45:09.919727Z",
     "iopub.status.busy": "2022-05-13T14:45:09.918699Z",
     "iopub.status.idle": "2022-05-13T14:45:09.921189Z",
     "shell.execute_reply": "2022-05-13T14:45:09.921560Z"
    }
   },
   "outputs": [
    {
     "data": {
      "text/html": [
       "<div>\n",
       "<style scoped>\n",
       "    .dataframe tbody tr th:only-of-type {\n",
       "        vertical-align: middle;\n",
       "    }\n",
       "\n",
       "    .dataframe tbody tr th {\n",
       "        vertical-align: top;\n",
       "    }\n",
       "\n",
       "    .dataframe thead tr th {\n",
       "        text-align: left;\n",
       "    }\n",
       "</style>\n",
       "<table border=\"1\" class=\"dataframe\">\n",
       "  <thead>\n",
       "    <tr>\n",
       "      <th>ZAM</th>\n",
       "      <th colspan=\"2\" halign=\"left\">922350</th>\n",
       "      <th colspan=\"2\" halign=\"left\">922360</th>\n",
       "    </tr>\n",
       "    <tr>\n",
       "      <th>RTYP</th>\n",
       "      <th>4</th>\n",
       "      <th>6</th>\n",
       "      <th>4</th>\n",
       "      <th>6</th>\n",
       "    </tr>\n",
       "    <tr>\n",
       "      <th>RFS</th>\n",
       "      <th>0</th>\n",
       "      <th>0</th>\n",
       "      <th>0</th>\n",
       "      <th>0</th>\n",
       "    </tr>\n",
       "  </thead>\n",
       "  <tbody>\n",
       "    <tr>\n",
       "      <th>0</th>\n",
       "      <td>1.00003e+00</td>\n",
       "      <td>9.40941e-01</td>\n",
       "      <td>1.00021e+00</td>\n",
       "      <td>1.07455e+00</td>\n",
       "    </tr>\n",
       "    <tr>\n",
       "      <th>1</th>\n",
       "      <td>1.00010e+00</td>\n",
       "      <td>4.11425e-01</td>\n",
       "      <td>9.99963e-01</td>\n",
       "      <td>1.06070e+00</td>\n",
       "    </tr>\n",
       "    <tr>\n",
       "      <th>2</th>\n",
       "      <td>9.99874e-01</td>\n",
       "      <td>8.83094e-01</td>\n",
       "      <td>1.00011e+00</td>\n",
       "      <td>9.05445e-01</td>\n",
       "    </tr>\n",
       "    <tr>\n",
       "      <th>3</th>\n",
       "      <td>9.99932e-01</td>\n",
       "      <td>1.26993e+00</td>\n",
       "      <td>1.00022e+00</td>\n",
       "      <td>1.01177e+00</td>\n",
       "    </tr>\n",
       "    <tr>\n",
       "      <th>4</th>\n",
       "      <td>1.00012e+00</td>\n",
       "      <td>1.34977e+00</td>\n",
       "      <td>1.00019e+00</td>\n",
       "      <td>8.30421e-01</td>\n",
       "    </tr>\n",
       "  </tbody>\n",
       "</table>\n",
       "</div>"
      ],
      "text/plain": [
       "ZAM       922350                  922360            \n",
       "RTYP           4           6           4           6\n",
       "RFS            0           0           0           0\n",
       "0    1.00003e+00 9.40941e-01 1.00021e+00 1.07455e+00\n",
       "1    1.00010e+00 4.11425e-01 9.99963e-01 1.06070e+00\n",
       "2    9.99874e-01 8.83094e-01 1.00011e+00 9.05445e-01\n",
       "3    9.99932e-01 1.26993e+00 1.00022e+00 1.01177e+00\n",
       "4    1.00012e+00 1.34977e+00 1.00019e+00 8.30421e-01"
      ]
     },
     "execution_count": 1,
     "metadata": {},
     "output_type": "execute_result"
    }
   ],
   "source": [
    "coeff.data.head()"
   ]
  },
  {
   "cell_type": "markdown",
   "id": "7feb9abd-a07f-40e7-b62e-8e890c2881b3",
   "metadata": {},
   "source": [
    "## Apply first perturbation coefficient to branching ratios"
   ]
  },
  {
   "cell_type": "markdown",
   "id": "86aabbd1-ac23-482e-8327-c4f291c53597",
   "metadata": {},
   "source": [
    "This step will be iteratively repeted for each perturbation coefficient to obtain nsmp perturbed branching ratios. The perturbation coefficients are givem as ratio values, e.g., 1.05 for a perturbation of +5%."
   ]
  },
  {
   "cell_type": "code",
   "execution_count": 10,
   "id": "99b93669-8b23-4a39-9d50-9984316000e1",
   "metadata": {
    "execution": {
     "iopub.execute_input": "2022-05-13T14:45:09.929512Z",
     "iopub.status.busy": "2022-05-13T14:45:09.928582Z",
     "iopub.status.idle": "2022-05-13T14:45:09.930097Z",
     "shell.execute_reply": "2022-05-13T14:45:09.930473Z"
    }
   },
   "outputs": [],
   "source": [
    "perturbation = coeff.data.T[0].rename(\"PERT\").to_frame()\n",
    "br_new = br.custom_perturbation(perturbation)\n"
   ]
  },
  {
   "cell_type": "markdown",
   "id": "3ccacc96-0e92-4d36-9aba-be0f614fac21",
   "metadata": {},
   "source": [
    "## Normalize branching ratios"
   ]
  },
  {
   "cell_type": "markdown",
   "id": "9c99adca-76a7-4238-b8d5-6918f146e483",
   "metadata": {},
   "source": [
    "The normalization method was implemented to apply the normalization condition to each row of `BranchingRatio.data`, in this way each set of samples wil respect the constraint of the sum of branching ratios equal to one."
   ]
  },
  {
   "cell_type": "code",
   "execution_count": 11,
   "id": "5ba583fb-603d-408a-b2ee-d7f61591ac32",
   "metadata": {
    "execution": {
     "iopub.execute_input": "2022-05-13T14:45:09.942121Z",
     "iopub.status.busy": "2022-05-13T14:45:09.941233Z",
     "iopub.status.idle": "2022-05-13T14:45:09.942835Z",
     "shell.execute_reply": "2022-05-13T14:45:09.943203Z"
    }
   },
   "outputs": [],
   "source": [
    "br_norm = br_new.normalize()"
   ]
  },
  {
   "cell_type": "markdown",
   "id": "e0d30a9d-b8eb-4a35-b0fb-4f4d63cf76cb",
   "metadata": {},
   "source": [
    "## Create an ENDF6 file with the perturbed nuclear data"
   ]
  },
  {
   "cell_type": "code",
   "execution_count": 12,
   "id": "6c393213-2a64-492b-bf48-acdffc93e94f",
   "metadata": {
    "execution": {
     "iopub.execute_input": "2022-05-13T14:45:09.950358Z",
     "iopub.status.busy": "2022-05-13T14:45:09.949254Z",
     "iopub.status.idle": "2022-05-13T14:45:10.336925Z",
     "shell.execute_reply": "2022-05-13T14:45:10.336469Z"
    }
   },
   "outputs": [],
   "source": [
    "rdd_new = br_norm.to_decaydata(rdd)\n",
    "endf6_new = rdd_new.to_endf6(endf6).to_file(\"perturbed_br\")"
   ]
  },
  {
   "cell_type": "markdown",
   "id": "6479ae9f-caf9-4150-9464-71845c596cda",
   "metadata": {},
   "source": [
    "## Comparison of correlation matrices of samples"
   ]
  },
  {
   "cell_type": "code",
   "execution_count": 13,
   "id": "2373ecec-2dc6-44df-b970-35cbe3466a93",
   "metadata": {
    "execution": {
     "iopub.execute_input": "2022-05-13T14:45:10.358249Z",
     "iopub.status.busy": "2022-05-13T14:45:10.348934Z",
     "iopub.status.idle": "2022-05-13T14:45:15.070868Z",
     "shell.execute_reply": "2022-05-13T14:45:15.070409Z"
    }
   },
   "outputs": [],
   "source": [
    "smp_no_corr = coeff.data * br.data.BR.values\n",
    "frames = []\n",
    "for i in range(nsmp):\n",
    "    perturbation = coeff.data.T[i].rename(\"PERT\").to_frame()\n",
    "    br_new = br.custom_perturbation(perturbation).normalize()\n",
    "    frames.append(br_new.data.BR.rename(f\"{i}\").to_frame().T)\n",
    "smp_corr = pd.concat(frames)"
   ]
  },
  {
   "cell_type": "code",
   "execution_count": 14,
   "id": "58f2670e-f094-4d42-acbe-d8d4d5b2c866",
   "metadata": {
    "execution": {
     "iopub.execute_input": "2022-05-13T14:45:15.088666Z",
     "iopub.status.busy": "2022-05-13T14:45:15.088170Z",
     "iopub.status.idle": "2022-05-13T14:45:15.644397Z",
     "shell.execute_reply": "2022-05-13T14:45:15.644790Z"
    }
   },
   "outputs": [
    {
     "data": {
      "image/png": "[encoded data removed]",
      "text/plain": [
       "<Figure size 1200x500 with 4 Axes>"
      ]
     },
     "metadata": {},
     "output_type": "display_data"
    }
   ],
   "source": [
    "fig, axes = plt.subplots(ncols=2, figsize=(12, 5), dpi=100)\n",
    "ax1, ax2 = axes\n",
    "\n",
    "sns.heatmap(smp_corr.corr(), cmap=\"bwr\", vmin=-1, vmax=1, ax=ax1)\n",
    "ax1.axhline(2, color='k')\n",
    "ax1.axvline(2, color='k')\n",
    "ax1.set_title(f'{nsmp} BR sampled with correlations')\n",
    "\n",
    "sns.heatmap(smp_no_corr.corr(), cmap=\"bwr\", vmin=-1, vmax=1, ax=ax2)\n",
    "ax2.axhline(2, color='k')\n",
    "ax2.axvline(2, color='k')\n",
    "ax2.set_title(f'{nsmp} BR sampled without correlations')\n",
    "\n",
    "fig.tight_layout()"
   ]
  }
 ],
 "metadata": {
  "kernelspec": {
   "display_name": "Python3 (sandy-devel)",
   "language": "python",
   "name": "sandy-devel"
  },
  "language_info": {
   "codemirror_mode": {
    "name": "ipython",
    "version": 3
   },
   "file_extension": ".py",
   "mimetype": "text/x-python",
   "name": "python",
   "nbconvert_exporter": "python",
   "pygments_lexer": "ipython3",
   "version": "3.6.15"
  }
 },
 "nbformat": 4,
 "nbformat_minor": 5
}
