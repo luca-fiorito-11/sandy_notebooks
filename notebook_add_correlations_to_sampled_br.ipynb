{
 "cells": [
  {
   "cell_type": "markdown",
   "id": "def94003-cbf5-4246-a98c-a238a927d67d",
   "metadata": {},
   "source": [
    "# Add correlations to the sampled branching ratios"
   ]
  },
  {
   "cell_type": "code",
   "execution_count": 1,
   "id": "aa9e9ba3-8393-4075-8cae-eb6b44ad607b",
   "metadata": {
    "execution": {
     "iopub.execute_input": "2023-09-08T20:02:20.033575Z",
     "iopub.status.busy": "2023-09-08T20:02:20.032977Z",
     "iopub.status.idle": "2023-09-08T20:02:20.302465Z",
     "shell.execute_reply": "2023-09-08T20:02:20.301786Z"
    }
   },
   "outputs": [],
   "source": [
    "import pandas as pd"
   ]
  },
  {
   "cell_type": "code",
   "execution_count": 2,
   "id": "30e2bab7-dd92-4fa6-a8d3-4e5edef5ff7e",
   "metadata": {
    "execution": {
     "iopub.execute_input": "2023-09-08T20:02:20.305780Z",
     "iopub.status.busy": "2023-09-08T20:02:20.305336Z",
     "iopub.status.idle": "2023-09-08T20:02:20.442734Z",
     "shell.execute_reply": "2023-09-08T20:02:20.442105Z"
    }
   },
   "outputs": [],
   "source": [
    "import sandy"
   ]
  },
  {
   "cell_type": "code",
   "execution_count": 3,
   "id": "9103c274-e7a3-433d-b877-2c3ff5525706",
   "metadata": {
    "execution": {
     "iopub.execute_input": "2023-09-08T20:02:20.446385Z",
     "iopub.status.busy": "2023-09-08T20:02:20.446165Z",
     "iopub.status.idle": "2023-09-08T20:02:20.997562Z",
     "shell.execute_reply": "2023-09-08T20:02:20.996902Z"
    }
   },
   "outputs": [],
   "source": [
    "import seaborn as sns\n",
    "import matplotlib.pyplot as plt"
   ]
  },
  {
   "cell_type": "markdown",
   "id": "3ee6fea1-defc-45a8-a4dd-9ce6e6b6ceb1",
   "metadata": {},
   "source": [
    "## Retrieve nuclear data file"
   ]
  },
  {
   "cell_type": "markdown",
   "id": "e518622c-f1df-4594-9db7-b6df73b3cd8a",
   "metadata": {},
   "source": [
    "First, we get the evaluated nuclear data file - in this case U-235 and U-236 from JEFF 3.3 - using get_endf6_file:"
   ]
  },
  {
   "cell_type": "code",
   "execution_count": 4,
   "id": "d771a248-6ea3-4db2-a100-c7b2e378de81",
   "metadata": {
    "execution": {
     "iopub.execute_input": "2023-09-08T20:02:21.001023Z",
     "iopub.status.busy": "2023-09-08T20:02:21.000591Z",
     "iopub.status.idle": "2023-09-08T20:02:21.711684Z",
     "shell.execute_reply": "2023-09-08T20:02:21.711036Z"
    }
   },
   "outputs": [],
   "source": [
    "endf6 = sandy.get_endf6_file(\"jeff_33\", \"decay\", [922350, 922360])"
   ]
  },
  {
   "cell_type": "markdown",
   "id": "c73f152a-247d-43dd-b297-9fd2fc27bd74",
   "metadata": {},
   "source": [
    "Then we can read the decay data information stored in the ENDF6 file and extract the values of the branching ratios and their associated uncertainties:"
   ]
  },
  {
   "cell_type": "code",
   "execution_count": 5,
   "id": "b598b8ce-8576-4428-b82a-affe43fadd21",
   "metadata": {
    "execution": {
     "iopub.execute_input": "2023-09-08T20:02:21.715054Z",
     "iopub.status.busy": "2023-09-08T20:02:21.714709Z",
     "iopub.status.idle": "2023-09-08T20:02:21.846410Z",
     "shell.execute_reply": "2023-09-08T20:02:21.845646Z"
    }
   },
   "outputs": [
    {
     "data": {
      "text/html": [
       "<div>\n",
       "<style scoped>\n",
       "    .dataframe tbody tr th:only-of-type {\n",
       "        vertical-align: middle;\n",
       "    }\n",
       "\n",
       "    .dataframe tbody tr th {\n",
       "        vertical-align: top;\n",
       "    }\n",
       "\n",
       "    .dataframe thead th {\n",
       "        text-align: right;\n",
       "    }\n",
       "</style>\n",
       "<table border=\"1\" class=\"dataframe\">\n",
       "  <thead>\n",
       "    <tr style=\"text-align: right;\">\n",
       "      <th></th>\n",
       "      <th></th>\n",
       "      <th></th>\n",
       "      <th>BR</th>\n",
       "      <th>DBR</th>\n",
       "    </tr>\n",
       "    <tr>\n",
       "      <th>ZAM</th>\n",
       "      <th>RTYP</th>\n",
       "      <th>RFS</th>\n",
       "      <th></th>\n",
       "      <th></th>\n",
       "    </tr>\n",
       "  </thead>\n",
       "  <tbody>\n",
       "    <tr>\n",
       "      <th rowspan=\"2\" valign=\"top\">922350</th>\n",
       "      <th>4</th>\n",
       "      <th>0</th>\n",
       "      <td>1.00000e+00</td>\n",
       "      <td>1.00000e-04</td>\n",
       "    </tr>\n",
       "    <tr>\n",
       "      <th>6</th>\n",
       "      <th>0</th>\n",
       "      <td>7.20000e-11</td>\n",
       "      <td>2.10000e-11</td>\n",
       "    </tr>\n",
       "    <tr>\n",
       "      <th rowspan=\"2\" valign=\"top\">922360</th>\n",
       "      <th>4</th>\n",
       "      <th>0</th>\n",
       "      <td>1.00000e+00</td>\n",
       "      <td>1.00000e-04</td>\n",
       "    </tr>\n",
       "    <tr>\n",
       "      <th>6</th>\n",
       "      <th>0</th>\n",
       "      <td>9.00000e-10</td>\n",
       "      <td>1.00000e-10</td>\n",
       "    </tr>\n",
       "  </tbody>\n",
       "</table>\n",
       "</div>"
      ],
      "text/plain": [
       "                         BR         DBR\n",
       "ZAM    RTYP RFS                        \n",
       "922350 4    0   1.00000e+00 1.00000e-04\n",
       "       6    0   7.20000e-11 2.10000e-11\n",
       "922360 4    0   1.00000e+00 1.00000e-04\n",
       "       6    0   9.00000e-10 1.00000e-10"
      ]
     },
     "execution_count": 5,
     "metadata": {},
     "output_type": "execute_result"
    }
   ],
   "source": [
    "rdd = sandy.DecayData.from_endf6(endf6)\n",
    "br = rdd.get_branching_ratio(with_uncertainty=True)\n",
    "br.data"
   ]
  },
  {
   "cell_type": "markdown",
   "id": "9d56494a-0466-463c-91fe-87e7025b1691",
   "metadata": {},
   "source": [
    "## Create covariance matrix"
   ]
  },
  {
   "cell_type": "markdown",
   "id": "d1cc54ec-a8c2-4d07-9b5f-85065c30f271",
   "metadata": {},
   "source": [
    "Assuming the uncertaities equal to the standard deviations, we can build the diagonal covariance matrix with relative standard deviations as follows:"
   ]
  },
  {
   "cell_type": "code",
   "execution_count": 6,
   "id": "f838234c-650c-4e8d-9639-75d47cc93fc0",
   "metadata": {
    "execution": {
     "iopub.execute_input": "2023-09-08T20:02:21.849723Z",
     "iopub.status.busy": "2023-09-08T20:02:21.849218Z",
     "iopub.status.idle": "2023-09-08T20:02:21.853336Z",
     "shell.execute_reply": "2023-09-08T20:02:21.852718Z"
    }
   },
   "outputs": [],
   "source": [
    "std = br.data.DBR / br.data.BR"
   ]
  },
  {
   "cell_type": "code",
   "execution_count": 7,
   "id": "40f1088a-d751-4547-b81e-78e8552b8940",
   "metadata": {
    "execution": {
     "iopub.execute_input": "2023-09-08T20:02:21.855685Z",
     "iopub.status.busy": "2023-09-08T20:02:21.855322Z",
     "iopub.status.idle": "2023-09-08T20:02:21.864654Z",
     "shell.execute_reply": "2023-09-08T20:02:21.864079Z"
    }
   },
   "outputs": [
    {
     "data": {
      "text/html": [
       "<div>\n",
       "<style scoped>\n",
       "    .dataframe tbody tr th:only-of-type {\n",
       "        vertical-align: middle;\n",
       "    }\n",
       "\n",
       "    .dataframe tbody tr th {\n",
       "        vertical-align: top;\n",
       "    }\n",
       "\n",
       "    .dataframe thead tr th {\n",
       "        text-align: left;\n",
       "    }\n",
       "\n",
       "    .dataframe thead tr:last-of-type th {\n",
       "        text-align: right;\n",
       "    }\n",
       "</style>\n",
       "<table border=\"1\" class=\"dataframe\">\n",
       "  <thead>\n",
       "    <tr>\n",
       "      <th></th>\n",
       "      <th></th>\n",
       "      <th>ZAM</th>\n",
       "      <th colspan=\"2\" halign=\"left\">922350</th>\n",
       "      <th colspan=\"2\" halign=\"left\">922360</th>\n",
       "    </tr>\n",
       "    <tr>\n",
       "      <th></th>\n",
       "      <th></th>\n",
       "      <th>RTYP</th>\n",
       "      <th>4</th>\n",
       "      <th>6</th>\n",
       "      <th>4</th>\n",
       "      <th>6</th>\n",
       "    </tr>\n",
       "    <tr>\n",
       "      <th></th>\n",
       "      <th></th>\n",
       "      <th>RFS</th>\n",
       "      <th>0</th>\n",
       "      <th>0</th>\n",
       "      <th>0</th>\n",
       "      <th>0</th>\n",
       "    </tr>\n",
       "    <tr>\n",
       "      <th>ZAM</th>\n",
       "      <th>RTYP</th>\n",
       "      <th>RFS</th>\n",
       "      <th></th>\n",
       "      <th></th>\n",
       "      <th></th>\n",
       "      <th></th>\n",
       "    </tr>\n",
       "  </thead>\n",
       "  <tbody>\n",
       "    <tr>\n",
       "      <th rowspan=\"2\" valign=\"top\">922350</th>\n",
       "      <th>4</th>\n",
       "      <th>0</th>\n",
       "      <td>1.00000e-08</td>\n",
       "      <td>0.00000e+00</td>\n",
       "      <td>0.00000e+00</td>\n",
       "      <td>0.00000e+00</td>\n",
       "    </tr>\n",
       "    <tr>\n",
       "      <th>6</th>\n",
       "      <th>0</th>\n",
       "      <td>0.00000e+00</td>\n",
       "      <td>8.50694e-02</td>\n",
       "      <td>0.00000e+00</td>\n",
       "      <td>0.00000e+00</td>\n",
       "    </tr>\n",
       "    <tr>\n",
       "      <th rowspan=\"2\" valign=\"top\">922360</th>\n",
       "      <th>4</th>\n",
       "      <th>0</th>\n",
       "      <td>0.00000e+00</td>\n",
       "      <td>0.00000e+00</td>\n",
       "      <td>1.00000e-08</td>\n",
       "      <td>0.00000e+00</td>\n",
       "    </tr>\n",
       "    <tr>\n",
       "      <th>6</th>\n",
       "      <th>0</th>\n",
       "      <td>0.00000e+00</td>\n",
       "      <td>0.00000e+00</td>\n",
       "      <td>0.00000e+00</td>\n",
       "      <td>1.23457e-02</td>\n",
       "    </tr>\n",
       "  </tbody>\n",
       "</table>\n",
       "</div>"
      ],
      "text/plain": [
       "ZAM                  922350                  922360            \n",
       "RTYP                      4           6           4           6\n",
       "RFS                       0           0           0           0\n",
       "ZAM    RTYP RFS                                                \n",
       "922350 4    0   1.00000e-08 0.00000e+00 0.00000e+00 0.00000e+00\n",
       "       6    0   0.00000e+00 8.50694e-02 0.00000e+00 0.00000e+00\n",
       "922360 4    0   0.00000e+00 0.00000e+00 1.00000e-08 0.00000e+00\n",
       "       6    0   0.00000e+00 0.00000e+00 0.00000e+00 1.23457e-02"
      ]
     },
     "execution_count": 7,
     "metadata": {},
     "output_type": "execute_result"
    }
   ],
   "source": [
    "cov = sandy.CategoryCov.from_stdev(std)\n",
    "cov.data"
   ]
  },
  {
   "cell_type": "markdown",
   "id": "4e83bb54-422a-4363-bc33-7ed86e8d3e3d",
   "metadata": {},
   "source": [
    "## Create perturbation coefficients"
   ]
  },
  {
   "cell_type": "code",
   "execution_count": 8,
   "id": "b56ebc1d-c3d5-4f05-9f30-11474493a8d6",
   "metadata": {
    "execution": {
     "iopub.execute_input": "2023-09-08T20:02:21.867905Z",
     "iopub.status.busy": "2023-09-08T20:02:21.867405Z",
     "iopub.status.idle": "2023-09-08T20:02:21.876109Z",
     "shell.execute_reply": "2023-09-08T20:02:21.875584Z"
    }
   },
   "outputs": [],
   "source": [
    "nsmp = 500\n",
    "coeff = cov.sampling(nsmp)"
   ]
  },
  {
   "cell_type": "code",
   "execution_count": 9,
   "id": "7ddb4745-0130-4e2d-8e0c-6e36a526ac6a",
   "metadata": {
    "execution": {
     "iopub.execute_input": "2023-09-08T20:02:21.878331Z",
     "iopub.status.busy": "2023-09-08T20:02:21.878043Z",
     "iopub.status.idle": "2023-09-08T20:02:21.890297Z",
     "shell.execute_reply": "2023-09-08T20:02:21.889749Z"
    }
   },
   "outputs": [
    {
     "data": {
      "text/html": [
       "<div>\n",
       "<style scoped>\n",
       "    .dataframe tbody tr th:only-of-type {\n",
       "        vertical-align: middle;\n",
       "    }\n",
       "\n",
       "    .dataframe tbody tr th {\n",
       "        vertical-align: top;\n",
       "    }\n",
       "\n",
       "    .dataframe thead th {\n",
       "        text-align: right;\n",
       "    }\n",
       "</style>\n",
       "<table border=\"1\" class=\"dataframe\">\n",
       "  <thead>\n",
       "    <tr style=\"text-align: right;\">\n",
       "      <th></th>\n",
       "      <th></th>\n",
       "      <th>SMP</th>\n",
       "      <th>0</th>\n",
       "      <th>1</th>\n",
       "      <th>2</th>\n",
       "      <th>3</th>\n",
       "      <th>4</th>\n",
       "      <th>5</th>\n",
       "      <th>6</th>\n",
       "      <th>7</th>\n",
       "      <th>8</th>\n",
       "      <th>9</th>\n",
       "      <th>...</th>\n",
       "      <th>490</th>\n",
       "      <th>491</th>\n",
       "      <th>492</th>\n",
       "      <th>493</th>\n",
       "      <th>494</th>\n",
       "      <th>495</th>\n",
       "      <th>496</th>\n",
       "      <th>497</th>\n",
       "      <th>498</th>\n",
       "      <th>499</th>\n",
       "    </tr>\n",
       "    <tr>\n",
       "      <th>ZAM</th>\n",
       "      <th>RTYP</th>\n",
       "      <th>RFS</th>\n",
       "      <th></th>\n",
       "      <th></th>\n",
       "      <th></th>\n",
       "      <th></th>\n",
       "      <th></th>\n",
       "      <th></th>\n",
       "      <th></th>\n",
       "      <th></th>\n",
       "      <th></th>\n",
       "      <th></th>\n",
       "      <th></th>\n",
       "      <th></th>\n",
       "      <th></th>\n",
       "      <th></th>\n",
       "      <th></th>\n",
       "      <th></th>\n",
       "      <th></th>\n",
       "      <th></th>\n",
       "      <th></th>\n",
       "      <th></th>\n",
       "      <th></th>\n",
       "    </tr>\n",
       "  </thead>\n",
       "  <tbody>\n",
       "    <tr>\n",
       "      <th rowspan=\"2\" valign=\"top\">922350</th>\n",
       "      <th>4</th>\n",
       "      <th>0</th>\n",
       "      <td>9.99854e-01</td>\n",
       "      <td>9.99999e-01</td>\n",
       "      <td>9.99920e-01</td>\n",
       "      <td>9.99969e-01</td>\n",
       "      <td>9.99778e-01</td>\n",
       "      <td>1.00006e+00</td>\n",
       "      <td>1.00007e+00</td>\n",
       "      <td>1.00002e+00</td>\n",
       "      <td>9.99937e-01</td>\n",
       "      <td>1.00012e+00</td>\n",
       "      <td>...</td>\n",
       "      <td>1.00003e+00</td>\n",
       "      <td>1.00001e+00</td>\n",
       "      <td>1.00010e+00</td>\n",
       "      <td>1.00013e+00</td>\n",
       "      <td>1.00002e+00</td>\n",
       "      <td>1.00007e+00</td>\n",
       "      <td>1.00006e+00</td>\n",
       "      <td>9.99827e-01</td>\n",
       "      <td>9.99968e-01</td>\n",
       "      <td>1.00023e+00</td>\n",
       "    </tr>\n",
       "    <tr>\n",
       "      <th>6</th>\n",
       "      <th>0</th>\n",
       "      <td>1.48723e+00</td>\n",
       "      <td>6.49341e-01</td>\n",
       "      <td>5.96567e-01</td>\n",
       "      <td>1.13689e+00</td>\n",
       "      <td>9.35401e-01</td>\n",
       "      <td>8.93298e-01</td>\n",
       "      <td>6.98180e-01</td>\n",
       "      <td>8.08003e-01</td>\n",
       "      <td>1.11580e+00</td>\n",
       "      <td>1.09910e+00</td>\n",
       "      <td>...</td>\n",
       "      <td>5.95381e-01</td>\n",
       "      <td>1.05960e+00</td>\n",
       "      <td>8.41571e-01</td>\n",
       "      <td>9.61397e-01</td>\n",
       "      <td>9.65263e-01</td>\n",
       "      <td>8.86846e-01</td>\n",
       "      <td>9.56547e-01</td>\n",
       "      <td>8.00446e-01</td>\n",
       "      <td>1.06413e+00</td>\n",
       "      <td>1.15194e+00</td>\n",
       "    </tr>\n",
       "    <tr>\n",
       "      <th rowspan=\"2\" valign=\"top\">922360</th>\n",
       "      <th>4</th>\n",
       "      <th>0</th>\n",
       "      <td>9.99968e-01</td>\n",
       "      <td>9.99844e-01</td>\n",
       "      <td>9.99913e-01</td>\n",
       "      <td>1.00015e+00</td>\n",
       "      <td>9.99930e-01</td>\n",
       "      <td>9.99852e-01</td>\n",
       "      <td>1.00005e+00</td>\n",
       "      <td>1.00015e+00</td>\n",
       "      <td>9.99913e-01</td>\n",
       "      <td>1.00006e+00</td>\n",
       "      <td>...</td>\n",
       "      <td>9.99834e-01</td>\n",
       "      <td>1.00013e+00</td>\n",
       "      <td>9.99995e-01</td>\n",
       "      <td>1.00001e+00</td>\n",
       "      <td>1.00003e+00</td>\n",
       "      <td>9.99914e-01</td>\n",
       "      <td>1.00013e+00</td>\n",
       "      <td>9.99876e-01</td>\n",
       "      <td>1.00010e+00</td>\n",
       "      <td>1.00011e+00</td>\n",
       "    </tr>\n",
       "    <tr>\n",
       "      <th>6</th>\n",
       "      <th>0</th>\n",
       "      <td>9.77454e-01</td>\n",
       "      <td>1.10629e+00</td>\n",
       "      <td>8.55275e-01</td>\n",
       "      <td>1.09718e+00</td>\n",
       "      <td>8.21469e-01</td>\n",
       "      <td>1.01047e+00</td>\n",
       "      <td>1.17481e+00</td>\n",
       "      <td>6.91924e-01</td>\n",
       "      <td>8.35564e-01</td>\n",
       "      <td>9.34261e-01</td>\n",
       "      <td>...</td>\n",
       "      <td>9.30061e-01</td>\n",
       "      <td>1.02036e+00</td>\n",
       "      <td>8.12477e-01</td>\n",
       "      <td>1.06312e+00</td>\n",
       "      <td>9.23053e-01</td>\n",
       "      <td>1.21540e+00</td>\n",
       "      <td>9.25094e-01</td>\n",
       "      <td>1.10859e+00</td>\n",
       "      <td>1.00327e+00</td>\n",
       "      <td>1.13730e+00</td>\n",
       "    </tr>\n",
       "  </tbody>\n",
       "</table>\n",
       "<p>4 rows × 500 columns</p>\n",
       "</div>"
      ],
      "text/plain": [
       "SMP                     0           1           2           3           4    \\\n",
       "ZAM    RTYP RFS                                                               \n",
       "922350 4    0   9.99854e-01 9.99999e-01 9.99920e-01 9.99969e-01 9.99778e-01   \n",
       "       6    0   1.48723e+00 6.49341e-01 5.96567e-01 1.13689e+00 9.35401e-01   \n",
       "922360 4    0   9.99968e-01 9.99844e-01 9.99913e-01 1.00015e+00 9.99930e-01   \n",
       "       6    0   9.77454e-01 1.10629e+00 8.55275e-01 1.09718e+00 8.21469e-01   \n",
       "\n",
       "SMP                     5           6           7           8           9    \\\n",
       "ZAM    RTYP RFS                                                               \n",
       "922350 4    0   1.00006e+00 1.00007e+00 1.00002e+00 9.99937e-01 1.00012e+00   \n",
       "       6    0   8.93298e-01 6.98180e-01 8.08003e-01 1.11580e+00 1.09910e+00   \n",
       "922360 4    0   9.99852e-01 1.00005e+00 1.00015e+00 9.99913e-01 1.00006e+00   \n",
       "       6    0   1.01047e+00 1.17481e+00 6.91924e-01 8.35564e-01 9.34261e-01   \n",
       "\n",
       "SMP              ...         490         491         492         493  \\\n",
       "ZAM    RTYP RFS  ...                                                   \n",
       "922350 4    0    ... 1.00003e+00 1.00001e+00 1.00010e+00 1.00013e+00   \n",
       "       6    0    ... 5.95381e-01 1.05960e+00 8.41571e-01 9.61397e-01   \n",
       "922360 4    0    ... 9.99834e-01 1.00013e+00 9.99995e-01 1.00001e+00   \n",
       "       6    0    ... 9.30061e-01 1.02036e+00 8.12477e-01 1.06312e+00   \n",
       "\n",
       "SMP                     494         495         496         497         498  \\\n",
       "ZAM    RTYP RFS                                                               \n",
       "922350 4    0   1.00002e+00 1.00007e+00 1.00006e+00 9.99827e-01 9.99968e-01   \n",
       "       6    0   9.65263e-01 8.86846e-01 9.56547e-01 8.00446e-01 1.06413e+00   \n",
       "922360 4    0   1.00003e+00 9.99914e-01 1.00013e+00 9.99876e-01 1.00010e+00   \n",
       "       6    0   9.23053e-01 1.21540e+00 9.25094e-01 1.10859e+00 1.00327e+00   \n",
       "\n",
       "SMP                     499  \n",
       "ZAM    RTYP RFS              \n",
       "922350 4    0   1.00023e+00  \n",
       "       6    0   1.15194e+00  \n",
       "922360 4    0   1.00011e+00  \n",
       "       6    0   1.13730e+00  \n",
       "\n",
       "[4 rows x 500 columns]"
      ]
     },
     "execution_count": 9,
     "metadata": {},
     "output_type": "execute_result"
    }
   ],
   "source": [
    "coeff.data"
   ]
  },
  {
   "cell_type": "markdown",
   "id": "7feb9abd-a07f-40e7-b62e-8e890c2881b3",
   "metadata": {},
   "source": [
    "## Apply first perturbation coefficient to branching ratios"
   ]
  },
  {
   "cell_type": "markdown",
   "id": "86aabbd1-ac23-482e-8327-c4f291c53597",
   "metadata": {},
   "source": [
    "This step will be iteratively repeted for each perturbation coefficient to obtain nsmp perturbed branching ratios. The perturbation coefficients are givem as ratio values, e.g., 1.05 for a perturbation of +5%."
   ]
  },
  {
   "cell_type": "code",
   "execution_count": 10,
   "id": "99b93669-8b23-4a39-9d50-9984316000e1",
   "metadata": {
    "execution": {
     "iopub.execute_input": "2023-09-08T20:02:21.893371Z",
     "iopub.status.busy": "2023-09-08T20:02:21.893014Z",
     "iopub.status.idle": "2023-09-08T20:02:21.899283Z",
     "shell.execute_reply": "2023-09-08T20:02:21.898708Z"
    }
   },
   "outputs": [],
   "source": [
    "perturbation = coeff.data[0].rename(\"PERT\").to_frame()\n",
    "br_new = br.custom_perturbation(perturbation)"
   ]
  },
  {
   "cell_type": "markdown",
   "id": "3ccacc96-0e92-4d36-9aba-be0f614fac21",
   "metadata": {},
   "source": [
    "## Normalize branching ratios"
   ]
  },
  {
   "cell_type": "markdown",
   "id": "9c99adca-76a7-4238-b8d5-6918f146e483",
   "metadata": {},
   "source": [
    "The normalization method was implemented to apply the normalization condition to each row of `BranchingRatio.data`, in this way each set of samples wil respect the constraint of the sum of branching ratios equal to one."
   ]
  },
  {
   "cell_type": "code",
   "execution_count": 11,
   "id": "5ba583fb-603d-408a-b2ee-d7f61591ac32",
   "metadata": {
    "execution": {
     "iopub.execute_input": "2023-09-08T20:02:21.902343Z",
     "iopub.status.busy": "2023-09-08T20:02:21.901992Z",
     "iopub.status.idle": "2023-09-08T20:02:21.909192Z",
     "shell.execute_reply": "2023-09-08T20:02:21.908659Z"
    }
   },
   "outputs": [],
   "source": [
    "br_norm = br_new.normalize()"
   ]
  },
  {
   "cell_type": "markdown",
   "id": "e0d30a9d-b8eb-4a35-b0fb-4f4d63cf76cb",
   "metadata": {},
   "source": [
    "## Create an ENDF6 file with the perturbed nuclear data"
   ]
  },
  {
   "cell_type": "code",
   "execution_count": 12,
   "id": "6c393213-2a64-492b-bf48-acdffc93e94f",
   "metadata": {
    "execution": {
     "iopub.execute_input": "2023-09-08T20:02:21.911707Z",
     "iopub.status.busy": "2023-09-08T20:02:21.911357Z",
     "iopub.status.idle": "2023-09-08T20:02:22.042705Z",
     "shell.execute_reply": "2023-09-08T20:02:22.042070Z"
    }
   },
   "outputs": [],
   "source": [
    "rdd_new = br_norm.to_decaydata(rdd)\n",
    "endf6_new = rdd_new.to_endf6(endf6).to_file(\"perturbed_br\")"
   ]
  },
  {
   "cell_type": "markdown",
   "id": "6479ae9f-caf9-4150-9464-71845c596cda",
   "metadata": {},
   "source": [
    "## Comparison of correlation matrices of samples"
   ]
  },
  {
   "cell_type": "code",
   "execution_count": 13,
   "id": "2373ecec-2dc6-44df-b970-35cbe3466a93",
   "metadata": {
    "execution": {
     "iopub.execute_input": "2023-09-08T20:02:22.045834Z",
     "iopub.status.busy": "2023-09-08T20:02:22.045613Z",
     "iopub.status.idle": "2023-09-08T20:02:24.650575Z",
     "shell.execute_reply": "2023-09-08T20:02:24.649922Z"
    }
   },
   "outputs": [],
   "source": [
    "smp_no_corr = coeff.data.T * br.data.BR.values\n",
    "frames = []\n",
    "for i in range(nsmp):\n",
    "    perturbation = coeff.data[i].rename(\"PERT\").to_frame()\n",
    "    br_new = br.custom_perturbation(perturbation).normalize()\n",
    "    frames.append(br_new.data.BR.rename(f\"{i}\").to_frame().T)\n",
    "smp_corr = pd.concat(frames)"
   ]
  },
  {
   "cell_type": "code",
   "execution_count": 14,
   "id": "58f2670e-f094-4d42-acbe-d8d4d5b2c866",
   "metadata": {
    "execution": {
     "iopub.execute_input": "2023-09-08T20:02:24.654075Z",
     "iopub.status.busy": "2023-09-08T20:02:24.653647Z",
     "iopub.status.idle": "2023-09-08T20:02:25.243694Z",
     "shell.execute_reply": "2023-09-08T20:02:25.242873Z"
    }
   },
   "outputs": [
    {
     "data": {
      "image/png": "[encoded data removed]",
      "text/plain": [
       "<Figure size 1200x500 with 4 Axes>"
      ]
     },
     "metadata": {},
     "output_type": "display_data"
    }
   ],
   "source": [
    "fig, axes = plt.subplots(ncols=2, figsize=(12, 5), dpi=100)\n",
    "ax1, ax2 = axes\n",
    "\n",
    "sns.heatmap(smp_corr.corr(), cmap=\"bwr\", vmin=-1, vmax=1, ax=ax1)\n",
    "ax1.axhline(2, color='k')\n",
    "ax1.axvline(2, color='k')\n",
    "ax1.set_title(f'{nsmp} BR sampled with correlations')\n",
    "\n",
    "sns.heatmap(smp_no_corr.corr(), cmap=\"bwr\", vmin=-1, vmax=1, ax=ax2)\n",
    "ax2.axhline(2, color='k')\n",
    "ax2.axvline(2, color='k')\n",
    "ax2.set_title(f'{nsmp} BR sampled without correlations')\n",
    "\n",
    "fig.tight_layout()"
   ]
  }
 ],
 "metadata": {
  "kernelspec": {
   "display_name": "Python [conda env:sandy-v1.0] *",
   "language": "python",
   "name": "conda-env-sandy-v1.0-py"
  },
  "language_info": {
   "codemirror_mode": {
    "name": "ipython",
    "version": 3
   },
   "file_extension": ".py",
   "mimetype": "text/x-python",
   "name": "python",
   "nbconvert_exporter": "python",
   "pygments_lexer": "ipython3",
   "version": "3.11.5"
  }
 },
 "nbformat": 4,
 "nbformat_minor": 5
}
