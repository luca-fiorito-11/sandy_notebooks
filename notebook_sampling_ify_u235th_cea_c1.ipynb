{
 "cells": [
  {
   "cell_type": "markdown",
   "id": "46d48b51-b649-4bc7-875b-648dcd6d2f56",
   "metadata": {},
   "source": [
    "# Create perturbed FY files using CEA conservative (C1) evaluation"
   ]
  },
  {
   "cell_type": "code",
   "execution_count": 1,
   "id": "80083589-cecb-4332-8aa9-02278c5a9663",
   "metadata": {
    "execution": {
     "iopub.execute_input": "2024-01-18T18:59:54.266094Z",
     "iopub.status.busy": "2024-01-18T18:59:54.265901Z",
     "iopub.status.idle": "2024-01-18T18:59:54.866738Z",
     "shell.execute_reply": "2024-01-18T18:59:54.866192Z"
    }
   },
   "outputs": [],
   "source": [
    "import sandy\n",
    "from os.path import join, dirname\n",
    "import pandas as pd\n",
    "import numpy as np\n",
    "import random, sys"
   ]
  },
  {
   "cell_type": "markdown",
   "id": "a7f2d039-5285-4b0e-9f84-55294a747dce",
   "metadata": {},
   "source": [
    "## Extract FYs and covariance data for U235 thermal fission"
   ]
  },
  {
   "cell_type": "code",
   "execution_count": 2,
   "id": "ae456535-ba24-4747-a180-e60926d26fa2",
   "metadata": {
    "execution": {
     "iopub.execute_input": "2024-01-18T18:59:54.869378Z",
     "iopub.status.busy": "2024-01-18T18:59:54.868916Z",
     "iopub.status.idle": "2024-01-18T18:59:55.120249Z",
     "shell.execute_reply": "2024-01-18T18:59:55.119635Z"
    }
   },
   "outputs": [],
   "source": [
    "path = join(dirname(sandy.__file__), 'appendix', 'fission_yields')\n",
    "\n",
    "file_eval = r\"mixt_cea-jeff33_u_235_th_eval_c1.stn\"\n",
    "file_cov = r\"mixt_cea-jeff33_u_235_th_ind_cov_mat_c1\"\n",
    "tape = sandy.Endf6.from_file(join(path, file_eval))\n",
    "nfpy = sandy.Fy.from_endf6(tape)\n",
    "\n",
    "idx = nfpy.data.query(f\"E==0.0253 & MT==454\").index\n",
    "ifyth = nfpy.data.loc[idx]\n",
    "\n",
    "cov = pd.read_csv(join(path, file_cov), sep=r\"\\s+\", header=None)\n",
    "cov.index = cov.columns = pd.Index(ifyth.ZAP)\n",
    "cov = sandy.CategoryCov(cov)"
   ]
  },
  {
   "cell_type": "markdown",
   "id": "3c338b9d-f74b-4f20-922e-37f04c0326e2",
   "metadata": {},
   "source": [
    "## Generate perturbation coefficients and write them to file"
   ]
  },
  {
   "cell_type": "code",
   "execution_count": 3,
   "id": "57d4f1b7-2762-4153-a814-9fe09c3fe994",
   "metadata": {
    "execution": {
     "iopub.execute_input": "2024-01-18T18:59:55.123053Z",
     "iopub.status.busy": "2024-01-18T18:59:55.122672Z",
     "iopub.status.idle": "2024-01-18T18:59:55.225657Z",
     "shell.execute_reply": "2024-01-18T18:59:55.224970Z"
    }
   },
   "outputs": [
    {
     "name": "stderr",
     "output_type": "stream",
     "text": [
      "WARNING:  Large condition number of covariance matrix: 5.12e+11\n"
     ]
    }
   ],
   "source": [
    "seed = random.randrange(2**32 - 1)    # create a seed\n",
    "seed = 1444271359                     # or use always the same\n",
    "nsmp = 10                             # sample size\n",
    "smp = cov.sampling(nsmp, seed=seed)"
   ]
  },
  {
   "cell_type": "code",
   "execution_count": 4,
   "id": "a0aaa60b-0c9f-4993-91ea-e66db301e0f5",
   "metadata": {
    "execution": {
     "iopub.execute_input": "2024-01-18T18:59:55.228814Z",
     "iopub.status.busy": "2024-01-18T18:59:55.228394Z",
     "iopub.status.idle": "2024-01-18T18:59:55.706963Z",
     "shell.execute_reply": "2024-01-18T18:59:55.706357Z"
    }
   },
   "outputs": [],
   "source": [
    "with pd.ExcelWriter('PERT_92235TH_MF8_MT454.xlsx') as writer:\n",
    "    pd.DataFrame([[seed]]).to_excel(writer, sheet_name='SEED', columns=None, index=False)\n",
    "    smp.data.to_excel(writer, sheet_name='IFY_TH')"
   ]
  },
  {
   "cell_type": "markdown",
   "id": "ea504633-a1fc-462b-8808-9a45f8361d52",
   "metadata": {},
   "source": [
    "## Read coefficients from perturbation file and generate random FY ENDF-6 files"
   ]
  },
  {
   "cell_type": "markdown",
   "id": "17d1ac55-f384-4484-a0bb-7a4cc2dee76b",
   "metadata": {},
   "source": [
    "Skip the part above if you already have the file of perturbations."
   ]
  },
  {
   "cell_type": "code",
   "execution_count": 5,
   "id": "632bbf34-9030-4b70-bc5b-51501b3dff77",
   "metadata": {
    "execution": {
     "iopub.execute_input": "2024-01-18T18:59:55.709771Z",
     "iopub.status.busy": "2024-01-18T18:59:55.709378Z",
     "iopub.status.idle": "2024-01-18T18:59:55.821139Z",
     "shell.execute_reply": "2024-01-18T18:59:55.820532Z"
    }
   },
   "outputs": [],
   "source": [
    "smp = pd.read_excel(\"PERT_92235TH_MF8_MT454.xlsx\", sheet_name=\"IFY_TH\", index_col=0)\n",
    "smp = sandy.Samples(smp)"
   ]
  },
  {
   "cell_type": "code",
   "execution_count": 6,
   "id": "ee52ce9c-f451-409c-b686-9bf83a446728",
   "metadata": {
    "execution": {
     "iopub.execute_input": "2024-01-18T18:59:55.823834Z",
     "iopub.status.busy": "2024-01-18T18:59:55.823463Z",
     "iopub.status.idle": "2024-01-18T18:59:55.964744Z",
     "shell.execute_reply": "2024-01-18T18:59:55.964158Z"
    }
   },
   "outputs": [],
   "source": [
    "path = join(dirname(sandy.__file__), 'appendix', 'fission_yields')\n",
    "\n",
    "file_eval = r\"mixt_cea-jeff33_u_235_th_eval_c1.stn\"\n",
    "tape = sandy.Endf6.from_file(join(path, file_eval))\n",
    "nfpy = sandy.Fy.from_endf6(tape)\n",
    "idx_ify = nfpy.data.query(f\"E==0.0253 & MT==454\").index\n",
    "idx_cfy = nfpy.data.query(f\"E==0.0253 & MT==459\").index"
   ]
  },
  {
   "cell_type": "code",
   "execution_count": 7,
   "id": "b52f4587-052f-4bcf-96ee-aeea456829b6",
   "metadata": {
    "execution": {
     "iopub.execute_input": "2024-01-18T18:59:55.967360Z",
     "iopub.status.busy": "2024-01-18T18:59:55.966978Z",
     "iopub.status.idle": "2024-01-18T19:01:00.740541Z",
     "shell.execute_reply": "2024-01-18T19:01:00.739931Z"
    }
   },
   "outputs": [],
   "source": [
    "tape_rdd = sandy.get_endf6_file(\"jeff_33\", \"decay\", \"all\")\n",
    "rdd = sandy.DecayData.from_endf6(tape_rdd)  # this can take a while"
   ]
  },
  {
   "cell_type": "code",
   "execution_count": 8,
   "id": "ced64de5-69c9-4571-90f1-4b6d2394f2ff",
   "metadata": {
    "execution": {
     "iopub.execute_input": "2024-01-18T19:01:00.743212Z",
     "iopub.status.busy": "2024-01-18T19:01:00.742801Z",
     "iopub.status.idle": "2024-01-18T19:01:50.263781Z",
     "shell.execute_reply": "2024-01-18T19:01:50.263181Z"
    }
   },
   "outputs": [
    {
     "name": "stdout",
     "output_type": "stream",
     "text": [
      "writing file 'u235_fy_cea_c1_0.jeff33'...\n"
     ]
    },
    {
     "name": "stdout",
     "output_type": "stream",
     "text": [
      "writing file 'u235_fy_cea_c1_1.jeff33'...\n"
     ]
    },
    {
     "name": "stdout",
     "output_type": "stream",
     "text": [
      "writing file 'u235_fy_cea_c1_2.jeff33'...\n"
     ]
    },
    {
     "name": "stdout",
     "output_type": "stream",
     "text": [
      "writing file 'u235_fy_cea_c1_3.jeff33'...\n"
     ]
    },
    {
     "name": "stdout",
     "output_type": "stream",
     "text": [
      "writing file 'u235_fy_cea_c1_4.jeff33'...\n"
     ]
    },
    {
     "name": "stdout",
     "output_type": "stream",
     "text": [
      "writing file 'u235_fy_cea_c1_5.jeff33'...\n"
     ]
    },
    {
     "name": "stdout",
     "output_type": "stream",
     "text": [
      "writing file 'u235_fy_cea_c1_6.jeff33'...\n"
     ]
    },
    {
     "name": "stdout",
     "output_type": "stream",
     "text": [
      "writing file 'u235_fy_cea_c1_7.jeff33'...\n"
     ]
    },
    {
     "name": "stdout",
     "output_type": "stream",
     "text": [
      "writing file 'u235_fy_cea_c1_8.jeff33'...\n"
     ]
    },
    {
     "name": "stdout",
     "output_type": "stream",
     "text": [
      "writing file 'u235_fy_cea_c1_9.jeff33'...\n"
     ]
    }
   ],
   "source": [
    "smp_min = 0   # write ENDF-6 file only in the sample range [smp_min, smp_max]\n",
    "smp_max = 9\n",
    "file_template = \"u235_fy_cea_c1_{}.jeff33\"\n",
    "for ismp in range(smp_min, smp_max+1):\n",
    "    file = file_template.format(ismp)\n",
    "    f = sandy.Fy(nfpy.data.copy())\n",
    "    f.data.loc[idx_ify, \"DFY\"] = f.data.loc[idx_ify, \"FY\"]            # just for me, i copy the original IFYs where uncertainties should be, so i can compare them to the perturbed ones (anyways I don't use uncertainties)\n",
    "    f.data.loc[idx_cfy, \"DFY\"] = f.data.loc[idx_cfy, \"FY\"]            # same but for CFYs\n",
    "    f.data.loc[idx_ify, \"FY\"] *= smp.data[ismp].values                # IMPORTANT, this does not update the CFYs, which in random ENDF-6 file are inconsistent with the perturbed IFYs\n",
    "    f = f.apply_qmatrix(922350, 0.0253, rdd, keep_fy_index=True)      # Run this if you want to update the CFYs (slower), or else comment it out\n",
    "    print(f\"writing file '{file}'...\")\n",
    "    f.to_endf6(tape).to_file(file)"
   ]
  }
 ],
 "metadata": {
  "kernelspec": {
   "display_name": "sandy-devel",
   "language": "python",
   "name": "sandy-devel"
  },
  "language_info": {
   "codemirror_mode": {
    "name": "ipython",
    "version": 3
   },
   "file_extension": ".py",
   "mimetype": "text/x-python",
   "name": "python",
   "nbconvert_exporter": "python",
   "pygments_lexer": "ipython3",
   "version": "3.12.1"
  }
 },
 "nbformat": 4,
 "nbformat_minor": 5
}
